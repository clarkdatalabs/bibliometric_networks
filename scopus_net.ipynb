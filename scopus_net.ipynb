{
 "cells": [
  {
   "cell_type": "markdown",
   "metadata": {},
   "source": [
    "<h2>Loading Data</h2>\n",
    "    \n",
    "This script is specific to a file for a query exported by <a href = \"https://www.scopus.com/search/form.uri?display=basic\"> SCOPUS </a> with references. The file is organized such a way that for each row, there is a column value which lists all references specific to the source identified in the row. References must be paresed to distinquish a relatable and identifying title for a source, such that it can be added to a list of nodes. Edges are defined by pairs of values, where each new title is assigned an integer index. "
   ]
  },
  {
   "cell_type": "code",
   "execution_count": null,
   "metadata": {
    "scrolled": false
   },
   "outputs": [],
   "source": [
    "import csv\n",
    "\n",
    "csv_name = 'SCOPUS_complexsystems_economics.csv'\n",
    "\n",
    "with open(csv_name) as csvfile:\n",
    "    reader = csv.DictReader(csvfile)\n",
    "    # each row contains information for a source\n",
    "    elist = []\n",
    "    nlist = {} # key:index, value:title\n",
    "    tlist = []\n",
    "    \n",
    "    index = 0\n",
    "    for row in reader:\n",
    "        # add node with unique identifier\n",
    "        N1 = row['Title']\n",
    "        if N1 not in tlist: \n",
    "            tlist.append(N1)\n",
    "            e1 = index\n",
    "            nlist[index] = N1\n",
    "            index = index + 1\n",
    "        # add an edge for each source and its references\n",
    "        refs = row['References'].split(';')\n",
    "        for ref in refs: \n",
    "            # find Title in reference\n",
    "            title = ref[0:ref.find('(')]\n",
    "            authors = \"\"\n",
    "            while (title.find('.,') != -1): \n",
    "                authors = authors + title[0:title.find('.,')]\n",
    "                title = title[title.find('.,') + 2:]\n",
    "            N2 = title\n",
    "            if 'https://' not in title and 'http://' not in title and title != \" \" and title != \"\": \n",
    "                # only include journal-type references \n",
    "                N2 = title\n",
    "                if N2 not in tlist: \n",
    "                    tlist.append(N2)\n",
    "                    e2 = index\n",
    "                    nlist[index] = N2\n",
    "                    index = index + 1\n",
    "                    edge = (e1,e2) # e1 references e2\n",
    "                    elist.append(edge)"
   ]
  },
  {
   "cell_type": "markdown",
   "metadata": {},
   "source": [
    "<h2>Pruning the Network</h2> "
   ]
  },
  {
   "cell_type": "code",
   "execution_count": null,
   "metadata": {},
   "outputs": [],
   "source": [
    "import networkx as nx\n",
    "\n",
    "G = nx.Graph \n",
    "G.add_edges_from(elist)\n",
    "\n",
    "num_nodes = len(tlist)\n",
    "\n",
    "for i in range(num_nodes): \n",
    "    degree = G.degree[i]\n",
    "    if degree == 1: \n",
    "        G.remove_node(i)\n",
    "        \n",
    "# save a new variable for edge list \n",
    "elist = G.edges "
   ]
  },
  {
   "cell_type": "code",
   "execution_count": null,
   "metadata": {},
   "outputs": [],
   "source": []
  },
  {
   "cell_type": "code",
   "execution_count": null,
   "metadata": {},
   "outputs": [],
   "source": []
  }
 ],
 "metadata": {
  "kernelspec": {
   "display_name": "Python 3",
   "language": "python",
   "name": "python3"
  },
  "language_info": {
   "codemirror_mode": {
    "name": "ipython",
    "version": 3
   },
   "file_extension": ".py",
   "mimetype": "text/x-python",
   "name": "python",
   "nbconvert_exporter": "python",
   "pygments_lexer": "ipython3",
   "version": "3.7.2"
  }
 },
 "nbformat": 4,
 "nbformat_minor": 2
}
