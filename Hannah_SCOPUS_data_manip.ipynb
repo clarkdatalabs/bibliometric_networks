{
 "cells": [
  {
   "cell_type": "code",
   "execution_count": 1,
   "metadata": {
    "scrolled": false
   },
   "outputs": [
    {
     "ename": "KeyError",
     "evalue": "'Title'",
     "output_type": "error",
     "traceback": [
      "\u001b[0;31m---------------------------------------------------------------------------\u001b[0m",
      "\u001b[0;31mKeyError\u001b[0m                                  Traceback (most recent call last)",
      "\u001b[0;32m<ipython-input-1-ad429df6f127>\u001b[0m in \u001b[0;36m<module>\u001b[0;34m()\u001b[0m\n\u001b[1;32m     19\u001b[0m     \u001b[0;32mfor\u001b[0m \u001b[0mrow\u001b[0m \u001b[0;32min\u001b[0m \u001b[0mreader\u001b[0m\u001b[0;34m:\u001b[0m\u001b[0;34m\u001b[0m\u001b[0m\n\u001b[1;32m     20\u001b[0m         \u001b[0;31m# add node with unique identifier\u001b[0m\u001b[0;34m\u001b[0m\u001b[0;34m\u001b[0m\u001b[0m\n\u001b[0;32m---> 21\u001b[0;31m         \u001b[0mN1\u001b[0m \u001b[0;34m=\u001b[0m \u001b[0mrow\u001b[0m\u001b[0;34m[\u001b[0m\u001b[0;34m'Title'\u001b[0m\u001b[0;34m]\u001b[0m\u001b[0;34m\u001b[0m\u001b[0m\n\u001b[0m\u001b[1;32m     22\u001b[0m         \u001b[0;32mif\u001b[0m \u001b[0mN1\u001b[0m \u001b[0;32mnot\u001b[0m \u001b[0;32min\u001b[0m \u001b[0mtlist\u001b[0m\u001b[0;34m:\u001b[0m\u001b[0;34m\u001b[0m\u001b[0m\n\u001b[1;32m     23\u001b[0m             \u001b[0mtlist\u001b[0m\u001b[0;34m.\u001b[0m\u001b[0mappend\u001b[0m\u001b[0;34m(\u001b[0m\u001b[0mN1\u001b[0m\u001b[0;34m)\u001b[0m\u001b[0;34m\u001b[0m\u001b[0m\n",
      "\u001b[0;31mKeyError\u001b[0m: 'Title'"
     ]
    }
   ],
   "source": [
    "import csv\n",
    "import networkx as nx\n",
    "import numpy as np\n",
    "import pandas as pd\n",
    "\n",
    "G = nx.Graph() \n",
    "\n",
    "with open('SCOPUS_complexsystems_economics.csv') as csvfile:\n",
    "    reader = csv.DictReader(csvfile)\n",
    "    # each row contains information for a source\n",
    "    elist = []\n",
    "    nlist = {} # key:index, value:title\n",
    "    tlist = []\n",
    "    \n",
    "    index = 0\n",
    "    e1 = 0\n",
    "    e2 = 0\n",
    "    \n",
    "    for row in reader:\n",
    "        # add node with unique identifier\n",
    "        N1 = row['Title']\n",
    "        if N1 not in tlist: \n",
    "            tlist.append(N1)\n",
    "            e1 = index\n",
    "            nlist[index] = N1\n",
    "            index = index + 1\n",
    "        else: \n",
    "            # find the e1 index by searching the nlist to find the title \n",
    "            print(N1)\n",
    "            for i, t in nlist.items(): \n",
    "                if t == N1: \n",
    "                    e1 = i\n",
    "            \n",
    "        # add an edge for each source and its references\n",
    "        refs = row['References'].split(';')\n",
    "        for ref in refs: \n",
    "            # find Title in reference\n",
    "            title = ref[0:ref.find('(')]\n",
    "            authors = \"\"\n",
    "            while (title.find('.,') != -1): \n",
    "                authors = authors + title[0:title.find('.,')]\n",
    "                title = title[title.find('.,') + 2:]\n",
    "            N2 = title\n",
    "            if 'https://' not in title and 'http://' not in title and title != \" \" and title != \"\": \n",
    "                # only include journal-type references \n",
    "                N2 = title\n",
    "                if N2 not in tlist: \n",
    "                    tlist.append(N2)\n",
    "                    e2 = index\n",
    "                    nlist[e2] = N2\n",
    "                    index = index + 1\n",
    "                else:\n",
    "                    # find the e1 index by searching the nlist to find the title \n",
    "                    for i, t in nlist.items(): \n",
    "                        if t == N1: \n",
    "                            e2 = i\n",
    "                            \n",
    "                edge = [e1,e2] # e1 references e2\n",
    "                elist.append(edge)\n",
    "                            \n",
    "                    \n",
    "G.add_edges_from(elist)\n",
    "print(len(G.edges()))"
   ]
  },
  {
   "cell_type": "code",
   "execution_count": 105,
   "metadata": {
    "scrolled": true
   },
   "outputs": [
    {
     "name": "stdout",
     "output_type": "stream",
     "text": [
      "[]\n"
     ]
    }
   ],
   "source": [
    "Gprime = G\n",
    "to_remove = []\n",
    "for e in Gprime.edges(): \n",
    "    if e[1] == e[0]:\n",
    "        to_remove.append(e)\n",
    "Gprime.remove_edges_from(to_remove)\n",
    "\n",
    "nodes_to_remove = []\n",
    "for n in G.nodes(): \n",
    "    if G.degree(n) == 1: \n",
    "        nodes_to_remove.append(n)\n",
    "G.remove_nodes_from(nodes_to_remove)\n",
    "#print(G.edges())\n",
    "print(G.edges())"
   ]
  },
  {
   "cell_type": "markdown",
   "metadata": {},
   "source": [
    "- pip install holoviews \n",
    "- pip install bokeh "
   ]
  },
  {
   "cell_type": "code",
   "execution_count": null,
   "metadata": {
    "scrolled": true
   },
   "outputs": [],
   "source": [
    "import holoviews as hv\n",
    "from holoviews import opts \n",
    "\n",
    "hv.extension('bokeh')\n",
    "\n",
    "sources = []\n",
    "targets = []\n",
    "\n",
    "for e in G.edges(): \n",
    "    print(e)\n",
    "    print(e[0])\n",
    "    print(e[1])\n",
    "    sources.append(e[0])\n",
    "    targets.append(e[1])\n",
    "    \n",
    "simple_graph = hv.Graph(((sources,targets),))\n",
    "simple_graph.opts(padding=0.1)"
   ]
  },
  {
   "cell_type": "code",
   "execution_count": null,
   "metadata": {},
   "outputs": [],
   "source": [
    "print(sources)"
   ]
  },
  {
   "cell_type": "code",
   "execution_count": null,
   "metadata": {},
   "outputs": [],
   "source": []
  },
  {
   "cell_type": "code",
   "execution_count": 81,
   "metadata": {},
   "outputs": [
    {
     "name": "stdout",
     "output_type": "stream",
     "text": [
      "[(0, 1), (0, 2), (1, 2), (2, 3)]\n"
     ]
    }
   ],
   "source": [
    "G = nx.Graph()\n",
    "G.add_edge(0,1)\n",
    "G.add_edge(1,2)\n",
    "G.add_edge(0,2)\n",
    "G.add_edge(2,3)\n",
    "print(G.edges())"
   ]
  },
  {
   "cell_type": "code",
   "execution_count": 83,
   "metadata": {},
   "outputs": [
    {
     "name": "stdout",
     "output_type": "stream",
     "text": [
      "[(2, 3)]\n"
     ]
    }
   ],
   "source": [
    "G.remove_nodes_from([0,1])\n",
    "print(G.edges())"
   ]
  },
  {
   "cell_type": "code",
   "execution_count": null,
   "metadata": {},
   "outputs": [],
   "source": []
  }
 ],
 "metadata": {
  "kernelspec": {
   "display_name": "Python 2",
   "language": "python",
   "name": "python2"
  },
  "language_info": {
   "codemirror_mode": {
    "name": "ipython",
    "version": 2
   },
   "file_extension": ".py",
   "mimetype": "text/x-python",
   "name": "python",
   "nbconvert_exporter": "python",
   "pygments_lexer": "ipython2",
   "version": "2.7.15"
  }
 },
 "nbformat": 4,
 "nbformat_minor": 2
}
