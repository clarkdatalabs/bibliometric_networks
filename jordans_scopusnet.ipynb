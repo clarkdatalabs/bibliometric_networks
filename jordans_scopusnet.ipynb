{
 "cells": [
  {
   "cell_type": "code",
   "execution_count": null,
   "metadata": {
    "collapsed": true
   },
   "outputs": [],
   "source": [
    "import csv\n",
    "import networkx as nx\n",
    "\n",
    "G = nx.Graph()\n",
    "\n",
    "\n",
    "with open('SCOPUS_complexsystems_economics.csv') as csvfile:\n",
    "    reader = csv.DictReader(csvfile)\n",
    "    # each row contains information for a source\n",
    "    elist = []\n",
    "    nlist = {} # key:index, value:title\n",
    "    tlist = []\n",
    "    \n",
    "    index = 0\n",
    "    for row in reader:\n",
    "        # add node with unique identifier\n",
    "        N1 = row['Title']\n",
    "        if N1 not in tlist: \n",
    "            tlist.append(N1)\n",
    "            e1 = index\n",
    "            nlist[index] = N1\n",
    "            index = index + 1\n",
    "        # add an edge for each source and its references\n",
    "        refs = row['References'].split(';')\n",
    "        for ref in refs: \n",
    "            # find Title in reference\n",
    "            title = ref[0:ref.find('(')]\n",
    "            authors = \"\"\n",
    "            while (title.find('.,') != -1): \n",
    "                authors = authors + title[0:title.find('.,')]\n",
    "                title = title[title.find('.,') + 2:]\n",
    "            N2 = title\n",
    "            if 'https://' not in title and 'http://' not in title and title != \" \" and title != \"\": \n",
    "                # only include journal-type references \n",
    "                N2 = title\n",
    "                if N2 not in tlist: \n",
    "                    tlist.append(N2)\n",
    "                    e2 = index\n",
    "                    nlist[index] = N2\n",
    "                    index = index + 1\n",
    "                    edge = (e1,e2) # e1 references e2\n",
    "                    elist.append(edge)\n",
    "                    \n",
    "G.add_edges_from(elist)\n",
    "nx.draw(G)\n",
    "\n",
    "pos = nx.spring_layout(G,k=0.15,iterations=20)\n",
    "nx.draw(G)"
   ]
  }
 ],
 "metadata": {
  "kernelspec": {
   "display_name": "Python 3",
   "language": "python",
   "name": "python3"
  },
  "language_info": {
   "codemirror_mode": {
    "name": "ipython",
    "version": 3
   },
   "file_extension": ".py",
   "mimetype": "text/x-python",
   "name": "python",
   "nbconvert_exporter": "python",
   "pygments_lexer": "ipython3",
   "version": "3.6.8"
  }
 },
 "nbformat": 4,
 "nbformat_minor": 2
}
