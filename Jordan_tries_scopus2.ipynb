{
 "cells": [
  {
   "cell_type": "code",
   "execution_count": 2,
   "metadata": {},
   "outputs": [
    {
     "name": "stdout",
     "output_type": "stream",
     "text": [
      "Collecting package metadata: done\n",
      "Solving environment: done\n",
      "\n",
      "## Package Plan ##\n",
      "\n",
      "  environment location: /Users/Jordan_Earnest/miniconda3/envs/py37withholoviews\n",
      "\n",
      "  added / updated specs:\n",
      "    - holoviews\n",
      "    - python=3.6.0\n",
      "\n",
      "\n",
      "The following packages will be downloaded:\n",
      "\n",
      "    package                    |            build\n",
      "    ---------------------------|-----------------\n",
      "    appnope-0.1.0              |   py36hf537a9a_0           8 KB\n",
      "    backcall-0.1.0             |           py36_0          19 KB\n",
      "    bleach-3.1.0               |           py36_0         224 KB\n",
      "    bokeh-1.0.4                |           py36_0         5.4 MB\n",
      "    certifi-2019.3.9           |           py36_0         155 KB\n",
      "    cycler-0.10.0              |   py36hfc81398_0          13 KB\n",
      "    decorator-4.3.2            |           py36_0          17 KB\n",
      "    defusedxml-0.5.0           |           py36_1          29 KB\n",
      "    entrypoints-0.3            |           py36_0          12 KB\n",
      "    freetype-2.8               |       h12048fb_1         840 KB\n",
      "    holoviews-1.11.3           |             py_0         3.2 MB\n",
      "    icu-54.1                   |                0        10.9 MB\n",
      "    ipykernel-5.1.0            |   py36h39e3cac_0         156 KB\n",
      "    ipython-7.1.1              |   py36h39e3cac_0         1.1 MB\n",
      "    ipython_genutils-0.2.0     |   py36h241746c_0          39 KB\n",
      "    ipywidgets-7.4.2           |           py36_0         151 KB\n",
      "    jedi-0.13.3                |           py36_0         234 KB\n",
      "    jinja2-2.10                |           py36_0         184 KB\n",
      "    jsonschema-3.0.1           |           py36_0          88 KB\n",
      "    jupyter-1.0.0              |           py36_7           6 KB\n",
      "    jupyter_client-5.2.4       |           py36_0         127 KB\n",
      "    jupyter_console-6.0.0      |           py36_0          35 KB\n",
      "    jupyter_core-4.4.0         |           py36_0          63 KB\n",
      "    kiwisolver-1.0.1           |   py36h0a44026_0          56 KB\n",
      "    markupsafe-1.1.1           |   py36h1de35cc_0          28 KB\n",
      "    matplotlib-2.2.2           |   py36ha7267d0_0         6.7 MB\n",
      "    mistune-0.8.4              |   py36h1de35cc_0          54 KB\n",
      "    mkl_fft-1.0.10             |   py36h5e564d8_0         156 KB\n",
      "    mkl_random-1.0.2           |   py36h27c97d8_0         382 KB\n",
      "    nbformat-4.4.0             |   py36h827af21_0         138 KB\n",
      "    notebook-5.7.6             |           py36_0         7.3 MB\n",
      "    numpy-1.16.2               |   py36hacdab7b_0          49 KB\n",
      "    numpy-base-1.16.2          |   py36h6575580_0         4.2 MB\n",
      "    olefile-0.46               |           py36_0          48 KB\n",
      "    openssl-1.0.2r             |       h1de35cc_0         3.0 MB\n",
      "    packaging-19.0             |           py36_0          37 KB\n",
      "    pandocfilters-1.4.2        |           py36_1          13 KB\n",
      "    parso-0.3.4                |           py36_0         121 KB\n",
      "    pexpect-4.6.0              |           py36_0          77 KB\n",
      "    pickleshare-0.7.5          |           py36_0          12 KB\n",
      "    pillow-4.2.1               |   py36h0263179_0         509 KB\n",
      "    pip-19.0.3                 |           py36_0         1.9 MB\n",
      "    prometheus_client-0.6.0    |           py36_0          69 KB\n",
      "    prompt_toolkit-2.0.9       |           py36_0         491 KB\n",
      "    ptyprocess-0.6.0           |           py36_0          23 KB\n",
      "    pygments-2.3.1             |           py36_0         1.4 MB\n",
      "    pyparsing-2.3.1            |           py36_0         105 KB\n",
      "    pyqt-5.6.0                 |   py36h655552a_6         4.2 MB\n",
      "    pyrsistent-0.14.11         |   py36h1de35cc_0          88 KB\n",
      "    python-3.6.0               |                0        11.7 MB\n",
      "    python-dateutil-2.8.0      |           py36_0         281 KB\n",
      "    pytz-2018.9                |           py36_0         261 KB\n",
      "    pyviz_comms-0.7.0          |           py36_0          17 KB\n",
      "    pyyaml-3.13                |   py36h1de35cc_0         160 KB\n",
      "    pyzmq-18.0.0               |   py36h0a44026_0         443 KB\n",
      "    qt-5.6.2                   |                2        66.2 MB\n",
      "    qtconsole-4.4.3            |           py36_0         157 KB\n",
      "    readline-6.2               |                2         274 KB\n",
      "    send2trash-1.5.0           |           py36_0          16 KB\n",
      "    setuptools-40.8.0          |           py36_0         622 KB\n",
      "    sip-4.18.1                 |   py36h0a44026_2         242 KB\n",
      "    six-1.12.0                 |           py36_0          22 KB\n",
      "    sqlite-3.13.0              |                0         1.4 MB\n",
      "    terminado-0.8.1            |           py36_1          21 KB\n",
      "    testpath-0.4.2             |           py36_0          91 KB\n",
      "    tk-8.5.18                  |                0         1.9 MB\n",
      "    tornado-6.0.1              |   py36h1de35cc_0         641 KB\n",
      "    traitlets-4.3.2            |   py36h65bd3ce_0         131 KB\n",
      "    wcwidth-0.1.7              |   py36h8c6ec74_0          25 KB\n",
      "    webencodings-0.5.1         |           py36_1          19 KB\n",
      "    wheel-0.33.1               |           py36_0          39 KB\n",
      "    widgetsnbextension-3.4.2   |           py36_0         1.7 MB\n",
      "    ------------------------------------------------------------\n",
      "                                           Total:       140.3 MB\n",
      "\n",
      "The following NEW packages will be INSTALLED:\n",
      "\n",
      "  appnope            pkgs/main/osx-64::appnope-0.1.0-py36hf537a9a_0\n",
      "  attrs              pkgs/main/noarch::attrs-19.1.0-py_0\n",
      "  backcall           pkgs/main/osx-64::backcall-0.1.0-py36_0\n",
      "  blas               pkgs/main/osx-64::blas-1.0-mkl\n",
      "  bleach             pkgs/main/osx-64::bleach-3.1.0-py36_0\n",
      "  bokeh              pkgs/main/osx-64::bokeh-1.0.4-py36_0\n",
      "  ca-certificates    pkgs/main/osx-64::ca-certificates-2019.1.23-0\n",
      "  certifi            pkgs/main/osx-64::certifi-2019.3.9-py36_0\n",
      "  cycler             pkgs/main/osx-64::cycler-0.10.0-py36hfc81398_0\n",
      "  decorator          pkgs/main/osx-64::decorator-4.3.2-py36_0\n",
      "  defusedxml         pkgs/main/osx-64::defusedxml-0.5.0-py36_1\n",
      "  entrypoints        pkgs/main/osx-64::entrypoints-0.3-py36_0\n",
      "  freetype           pkgs/main/osx-64::freetype-2.8-h12048fb_1\n",
      "  holoviews          pkgs/main/noarch::holoviews-1.11.3-py_0\n",
      "  icu                pkgs/free/osx-64::icu-54.1-0\n",
      "  intel-openmp       pkgs/main/osx-64::intel-openmp-2019.1-144\n",
      "  ipykernel          pkgs/main/osx-64::ipykernel-5.1.0-py36h39e3cac_0\n",
      "  ipython            pkgs/main/osx-64::ipython-7.1.1-py36h39e3cac_0\n",
      "  ipython_genutils   pkgs/main/osx-64::ipython_genutils-0.2.0-py36h241746c_0\n",
      "  ipywidgets         pkgs/main/osx-64::ipywidgets-7.4.2-py36_0\n",
      "  jedi               pkgs/main/osx-64::jedi-0.13.3-py36_0\n",
      "  jinja2             pkgs/main/osx-64::jinja2-2.10-py36_0\n",
      "  jpeg               pkgs/main/osx-64::jpeg-9b-he5867d9_2\n",
      "  jsonschema         pkgs/main/osx-64::jsonschema-3.0.1-py36_0\n",
      "  jupyter            pkgs/main/osx-64::jupyter-1.0.0-py36_7\n",
      "  jupyter_client     pkgs/main/osx-64::jupyter_client-5.2.4-py36_0\n",
      "  jupyter_console    pkgs/main/osx-64::jupyter_console-6.0.0-py36_0\n",
      "  jupyter_core       pkgs/main/osx-64::jupyter_core-4.4.0-py36_0\n",
      "  kiwisolver         pkgs/main/osx-64::kiwisolver-1.0.1-py36h0a44026_0\n",
      "  libcxx             pkgs/main/osx-64::libcxx-4.0.1-hcfea43d_1\n",
      "  libcxxabi          pkgs/main/osx-64::libcxxabi-4.0.1-hcfea43d_1\n",
      "  libgfortran        pkgs/main/osx-64::libgfortran-3.0.1-h93005f0_2\n",
      "  libpng             pkgs/main/osx-64::libpng-1.6.36-ha441bb4_0\n",
      "  libsodium          pkgs/main/osx-64::libsodium-1.0.16-h3efe00b_0\n",
      "  libtiff            pkgs/main/osx-64::libtiff-4.0.10-hcb84e12_2\n",
      "  markupsafe         pkgs/main/osx-64::markupsafe-1.1.1-py36h1de35cc_0\n",
      "  matplotlib         pkgs/main/osx-64::matplotlib-2.2.2-py36ha7267d0_0\n",
      "  mistune            pkgs/main/osx-64::mistune-0.8.4-py36h1de35cc_0\n",
      "  mkl                pkgs/main/osx-64::mkl-2019.1-144\n",
      "  mkl_fft            pkgs/main/osx-64::mkl_fft-1.0.10-py36h5e564d8_0\n",
      "  mkl_random         pkgs/main/osx-64::mkl_random-1.0.2-py36h27c97d8_0\n",
      "  nbconvert          pkgs/main/noarch::nbconvert-5.4.1-py_2\n",
      "  nbformat           pkgs/main/osx-64::nbformat-4.4.0-py36h827af21_0\n",
      "  notebook           pkgs/main/osx-64::notebook-5.7.6-py36_0\n",
      "  numpy              pkgs/main/osx-64::numpy-1.16.2-py36hacdab7b_0\n",
      "  numpy-base         pkgs/main/osx-64::numpy-base-1.16.2-py36h6575580_0\n",
      "  olefile            pkgs/main/osx-64::olefile-0.46-py36_0\n",
      "  openssl            pkgs/main/osx-64::openssl-1.0.2r-h1de35cc_0\n",
      "  packaging          pkgs/main/osx-64::packaging-19.0-py36_0\n",
      "  pandoc             pkgs/main/osx-64::pandoc-2.2.3.2-0\n",
      "  pandocfilters      pkgs/main/osx-64::pandocfilters-1.4.2-py36_1\n",
      "  param              pkgs/main/noarch::param-1.8.2-py_0\n",
      "  parso              pkgs/main/osx-64::parso-0.3.4-py36_0\n",
      "  pexpect            pkgs/main/osx-64::pexpect-4.6.0-py36_0\n",
      "  pickleshare        pkgs/main/osx-64::pickleshare-0.7.5-py36_0\n",
      "  pillow             pkgs/main/osx-64::pillow-4.2.1-py36h0263179_0\n",
      "  pip                pkgs/main/osx-64::pip-19.0.3-py36_0\n",
      "  prometheus_client  pkgs/main/osx-64::prometheus_client-0.6.0-py36_0\n",
      "  prompt_toolkit     pkgs/main/osx-64::prompt_toolkit-2.0.9-py36_0\n",
      "  ptyprocess         pkgs/main/osx-64::ptyprocess-0.6.0-py36_0\n",
      "  pygments           pkgs/main/osx-64::pygments-2.3.1-py36_0\n",
      "  pyparsing          pkgs/main/osx-64::pyparsing-2.3.1-py36_0\n",
      "  pyqt               pkgs/main/osx-64::pyqt-5.6.0-py36h655552a_6\n",
      "  pyrsistent         pkgs/main/osx-64::pyrsistent-0.14.11-py36h1de35cc_0\n",
      "  python             pkgs/free/osx-64::python-3.6.0-0\n",
      "  python-dateutil    pkgs/main/osx-64::python-dateutil-2.8.0-py36_0\n",
      "  pytz               pkgs/main/osx-64::pytz-2018.9-py36_0\n",
      "  pyviz_comms        pkgs/main/osx-64::pyviz_comms-0.7.0-py36_0\n",
      "  pyyaml             pkgs/main/osx-64::pyyaml-3.13-py36h1de35cc_0\n",
      "  pyzmq              pkgs/main/osx-64::pyzmq-18.0.0-py36h0a44026_0\n",
      "  qt                 pkgs/free/osx-64::qt-5.6.2-2\n",
      "  qtconsole          pkgs/main/osx-64::qtconsole-4.4.3-py36_0\n",
      "  readline           pkgs/free/osx-64::readline-6.2-2\n",
      "  send2trash         pkgs/main/osx-64::send2trash-1.5.0-py36_0\n",
      "  setuptools         pkgs/main/osx-64::setuptools-40.8.0-py36_0\n",
      "  sip                pkgs/main/osx-64::sip-4.18.1-py36h0a44026_2\n",
      "  six                pkgs/main/osx-64::six-1.12.0-py36_0\n",
      "  sqlite             pkgs/free/osx-64::sqlite-3.13.0-0\n",
      "  terminado          pkgs/main/osx-64::terminado-0.8.1-py36_1\n",
      "  testpath           pkgs/main/osx-64::testpath-0.4.2-py36_0\n",
      "  tk                 pkgs/free/osx-64::tk-8.5.18-0\n",
      "  tornado            pkgs/main/osx-64::tornado-6.0.1-py36h1de35cc_0\n",
      "  traitlets          pkgs/main/osx-64::traitlets-4.3.2-py36h65bd3ce_0\n",
      "  wcwidth            pkgs/main/osx-64::wcwidth-0.1.7-py36h8c6ec74_0\n",
      "  webencodings       pkgs/main/osx-64::webencodings-0.5.1-py36_1\n",
      "  wheel              pkgs/main/osx-64::wheel-0.33.1-py36_0\n",
      "  widgetsnbextension pkgs/main/osx-64::widgetsnbextension-3.4.2-py36_0\n",
      "  xz                 pkgs/main/osx-64::xz-5.2.4-h1de35cc_4\n",
      "  yaml               pkgs/main/osx-64::yaml-0.1.7-hc338f04_2\n",
      "  zeromq             pkgs/main/osx-64::zeromq-4.3.1-h0a44026_3\n",
      "  zlib               pkgs/main/osx-64::zlib-1.2.11-h1de35cc_3\n",
      "  zstd               pkgs/main/osx-64::zstd-1.3.7-h5bba6e5_0\n",
      "\n",
      "\n",
      "\n",
      "Downloading and Extracting Packages\n"
     ]
    },
    {
     "name": "stdout",
     "output_type": "stream",
     "text": [
      "olefile-0.46         | 48 KB     | ##################################### | 100% \n",
      "pip-19.0.3           | 1.9 MB    | ##################################### | 100% \n",
      "icu-54.1             | 10.9 MB   | ##################################### | 100% \n",
      "traitlets-4.3.2      | 131 KB    | ##################################### | 100% \n",
      "parso-0.3.4          | 121 KB    | ##################################### | 100% \n",
      "prometheus_client-0. | 69 KB     | ##################################### | 100% \n",
      "jupyter_core-4.4.0   | 63 KB     | ##################################### | 100% \n",
      "appnope-0.1.0        | 8 KB      | ##################################### | 100% \n",
      "pytz-2018.9          | 261 KB    | ##################################### | 100% \n",
      "six-1.12.0           | 22 KB     | ##################################### | 100% \n",
      "prompt_toolkit-2.0.9 | 491 KB    | ##################################### | 100% \n",
      "jupyter-1.0.0        | 6 KB      | ##################################### | 100% \n",
      "setuptools-40.8.0    | 622 KB    | ##################################### | 100% \n",
      "freetype-2.8         | 840 KB    | ##################################### | 100% \n",
      "cycler-0.10.0        | 13 KB     | ##################################### | 100% \n",
      "jupyter_client-5.2.4 | 127 KB    | ##################################### | 100% \n",
      "certifi-2019.3.9     | 155 KB    | ##################################### | 100% \n",
      "ptyprocess-0.6.0     | 23 KB     | ##################################### | 100% \n",
      "jsonschema-3.0.1     | 88 KB     | ##################################### | 100% \n",
      "numpy-base-1.16.2    | 4.2 MB    | ##################################### | 100% \n",
      "markupsafe-1.1.1     | 28 KB     | ##################################### | 100% \n",
      "ipython_genutils-0.2 | 39 KB     | ##################################### | 100% \n",
      "bleach-3.1.0         | 224 KB    | ##################################### | 100% \n",
      "mkl_random-1.0.2     | 382 KB    | ##################################### | 100% \n",
      "pyqt-5.6.0           | 4.2 MB    | ##################################### | 100% \n",
      "pygments-2.3.1       | 1.4 MB    | ##################################### | 100% \n",
      "pyyaml-3.13          | 160 KB    | ##################################### | 100% \n",
      "numpy-1.16.2         | 49 KB     | ##################################### | 100% \n",
      "kiwisolver-1.0.1     | 56 KB     | ##################################### | 100% \n",
      "matplotlib-2.2.2     | 6.7 MB    | ##################################### | 100% \n",
      "ipywidgets-7.4.2     | 151 KB    | ##################################### | 100% \n",
      "ipython-7.1.1        | 1.1 MB    | ##################################### | 100% \n",
      "sqlite-3.13.0        | 1.4 MB    | ##################################### | 100% \n",
      "send2trash-1.5.0     | 16 KB     | ##################################### | 100% \n",
      "jupyter_console-6.0. | 35 KB     | ##################################### | 100% \n",
      "mistune-0.8.4        | 54 KB     | ##################################### | 100% \n",
      "webencodings-0.5.1   | 19 KB     | ##################################### | 100% \n",
      "openssl-1.0.2r       | 3.0 MB    | ##################################### | 100% \n",
      "pyviz_comms-0.7.0    | 17 KB     | ##################################### | 100% \n",
      "python-dateutil-2.8. | 281 KB    | ##################################### | 100% \n",
      "qtconsole-4.4.3      | 157 KB    | ##################################### | 100% \n",
      "sip-4.18.1           | 242 KB    | ##################################### | 100% \n",
      "testpath-0.4.2       | 91 KB     | ##################################### | 100% \n",
      "pyzmq-18.0.0         | 443 KB    | ##################################### | 100% \n",
      "wcwidth-0.1.7        | 25 KB     | ##################################### | 100% \n",
      "holoviews-1.11.3     | 3.2 MB    | ##################################### | 100% \n",
      "decorator-4.3.2      | 17 KB     | ##################################### | 100% \n",
      "terminado-0.8.1      | 21 KB     | ##################################### | 100% \n",
      "jinja2-2.10          | 184 KB    | ##################################### | 100% \n",
      "widgetsnbextension-3 | 1.7 MB    | ##################################### | 100% \n",
      "mkl_fft-1.0.10       | 156 KB    | ##################################### | 100% \n",
      "notebook-5.7.6       | 7.3 MB    | ##################################### | 100% \n",
      "pandocfilters-1.4.2  | 13 KB     | ##################################### | 100% \n",
      "backcall-0.1.0       | 19 KB     | ##################################### | 100% \n",
      "readline-6.2         | 274 KB    | ##################################### | 100% \n",
      "ipykernel-5.1.0      | 156 KB    | ##################################### | 100% \n",
      "pyparsing-2.3.1      | 105 KB    | ##################################### | 100% \n",
      "defusedxml-0.5.0     | 29 KB     | ##################################### | 100% \n",
      "bokeh-1.0.4          | 5.4 MB    | ##################################### | 100% \n",
      "entrypoints-0.3      | 12 KB     | ##################################### | 100% \n",
      "python-3.6.0         | 11.7 MB   | ##################################### | 100% \n",
      "jedi-0.13.3          | 234 KB    | ##################################### | 100% \n",
      "wheel-0.33.1         | 39 KB     | ##################################### | 100% \n",
      "tk-8.5.18            | 1.9 MB    | ##################################### | 100% \n",
      "nbformat-4.4.0       | 138 KB    | ##################################### | 100% \n",
      "packaging-19.0       | 37 KB     | ##################################### | 100% \n",
      "pillow-4.2.1         | 509 KB    | ##################################### | 100% \n",
      "tornado-6.0.1        | 641 KB    | ##################################### | 100% \n",
      "pyrsistent-0.14.11   | 88 KB     | ##################################### | 100% \n",
      "pickleshare-0.7.5    | 12 KB     | ##################################### | 100% \n",
      "pexpect-4.6.0        | 77 KB     | ##################################### | 100% \n",
      "qt-5.6.2             | 66.2 MB   | ##################################### | 100% \n",
      "Preparing transaction: done\n",
      "Verifying transaction: done\n",
      "Executing transaction: done\n",
      "#\n",
      "# To activate this environment, use\n",
      "#\n",
      "#     $ conda activate py37withholoviews\n",
      "#\n",
      "# To deactivate an active environment, use\n",
      "#\n",
      "#     $ conda deactivate\n",
      "\n"
     ]
    }
   ],
   "source": [
    "!conda create --name py37withholoviews python=3.6.0 holoviews -y\n",
    "\n"
   ]
  },
  {
   "cell_type": "code",
   "execution_count": 1,
   "metadata": {
    "collapsed": true
   },
   "outputs": [],
   "source": [
    "!source activate py37withholoviews\n"
   ]
  },
  {
   "cell_type": "code",
   "execution_count": 2,
   "metadata": {},
   "outputs": [
    {
     "name": "stdout",
     "output_type": "stream",
     "text": [
      "Collecting package metadata: done\n",
      "Solving environment: done\n",
      "\n",
      "# All requested packages already installed.\n",
      "\n"
     ]
    }
   ],
   "source": [
    "!conda install networkx"
   ]
  },
  {
   "cell_type": "code",
   "execution_count": 3,
   "metadata": {},
   "outputs": [
    {
     "name": "stdout",
     "output_type": "stream",
     "text": [
      "Collecting package metadata: done\n",
      "Solving environment: done\n",
      "\n",
      "# All requested packages already installed.\n",
      "\n"
     ]
    }
   ],
   "source": [
    "!conda install numpy"
   ]
  },
  {
   "cell_type": "code",
   "execution_count": null,
   "metadata": {},
   "outputs": [
    {
     "name": "stdout",
     "output_type": "stream",
     "text": [
      "Collecting package metadata: done\n",
      "Solving environment: done\n",
      "\n",
      "# All requested packages already installed.\n",
      "\n"
     ]
    }
   ],
   "source": [
    "!conda install pandas"
   ]
  },
  {
   "cell_type": "code",
   "execution_count": 2,
   "metadata": {},
   "outputs": [
    {
     "name": "stdout",
     "output_type": "stream",
     "text": [
      "Collecting package metadata: done\n",
      "Solving environment: done\n",
      "\n",
      "## Package Plan ##\n",
      "\n",
      "  environment location: /Users/Jordan_Earnest/miniconda3\n",
      "\n",
      "  added / updated specs:\n",
      "    - holoviews\n",
      "\n",
      "\n",
      "The following NEW packages will be INSTALLED:\n",
      "\n",
      "  holoviews          pkgs/main/noarch::holoviews-1.11.3-py_0\n",
      "\n",
      "\n",
      "Preparing transaction: done\n",
      "Verifying transaction: done\n",
      "Executing transaction: done\n"
     ]
    }
   ],
   "source": [
    "!conda install holoviews -y"
   ]
  },
  {
   "cell_type": "code",
   "execution_count": 3,
   "metadata": {},
   "outputs": [
    {
     "name": "stdout",
     "output_type": "stream",
     "text": [
      "Collecting package metadata: done\n",
      "Solving environment: done\n",
      "\n",
      "# All requested packages already installed.\n",
      "\n"
     ]
    }
   ],
   "source": [
    "!conda install bokeh"
   ]
  },
  {
   "cell_type": "code",
   "execution_count": 4,
   "metadata": {},
   "outputs": [
    {
     "name": "stdout",
     "output_type": "stream",
     "text": [
      "Collecting package metadata: done\n",
      "Solving environment: done\n",
      "\n",
      "# All requested packages already installed.\n",
      "\n"
     ]
    }
   ],
   "source": [
    "!conda install scikit-image"
   ]
  },
  {
   "cell_type": "code",
   "execution_count": 5,
   "metadata": {},
   "outputs": [
    {
     "name": "stdout",
     "output_type": "stream",
     "text": [
      "Collecting package metadata: done\n",
      "Solving environment: done\n",
      "\n",
      "# All requested packages already installed.\n",
      "\n"
     ]
    }
   ],
   "source": [
    "!conda install xarray"
   ]
  },
  {
   "cell_type": "code",
   "execution_count": 6,
   "metadata": {},
   "outputs": [
    {
     "name": "stdout",
     "output_type": "stream",
     "text": [
      "Collecting package metadata: done\n",
      "Solving environment: done\n",
      "\n",
      "# All requested packages already installed.\n",
      "\n"
     ]
    }
   ],
   "source": [
    "!conda install datashader"
   ]
  },
  {
   "cell_type": "code",
   "execution_count": 7,
   "metadata": {
    "collapsed": true
   },
   "outputs": [],
   "source": [
    "import holoviews as hv"
   ]
  },
  {
   "cell_type": "code",
   "execution_count": 8,
   "metadata": {
    "collapsed": true
   },
   "outputs": [],
   "source": [
    "from holoviews import opts "
   ]
  },
  {
   "cell_type": "code",
   "execution_count": 9,
   "metadata": {},
   "outputs": [
    {
     "ename": "ModuleNotFoundError",
     "evalue": "No module named 'datashader'",
     "output_type": "error",
     "traceback": [
      "\u001b[0;31m---------------------------------------------------------------------------\u001b[0m",
      "\u001b[0;31mModuleNotFoundError\u001b[0m                       Traceback (most recent call last)",
      "\u001b[0;32m<ipython-input-9-4b2bbf2bfbbf>\u001b[0m in \u001b[0;36m<module>\u001b[0;34m()\u001b[0m\n\u001b[0;32m----> 1\u001b[0;31m \u001b[0;32mfrom\u001b[0m \u001b[0mholoviews\u001b[0m\u001b[0;34m.\u001b[0m\u001b[0moperation\u001b[0m\u001b[0;34m.\u001b[0m\u001b[0mdatashader\u001b[0m \u001b[0;32mimport\u001b[0m \u001b[0mdatashader\u001b[0m\u001b[0;34m,\u001b[0m \u001b[0mbundle_graph\u001b[0m\u001b[0;34m\u001b[0m\u001b[0;34m\u001b[0m\u001b[0m\n\u001b[0m",
      "\u001b[0;32m/Users/Jordan_Earnest/anaconda3/lib/python3.6/site-packages/holoviews/operation/datashader.py\u001b[0m in \u001b[0;36m<module>\u001b[0;34m()\u001b[0m\n\u001b[1;32m      8\u001b[0m \u001b[0;32mimport\u001b[0m \u001b[0mpandas\u001b[0m \u001b[0;32mas\u001b[0m \u001b[0mpd\u001b[0m\u001b[0;34m\u001b[0m\u001b[0;34m\u001b[0m\u001b[0m\n\u001b[1;32m      9\u001b[0m \u001b[0;32mimport\u001b[0m \u001b[0mxarray\u001b[0m \u001b[0;32mas\u001b[0m \u001b[0mxr\u001b[0m\u001b[0;34m\u001b[0m\u001b[0;34m\u001b[0m\u001b[0m\n\u001b[0;32m---> 10\u001b[0;31m \u001b[0;32mimport\u001b[0m \u001b[0mdatashader\u001b[0m \u001b[0;32mas\u001b[0m \u001b[0mds\u001b[0m\u001b[0;34m\u001b[0m\u001b[0;34m\u001b[0m\u001b[0m\n\u001b[0m\u001b[1;32m     11\u001b[0m \u001b[0;32mimport\u001b[0m \u001b[0mdatashader\u001b[0m\u001b[0;34m.\u001b[0m\u001b[0mreductions\u001b[0m \u001b[0;32mas\u001b[0m \u001b[0mrd\u001b[0m\u001b[0;34m\u001b[0m\u001b[0;34m\u001b[0m\u001b[0m\n\u001b[1;32m     12\u001b[0m \u001b[0;32mimport\u001b[0m \u001b[0mdatashader\u001b[0m\u001b[0;34m.\u001b[0m\u001b[0mtransfer_functions\u001b[0m \u001b[0;32mas\u001b[0m \u001b[0mtf\u001b[0m\u001b[0;34m\u001b[0m\u001b[0;34m\u001b[0m\u001b[0m\n",
      "\u001b[0;31mModuleNotFoundError\u001b[0m: No module named 'datashader'"
     ]
    }
   ],
   "source": [
    "from holoviews.operation.datashader import datashader, bundle_graph"
   ]
  },
  {
   "cell_type": "code",
   "execution_count": null,
   "metadata": {
    "collapsed": true
   },
   "outputs": [],
   "source": []
  }
 ],
 "metadata": {
  "kernelspec": {
   "display_name": "Python 3",
   "language": "python",
   "name": "python3"
  },
  "language_info": {
   "codemirror_mode": {
    "name": "ipython",
    "version": 3
   },
   "file_extension": ".py",
   "mimetype": "text/x-python",
   "name": "python",
   "nbconvert_exporter": "python",
   "pygments_lexer": "ipython3",
   "version": "3.6.8"
  }
 },
 "nbformat": 4,
 "nbformat_minor": 2
}
