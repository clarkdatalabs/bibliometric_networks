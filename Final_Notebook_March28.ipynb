{
  "nbformat": 4,
  "nbformat_minor": 0,
  "metadata": {
    "colab": {
      "name": "Final_Notebook_March28.ipynb",
      "version": "0.3.2",
      "provenance": [],
      "collapsed_sections": [],
      "include_colab_link": true
    },
    "kernelspec": {
      "name": "python3",
      "display_name": "Python 3"
    }
  },
  "cells": [
    {
      "cell_type": "markdown",
      "metadata": {
        "id": "view-in-github",
        "colab_type": "text"
      },
      "source": [
        "<a href=\"https://colab.research.google.com/github/clarkdatalabs/bibliometric_networks/blob/master/Final_Notebook_March28.ipynb\" target=\"_parent\"><img src=\"https://colab.research.google.com/assets/colab-badge.svg\" alt=\"Open In Colab\"/></a>"
      ]
    },
    {
      "metadata": {
        "id": "BH7cZp0Z0WZR",
        "colab_type": "text"
      },
      "cell_type": "markdown",
      "source": [
        "# Bibliographic Networks: A Python Tutorial\n",
        "\n",
        "Networks can provide significant measures to identify data driven patterns and dependencies. Though, given a data file it can be difficult to discern how one may approach creating such a network. In this tutorial, we will use a bibliographic data file downloaded from a query search in [Scopus](https://https://www.scopus.com/search/form.uri) to walk through the process of cleaning the data file, writing a python script to parse the data into nodes and edges, computing graphical measures using [NetworkX](https://https://networkx.github.io/documentation/stable/index.html), and creating an interactive network display using [HoloViews](https://http://holoviews.org). "
      ]
    },
    {
      "metadata": {
        "id": "qJ8c_hOI05bF",
        "colab_type": "text"
      },
      "cell_type": "markdown",
      "source": [
        "### Notes on Data Manipulation in Excel\n",
        "\n",
        "As you are editing and cleaning your data set, be sure to always save in Excel as <i>CSV UTF-8 (Comma delimited) (.csv)</i>. This will ensure that the data file is readable by the python reader and contains original special characters. \n",
        "\n",
        "This rest of this section is specific to SCOPUS downloaded files, as some downloadable queries are unfortunately imperfect. Firstly, some rows are skewed from inaccurate reading and parsing. Simply scroll through the file and delete any rows where the data is clearly mismatched (i.e. an author name in the 'Title' column, a numerical value in a non-numerical column, etc.). \n",
        "\n",
        "Additionally, across several different queries, we discovered duplicates in entry 'Title,' with other columns containing conflicting data. To fix this issue for the purposes of producing a network, we want to remove duplicates. \n",
        "\n",
        "In Excel with your csv file open, select Date -> Table Tools -> Remove Duplicates. Indicate that the csv file has headers, as all SCOPUS files will, and only select the 'Title' column by which duplicates will be identified. \n",
        "\n",
        "After executing this command, it is important to save the file as a csv. Otherwise, Excel may default to a txt, or other format, and some data features may be lost. By continuously saving the file as a csv, we ensure that it will continue to be compatible with the python code for this tutorial.\n",
        "\n",
        "Generally, for the case of creating a connected network, we want the rows in our bibliographic data file to have an identifiable title and list of references. "
      ]
    },
    {
      "metadata": {
        "id": "VQHr-aaI0-IN",
        "colab_type": "text"
      },
      "cell_type": "markdown",
      "source": [
        "###**Coding Environment**\n",
        "While we originally developed this script in a local notebook, we found that running it through Google's cloud-based Jupyter notebook environment [Colaboratory](https://colab.research.google.com/) is smoother for general use. Colaboratory allows you to use and share Jupyter notebooks from your browser, without having to download, install, or run anything on your own computer. Notebooks can be saved to your Google Drive, Github or downloaded locally. Learn more about Colab [here](https://research.google.com/colaboratory/faq.html). You can run this notebook in Colaboratory by clicking this icon at the top of the notebook, downlading the notebook and importing it to Colaboratory manually, or downloading the notebook to run locally. \n"
      ]
    },
    {
      "metadata": {
        "id": "kLjh97y500uh",
        "colab_type": "code",
        "colab": {}
      },
      "cell_type": "code",
      "source": [
        ""
      ],
      "execution_count": 0,
      "outputs": []
    }
  ]
}