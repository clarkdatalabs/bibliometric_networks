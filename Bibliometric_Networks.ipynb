{
  "nbformat": 4,
  "nbformat_minor": 0,
  "metadata": {
    "colab": {
      "name": "Copy of Copy of Final_Notebook_March28.ipynb",
      "version": "0.3.2",
      "provenance": [],
      "collapsed_sections": [],
      "include_colab_link": true
    },
    "kernelspec": {
      "name": "python3",
      "display_name": "Python 3"
    }
  },
  "cells": [
    {
      "cell_type": "markdown",
      "metadata": {
        "id": "view-in-github",
        "colab_type": "text"
      },
      "source": [
        "<a href=\"https://colab.research.google.com/github/clarkdatalabs/bibliometric_networks/blob/master/Bibliometric_Networks.ipynb\" target=\"_parent\"><img src=\"https://colab.research.google.com/assets/colab-badge.svg\" alt=\"Open In Colab\"/></a>"
      ]
    },
    {
      "metadata": {
        "id": "BH7cZp0Z0WZR",
        "colab_type": "text"
      },
      "cell_type": "markdown",
      "source": [
        "# Bibliographic Networks: A Python Tutorial\n",
        "\n",
        "Networks can provide significant measures to identify data driven patterns and dependencies. Though, given a data file it can be difficult to discern how one may approach creating such a network. In this tutorial, we will use a bibliographic data file downloaded from a query search in [Scopus](https://https://www.scopus.com/search/form.uri) to walk through the process of cleaning the data file, writing a python script to parse the data into nodes and edges, computing graphical measures using [NetworkX](https://https://networkx.github.io/documentation/stable/index.html), and creating an interactive network display using [HoloViews](https://http://holoviews.org). "
      ]
    },
    {
      "metadata": {
        "id": "qJ8c_hOI05bF",
        "colab_type": "text"
      },
      "cell_type": "markdown",
      "source": [
        "##1. Data Manipulation in Excel\n",
        "\n",
        "As you are editing and cleaning your data set, be sure to always save in Excel as <i>CSV UTF-8 (Comma delimited) (.csv)</i>. This will ensure that the data file is readable by the Python reader used in this tutorial, and will keep any special characters.\n",
        "\n",
        "####SCOPUS Specific Data Manipulation\n",
        "Few SCOPUS downloadable queries are perfect. This tutorial uses the SCOPUS file containing results for the query <i>economics AND \"complex systems.\"</i> Upon downloading this specific data file, some rows are skewed from inaccurate reading and parsing. If you are costumizing this tutorial, simply scroll through the file and delete any rows where the data is clearly mismatched (i.e. an author name in the 'Title' column, a numerical value in a non-numerical column, etc.).\n",
        "\n",
        "\n",
        "Additionally, across several different queries, we discovered duplicates in entry 'Title,' with other columns containing conflicting data. To fix this issue for the purposes of producing a network, duplicates should be removed. With your .csv file open on Excel, select <i>Data -> Table Tools -> Remove Duplicates</i>. Indicate that the .csv file has headers, as all SCOPUS files will, and only select the 'Title' column by which duplicates will be identified. After executing this command, it is important to save the file as a .csv as previously indicated. Otherwise, Excel may default to saving the file as a .txt, or another format, and data features may be lost. By continuously saving the file as a .csv, we ensure that it will continue to be compatible with the Python code for this tutorial.\n",
        "\n",
        "\n",
        "Generally, for the case of creating a connected network, we want the rows in our bibliographic data file to have a unique title and a list of references. Other customizations can be made as long as this feature is preserved. "
      ]
    },
    {
      "metadata": {
        "id": "VQHr-aaI0-IN",
        "colab_type": "text"
      },
      "cell_type": "markdown",
      "source": [
        "##**2. Coding Environment**\n",
        "While we originally developed this script in a local notebook, we found that running it through Google's cloud-based Jupyter notebook environment [Colaboratory](https://colab.research.google.com/) is smoother for general use. Colaboratory allows you to use and share Jupyter notebooks from your browser, without having to download, install, or run anything on your own computer. Notebooks can be saved to your Google Drive, Github or downloaded locally. Learn more about Colab [here](https://research.google.com/colaboratory/faq.html). You can run this notebook in Colaboratory by clicking this icon at the top of the notebook, downlading the notebook and importing it to Colaboratory manually, or downloading the notebook to run locally. \n"
      ]
    },
    {
      "metadata": {
        "id": "COMVogq01MXD",
        "colab_type": "text"
      },
      "cell_type": "markdown",
      "source": [
        "### Import Necessary Libraries and Packages \n",
        "The following code will import and install the necessary libraries and packages for this tutorial into your Colaboratory environment or your local computing environment, if using.\n",
        "\n"
      ]
    },
    {
      "metadata": {
        "id": "kLjh97y500uh",
        "colab_type": "code",
        "colab": {}
      },
      "cell_type": "code",
      "source": [
        "!pip install networkx -q\n",
        "!pip install numpy -q\n",
        "!pip install pandas -q\n",
        "!pip install holoviews -q\n",
        "!pip install bokeh -q\n",
        "!pip install scikit-image -q\n",
        "!pip install xarray -q\n",
        "!pip install datashader -q\n",
        "\n",
        "# To use Colaboratory w/ Google Drive\n",
        "!pip install -U -q PyDrive\n"
      ],
      "execution_count": 0,
      "outputs": []
    },
    {
      "metadata": {
        "id": "OKFqC6zpkjD8",
        "colab_type": "code",
        "colab": {
          "base_uri": "https://localhost:8080/",
          "height": 514
        },
        "outputId": "9428ec04-11d0-4ca9-8ba9-0712ee7c9cc3"
      },
      "cell_type": "code",
      "source": [
        "!pip install bokeh==1.1.0"
      ],
      "execution_count": 41,
      "outputs": [
        {
          "output_type": "stream",
          "text": [
            "Collecting bokeh==1.1.0\n",
            "\u001b[?25l  Downloading https://files.pythonhosted.org/packages/55/3b/14ab63362486a2c9593bff66b813e34b71d16ad65b5f7d4bfe4934f17ffb/bokeh-1.1.0.tar.gz (17.5MB)\n",
            "\u001b[K    100% |████████████████████████████████| 17.5MB 1.8MB/s \n",
            "\u001b[?25hRequirement already satisfied: six>=1.5.2 in /usr/local/lib/python3.6/dist-packages (from bokeh==1.1.0) (1.11.0)\n",
            "Requirement already satisfied: PyYAML>=3.10 in /usr/local/lib/python3.6/dist-packages (from bokeh==1.1.0) (3.13)\n",
            "Requirement already satisfied: python-dateutil>=2.1 in /usr/local/lib/python3.6/dist-packages (from bokeh==1.1.0) (2.5.3)\n",
            "Requirement already satisfied: Jinja2>=2.7 in /usr/local/lib/python3.6/dist-packages (from bokeh==1.1.0) (2.10)\n",
            "Requirement already satisfied: numpy>=1.7.1 in /usr/local/lib/python3.6/dist-packages (from bokeh==1.1.0) (1.14.6)\n",
            "Requirement already satisfied: pillow>=4.0 in /usr/local/lib/python3.6/dist-packages (from bokeh==1.1.0) (4.1.1)\n",
            "Requirement already satisfied: packaging>=16.8 in /usr/local/lib/python3.6/dist-packages (from bokeh==1.1.0) (19.0)\n",
            "Requirement already satisfied: tornado>=4.3 in /usr/local/lib/python3.6/dist-packages (from bokeh==1.1.0) (4.5.3)\n",
            "Requirement already satisfied: MarkupSafe>=0.23 in /usr/local/lib/python3.6/dist-packages (from Jinja2>=2.7->bokeh==1.1.0) (1.1.1)\n",
            "Requirement already satisfied: olefile in /usr/local/lib/python3.6/dist-packages (from pillow>=4.0->bokeh==1.1.0) (0.46)\n",
            "Requirement already satisfied: pyparsing>=2.0.2 in /usr/local/lib/python3.6/dist-packages (from packaging>=16.8->bokeh==1.1.0) (2.3.1)\n",
            "Building wheels for collected packages: bokeh\n",
            "  Building wheel for bokeh (setup.py) ... \u001b[?25ldone\n",
            "\u001b[?25h  Stored in directory: /root/.cache/pip/wheels/d6/1f/1e/068dc0337f6cd79cf2e4d396ac3935c62327514810f110dea0\n",
            "Successfully built bokeh\n",
            "Installing collected packages: bokeh\n",
            "  Found existing installation: bokeh 1.0.4\n",
            "    Uninstalling bokeh-1.0.4:\n",
            "      Successfully uninstalled bokeh-1.0.4\n",
            "Successfully installed bokeh-1.1.0\n"
          ],
          "name": "stdout"
        },
        {
          "output_type": "display_data",
          "data": {
            "application/vnd.colab-display-data+json": {
              "pip_warning": {
                "packages": [
                  "bokeh"
                ]
              }
            }
          },
          "metadata": {
            "tags": []
          }
        }
      ]
    },
    {
      "metadata": {
        "id": "H4AEa7LT1X96",
        "colab_type": "code",
        "colab": {}
      },
      "cell_type": "code",
      "source": [
        "import csv, os\n",
        "import networkx as nx\n",
        "import numpy as np\n",
        "import pandas as pd\n",
        "import holoviews as hv\n",
        "from holoviews import opts \n",
        "from holoviews.operation.datashader import datashade, bundle_graph\n",
        "from networkx.algorithms import community\n",
        "\n",
        "# To use Colaboratory w/ Google Drive\n",
        "from pydrive.auth import GoogleAuth\n",
        "from pydrive.drive import GoogleDrive\n",
        "from google.colab import auth\n",
        "from oauth2client.client import GoogleCredentials"
      ],
      "execution_count": 0,
      "outputs": []
    },
    {
      "metadata": {
        "id": "o3Qe_gwAmcGi",
        "colab_type": "text"
      },
      "cell_type": "markdown",
      "source": [
        "The first time you run the notebook in Colaboratory, you will have to authenticate and create the PyDrive client:"
      ]
    },
    {
      "metadata": {
        "id": "FSz6feeomaAn",
        "colab_type": "code",
        "colab": {}
      },
      "cell_type": "code",
      "source": [
        "# This only needs to be done once per notebook.\n",
        "auth.authenticate_user()\n",
        "gauth = GoogleAuth()\n",
        "gauth.credentials = GoogleCredentials.get_application_default()\n",
        "drive = GoogleDrive(gauth)"
      ],
      "execution_count": 0,
      "outputs": []
    },
    {
      "metadata": {
        "id": "_zn27vi01wpB",
        "colab_type": "text"
      },
      "cell_type": "markdown",
      "source": [
        "###Insert your own file\n",
        "To customize this tutorial, decalare your own *.csv* file. If running in Colaboratory, put the *.csv* in your Google Drive and paste the File Name and File ID below. To find the File ID: upload the file to Google Drive, click \"get sharable link.\" The File ID is in the URL. \n",
        "\n",
        "> Example: https://drive.google.com/open?id=laggVyWshwcyP6kEI-y_W3P8D26sz\n",
        "\n",
        "> The File ID in this case is: *laggVyWshwcyP6kEI-y_W3P8D26sz*\n",
        "\n",
        "Alternatively, learn how to import data from GitHub [here](https://https://medium.com/@yuraist/how-to-upload-your-own-dataset-into-google-colab-e228727c87e9). \n"
      ]
    },
    {
      "metadata": {
        "id": "IzFfMfbkJCHj",
        "colab_type": "text"
      },
      "cell_type": "markdown",
      "source": [
        "You can't permanently store a file on colab. Though you can import files from your drive and everytime when you are done with file you can save it back."
      ]
    },
    {
      "metadata": {
        "id": "JKOuAkmBq5bC",
        "colab_type": "code",
        "colab": {}
      },
      "cell_type": "code",
      "source": [
        "file_name = 'scopus.csv' # TODO: insert filename\n",
        "file_id = \"1gUaltQnud-pikIQErJKFw81DsJMzcCb6\" # TODO: insert file id in quotes"
      ],
      "execution_count": 0,
      "outputs": []
    },
    {
      "metadata": {
        "id": "7AoAC7CZ5ESr",
        "colab_type": "code",
        "colab": {}
      },
      "cell_type": "code",
      "source": [
        "downloaded = drive.CreateFile({'id': file_id})\n",
        "downloaded.GetContentFile(file_name)"
      ],
      "execution_count": 0,
      "outputs": []
    },
    {
      "metadata": {
        "id": "9R-aaxei9S2i",
        "colab_type": "code",
        "colab": {}
      },
      "cell_type": "code",
      "source": [
        "data = pd.read_csv(file_name) "
      ],
      "execution_count": 0,
      "outputs": []
    },
    {
      "metadata": {
        "id": "p93UImiB2IPr",
        "colab_type": "text"
      },
      "cell_type": "markdown",
      "source": [
        "## 3. Partitioning the Data into Nodes and Edges\n",
        "\n",
        "\n",
        "This Python script is specific to SCOPUS and bibliometric data, though could be easily customized to match the parameters of any data file.\n",
        "\n",
        "To make a network, we must identify objects and relationships between objects. With bibliometric data, we can identify titles and designate a connection between titles if one is referenceing the other. The downloaded Scopus file identifies a title for a source in each row. The column 'References' indicates a semicolon delimited list of references in MLA or APA format. To make this information useful, we must parse an identifying title from each reference in the list. Because the Scopus file does not maintain consistent formatting accross references, we simply keep the entire reference and search for strings inside strings, though this could be customized depending on data file formatting."
      ]
    },
    {
      "metadata": {
        "id": "GoGbS9kK5XOO",
        "colab_type": "code",
        "colab": {}
      },
      "cell_type": "code",
      "source": [
        "node_list = [] # a list of titles and references\n",
        "edge_list = [] # includes rows of format [a, b] where 'a' references 'b'\n",
        "type_dict = {} # key: node, value: type ('title' or 'reference'), holds all possible node values\n",
        "\n",
        "''' \n",
        "Requires: 'n_type' is either 'title' or 'reference' \n",
        "Modifies: If 'node' occurs in the list, preserves type 'title,' changing either \n",
        "          the 'node_list' value and the 'type_dict' type, or just the 'node' value.\n",
        "          Else, adds 'node' to 'node_list.'\n",
        "Effects:  Compares 'node' to the current 'note_list.' \n",
        "'''\n",
        "def comp_add(node_list, node, n_type):\n",
        "    for i in range(len(node_list)): \n",
        "        # check to see if 'node' compares to any current nodes\n",
        "        if node in node_list[i] or node_list[i] in node: \n",
        "            # if a node exists as a row 'title' and a row 'reference', \n",
        "            # we want to favor the type 'title' in our data structures \n",
        "            if n_type == 'title': \n",
        "                # switch the representation in 'node_list' to 'title'\n",
        "                node_list[i] = node\n",
        "                type_dict[node] = n_type \n",
        "            else:\n",
        "                # switch the representation of 'node' to 'title' \n",
        "                node = node_list[i]\n",
        "            return node \n",
        "        \n",
        "    # the rest of this function executes if 'node' is not already in 'node_list'\n",
        "    if n_type == 'title':\n",
        "        node_list.append(node)\n",
        "        type_dict[node] = n_type\n",
        "    else: \n",
        "        node_list.append(node)\n",
        "        type_dict[node] = n_type\n",
        "\n",
        "    return node"
      ],
      "execution_count": 0,
      "outputs": []
    },
    {
      "metadata": {
        "id": "SBUSRPic5_CF",
        "colab_type": "text"
      },
      "cell_type": "markdown",
      "source": [
        "The following is the main loop to parse data into nodes and edges. "
      ]
    },
    {
      "metadata": {
        "id": "10s8v-_WBIga",
        "colab_type": "code",
        "colab": {}
      },
      "cell_type": "code",
      "source": [
        "'''\n",
        "with open(file_name) as csv_file:\n",
        "    reader = csv.DictReader(csv_file)\n",
        "    for row in reader:\n",
        "        # add node with unique identifier\n",
        "        source_node = row['Title']\n",
        "        source_node = comp_add(node_list, source_node, 'title')\n",
        "        # add an edge for each source and its references\n",
        "        refs = row['References'].split(';')\n",
        "        for ref in refs:\n",
        "            # disregard web references, and clean data for any formatting inconsistencies\n",
        "            if 'https://' not in ref and 'http://' not in ref and ref != \" \" and ref != \"\":  \n",
        "                ref = comp_add(node_list, ref, 'reference')\n",
        "                edge = [source_node, ref] # 'source_node' references 'ref'\n",
        "                edge_list.append(edge)\n",
        "                \n",
        "'''\n",
        "\n",
        "# this works\n",
        "for i, row in data.iterrows():\n",
        "  # add node with unique identifier\n",
        "  source_node = row['Title']\n",
        "  source_node = comp_add(node_list, source_node, 'title')\n",
        "  # add an edge for each source and its references\n",
        "\n",
        "  \n",
        "  # check that references exist\n",
        "  refs = row['References']\n",
        "  if type(refs) == str:\n",
        "    # add an edge for each source and its references\n",
        "    refs = refs.split(';')\n",
        "    for ref in refs:\n",
        "        # disregard web references, and clean data for any formatting inconsistencies\n",
        "        if 'https://' not in ref and 'http://' not in ref and ref != \" \" and ref != \"\":  \n",
        "            ref = comp_add(node_list, ref, 'reference')\n",
        "            edge = [source_node, ref] # 'source_node' references 'ref'\n",
        "            edge_list.append(edge)\n",
        "  else: # refs is not a string\n",
        "    pass\n",
        "\n",
        "#   print(row.Title,\"\\n\\n\", row.References, \"\\n\\n\", \"\\n\\n\")\n",
        "\n"
      ],
      "execution_count": 0,
      "outputs": []
    },
    {
      "metadata": {
        "id": "3vVdUIGH2Rq1",
        "colab_type": "text"
      },
      "cell_type": "markdown",
      "source": [
        "## 4. Graph Manipulation\n",
        "Once you have created an <i>edge_list</i> variable, edges can be added to an NetworkX graph. Using NetworkX for this graph manipulation is intuitive and clean, requiring minimal lines of code. We use a directed graph so that we can determine the frequency by which a node is being referenced, as opposed to the frequency by which a node is referencing."
      ]
    },
    {
      "metadata": {
        "id": "wvcjqsPOgRgk",
        "colab_type": "code",
        "colab": {
          "base_uri": "https://localhost:8080/",
          "height": 34
        },
        "outputId": "aeaf007a-7002-43cd-9e2e-763b43f4a3f4"
      },
      "cell_type": "code",
      "source": [
        "len(node_list)"
      ],
      "execution_count": 15,
      "outputs": [
        {
          "output_type": "execute_result",
          "data": {
            "text/plain": [
              "41697"
            ]
          },
          "metadata": {
            "tags": []
          },
          "execution_count": 15
        }
      ]
    },
    {
      "metadata": {
        "id": "NaCPMQ375sxn",
        "colab_type": "code",
        "outputId": "5b5c48bb-f1c6-4b3b-979f-6aa29c254175",
        "colab": {
          "base_uri": "https://localhost:8080/",
          "height": 187
        }
      },
      "cell_type": "code",
      "source": [
        "G = nx.DiGraph()\n",
        "for i, n in enumerate(node_list[0:1000]):\n",
        "  if i % 100 == 0: \n",
        "    print(i)\n",
        "  else:\n",
        "    pass\n",
        "  G.add_node(n)\n",
        "  G.add_edges_from(edge_list)"
      ],
      "execution_count": 22,
      "outputs": [
        {
          "output_type": "stream",
          "text": [
            "0\n",
            "100\n",
            "200\n",
            "300\n",
            "400\n",
            "500\n",
            "600\n",
            "700\n",
            "800\n",
            "900\n"
          ],
          "name": "stdout"
        }
      ]
    },
    {
      "metadata": {
        "id": "FTJMCGtj2b5_",
        "colab_type": "text"
      },
      "cell_type": "markdown",
      "source": [
        "For a large graph, depending on the information being represented, one may want to prune the graph to only contain nodes with a degree (the number of connections to a single node) greater than 1. For this bibliometric data, we are primarily interested in the connections between nodes, therefore a node with only one connection is of much less importance. Furthermore, by removing less significant nodes, we can decrease the graph size significantly, creating a more easily understood graphical layout. Be careful to run this code only as many times as you wish to reduce the graph, or else significant information may be lost as the graph is pruned, depending on the degree of interest in the information."
      ]
    },
    {
      "metadata": {
        "id": "OgPP0NO756FK",
        "colab_type": "code",
        "colab": {}
      },
      "cell_type": "code",
      "source": [
        "# by running this code once, all isolated subgraphs will be removed \n",
        "\n",
        "# first remove nodes of degree 1\n",
        "nodes_to_remove = []\n",
        "for n in G.nodes(): \n",
        "    if G.degree(n) == 1: \n",
        "        nodes_to_remove.append(n)\n",
        "G.remove_nodes_from(nodes_to_remove)\n",
        "\n",
        "# then remove nodes that are isolated \n",
        "nodes_to_remove = []\n",
        "for n in G.nodes(): \n",
        "    if G.degree(n) == 0: \n",
        "        nodes_to_remove.append(n)\n",
        "G.remove_nodes_from(nodes_to_remove)"
      ],
      "execution_count": 0,
      "outputs": []
    },
    {
      "metadata": {
        "id": "DxU7y7Z76Ery",
        "colab_type": "text"
      },
      "cell_type": "markdown",
      "source": [
        "Now that we have pruned our graph, to give the nodes a distinguishable measure, we indicate a label for each node corresponding to its type, and a measure of degree. This part could be customized to distinguish a node by any measure. By adding attributes in this way, they will carry over to HoloViews."
      ]
    },
    {
      "metadata": {
        "id": "c9tl6rbBiMJZ",
        "colab_type": "code",
        "colab": {
          "base_uri": "https://localhost:8080/",
          "height": 54
        },
        "outputId": "ce35a42c-aef6-446f-9b46-671bf1d15c87"
      },
      "cell_type": "code",
      "source": [
        "print(G.nodes)"
      ],
      "execution_count": 29,
      "outputs": [
        {
          "output_type": "stream",
          "text": [
            "['Emergy evaluation for decision-making in complex multifunctional farming systems', 'Acácio, V., Dias, F.S., Catry, F.X., Rocha, M., Moreira, F., Landscape dynamics in Mediterranean oak forests under global change: understanding the role of anthropogenic and environmental drivers across forest types (2017) Glob. Chang. Biol., 23, pp. 1199-1217', ' Bastianoni, S., Marchettini, N., Panzieri, M., Tiezzi, E., Sustainability assessment of a farm in the Chianti area (Italy) (2001) J. Clean. Prod., 9, pp. 365-373', ' Brown, M.T., Ulgiati, S., Emergy-based indices and ratios to evaluate sustainability: monitoring economies and technology toward environmentally sound innovation (1997) Ecol. Eng., 9, pp. 51-69', ' Brown, M.T., Ulgiati, S., Emergy evaluation of the biosphere and natural capital (1999) Ambio, 28, pp. 486-493', ' Campbell, D.E., A note on the uncertainty in estimates of transformities based on global water budgets (2003) Proceedings of the Second Biennial Emergy Research Conference. Gainesville, pp. 349-353. , M.T. Brown H.T. Odum D.R. Tilley S. Ulgiati', ' Odum, H.T., Environmental Accounting: Emergy and Decision Making (1996), Wiley New York', ' Patterson, M., Commensuration and theories of value in ecological economics (1998) Ecol. Econ., 25, pp. 105-125', ' Ulgiati, S., Brown, M.T., Bastianoni, S., Marchettini, N., Emergy-based indices and ratios to evaluate the sustainable use of resources (1995) Ecol. Eng., 5, pp. 519-531', ' Fama, E.F., Efficient capital markets: A review of theory and empirical work (1970) The Journal of Finance, 25 (2), pp. 383-417', 'Control of complex sociotechnical systems: Importance of causal models and game theory', ' Bookstaber, R., Glasserman, P., Iyengar, G., Luo, Y., Venkatasubramanian, V., Zhang, Z., Process systems engineering as a modeling paradigm for analyzing systemic risk in financial networks (2015) Off Financ Res Work Pap Ser, 15 (1)', \" McAteer, J.D., Beall, K., Beck, J., McGinley, P., Upper big branch: the april 5, 2010, explosion: a failure of basic coal mine safety practices: Report to the governor (2011) Report, , Governor's Independent Investigation Panel\", 'A holonic framework for managing the sustainable supply chain in emerging economies with smart connected metabolism', ' Golubiewski, N., Is there a metabolism of an urban ecosystem? An ecological critique (2012) Ambio, 41, pp. 751-764', ' Marcellino, F.J.M., Sichman, J.S., A holonic multi-agent model for oil industry supply Chain management (2010) Advances in Artificial Intelligence – IBERAMIA 2010. Lecture Notes in Computer Science, pp. 244-253. , A. Kuri-Morales S.G.R Springer Berlin, Heidelberg', ' Sterman, J.D., (2000) Business Dynamics: Systems Thinking and Modeling for A Complex World', 'From insight to foresight: Knowing how to apply artificial intelligence in the oil & gas industry', ' Schumpeter, J.A., (1942) Capitalism, Socialism and Democracy, , London: Routledge', ' Mckenzie, W., Morandini, F., Verney, P., Deny, L., Rainaud, J.-F., Eastick, R., Mack Endres, D., Integrating WitSML, ProDML, and resQML standards for cross-domain workflows (2012) Society of Petroleum Engineers, , January 1', 'Econophysics: Still fringe after 30 years', ' Mantegna, R.N., Stanley, H.E., (1999) Introduction to Econophysics: Correlations and Complexity in Finance, , Cambridge University Press', ' Bak, P., (1996) How Nature Works: The Science of Self-Organized Criticality, , New York: Copernicus', ' Challet, D., Marsili, M., Zhang, Y.C., (2005) Minority Games, , Oxford University Press', 'Community Detection in Complex Networks via Clique Conductance', ' Strogatz, S.H., Exploring complex networks (2001) Nature, 410, pp. 268-276', ' Fortunato, S., Community detection in graphs (2010) Physics Reports, 486, pp. 75-174', ' Coleman, J.S., (1964) Introduction to Mathematical Sociology, , (Collier-Macmillan, London, UK)', ' Barabási, A.-L., Albert, R., Emergence of scaling in random networks (1999) Science, 286, pp. 509-512', 'Urban water crises under future uncertainties: The case of institutional and infrastructure complexity in Khon Kaen, Thailand', ' Holling, C.S., Resilience and stability of ecological systems (1973) Annu. Rev. Ecol. Syst, 4, pp. 1-23', ' Holling, C.S., Understanding the complexity of economic, ecological and social systems (2001) Ecosystems, 4, pp. 390-405', ' Graham, S., Marvin, S., (2001) Splintering Urbanism, , Routledge: London, UK', ' Helbing, D., Globally networked risks and how to respond (2013) Nature, 497, pp. 51-59', ' Giddens, A., (2009) The Politics of Climate Change, , Polity Press: Cambridge, UK', ' Berkes, F., Colding, J., Folke, C., (2003) (Eds.) Navigating Social-Ecological Systems: Building Resilience for Complexity and Change, , Cambridge University Press: Cambridge, UK', ' Hayek, F.A., (1944) The Road to Serfdom, , London: Routledge and Kegan Paul', 'Prediction of future risk of invasion by Limnoperna fortunei (Dunker, 1857) (Mollusca, Bivalvia, Mytilidae) in Brazil with cellular automata', ' Ilachinski, A., Cellular Automata: A Discrete Universe (2001), World Scientific Publishing Company Singapore', ' NISC – National Invasive Species Council, 2008–2012 National Invasive Species Management Plan (2008), National Invasive Species Council Washington, DC', ' Carey, R., Whelton, P., The 2017 American College of Cardiology/American Heart Association hypertension guideline: a resource for practicing clinicians (2018) Ann Intern Med, 168 (5), pp. 359-360', ' Barabási, A.-L., Albert, R., Emergence of scaling in random networks (1999) Science, 286 (5439), pp. 509-512', ' Springer: Berlin, Germany', ' Simon, H.A., (1957) Models of man', ' Luna-Reyes, L.F., Andersen, D.L., Collecting and analyzing qualitative data for system dynamics: Methods and models (2003) System Dynamics Review, 19 (4), pp. 271-296', 'CoC: A Unified Distributed Ledger Based Supply Chain Management System', ' Gazet, A., Comparative analysis of various ransomware virii (2010) Journal in Computer Virology, 6 (1), pp. 77-90', ' Lemieux, V.L., Trusting records: Is blockchain technology the answer? (2016) Records Management Journal, 26 (2), pp. 110-139', ' Cooper, M.C., Lambert, D.M., Pagh, J.D., Supply chain management: More than a new name for logistics (1997) The International Journal of Logistics Management, 8 (1), pp. 1-14', ' Brandon, R.N., Adaptation and Evolutionary Theory (1978) Studies in theHistory and Philosophy of Science, 9 (3), pp. 181-206', 'Kornai and anti-equilibrium', 'Anderson, P.W., More is different (1972) Science, 177 (4047), pp. 393-396', ' Lorenz, E.N., Deterministic nonperiodic flow (1963) Journal of the Atmospheric Sciences, 20 (2), pp. 130-141', 'Models of Financial Stability and Their Application in Stress Tests ✶', ' Battiston, S., Farmer, J.D., Flache, A., Garlaschelli, D., Haldane, A.G., Heesterbeek, H., Hommes, C., Scheffer, M., Complexity theory and financial regulation (2016) Science, 351 (6275), pp. 818-819', ' LeBaron, B., Agent-based computational finance (2006) Handbook of Computational Economics, 2, pp. 1187-1233', ' Conley, W.C., Transportation and minimum content problems (2013) Proceedings of European Simulation and Modelling Conference, pp. 325-330. , ESM, October 23-25, Lancaster, England. EUROSIS, Ostend, Belgium', ' Borrill, P.L., Tesfatsion, L., Agent-Based Modeling: The Right Mathematics for the Social Sciences (2010) Working Paper № 10023., , (July)', 'The role of finance in environmental innovation diffusion: An evolutionary modeling approach', ' Arthur, W.B., Competing technologies, increasing returns, and lock-in by historical events (1989) Econ. J., 99 (394), pp. 116-131', ' Cantono, S., Silverberg, G., A percolation model of eco-innovation diffusion: the relationship between diffusion, learning economies and subsidies (2009) Technol. Forecast. Soc. Change, 76 (4), pp. 487-496. , Evolutionary Methodologies for Analyzing Environmental Innovations and the Implications for Environmental Policy', 'A fusion-based multi-information source optimization approach using knowledge gradient policies', ' Rasmussen, C.E., (2006) Gaussian Processes for Machine Learning', 'Modelling sustainability transitions: An assessment of approaches and challenges', ' Coenen, L., Benneworth, P., Truffer, B., Toward a spatial perspective on sustainability transitions (2012) Research Policy, 41 (6), pp. 968-979', ' Frenken, K., Technological innovation and complexity theory (2006) Economics of Innovation and New Technology, 15 (2), pp. 137-155', ' Holland, J.H., Complex adaptive systems (1992) Daedalus, 121, pp. 17-30', ' Kauffman, S.A., (1993) The Origins of Order: Self-Organization and Selection in Evolution, , Oxford: Oxford University Press', ' Rotmans, J., Loorbach, D., Complexity and transition management (2009) Journal of Industrial Ecology, 13 (2), pp. 184-196', ' Schwoon, M., Simulating the adoption of fuel cell vehicles (2006) Journal of Evolutionary Economics, 16 (4), pp. 435-472', ' Malinowsky, B., (1922) Argonauts of the Western Pacific, , New York: Routledge', \"Governing the banking system: An assessment of resilience based on Elinor Ostrom's design principles\", 'Adger, W.N., Vulnerability (2006) Global Environmental Change, 16 (3), pp. 268-281', ' Ostrom, E., (1990) Governing the Commons: The Evolution of Institutions for Collective Action, , Cambridge: Cambridge University Press', ' Ostrom, E., (2005) Understanding Institutional Diversity, , Princeton, NJ: Princeton University Press', ' New York: Cambridge University Press', ' Fudenberg, D., Tirole, J., (1991) Game Theory, , MIT Press', 'High-dimensional time series prediction using kernel-based Koopman mode regression', ' Mann, J., Kutz, J.N., Dynamic mode decomposition for financial trading strategies (2016) Quant. Finance', ' Schmid, P.J., Dynamic mode decomposition of numerical and experimental data (2010) J. Fluid Mech., 656, pp. 5-28', 'Urbanism and the division of labour in the Roman Empire', 'Bettencourt, L.M.A., The origins of scaling in cities (2013) Science, 340, pp. 1438-1441', ' Bettencourt, L.M.A., Lobo, J., Helbing, D., Kühnert, C., West, G.B., Growth, innovation, scaling, and the pace of life in cities (2007) Proc. Natl Acad. Sci. USA, 104, pp. 7301-7306', ' Bettencourt, L.M.A., Lobo, J., Strumsky, D., West, G.B., Urban scaling and its deviations: Revealing the structure of wealth, innovation and crime across cities (2010) PLoS ONE, 5, p. e13541', ' Bettencourt, L.M.A., West, G.B., A unified theory of urban living (2010) Nature, 467, pp. 912-913', ' Ortman, S.G., Cabaniss, A.H.F., Sturm, J.O., Bettencourt, L.M.A., The pre-history of urban scaling (2014) PLoS ONE, 9, p. e87902', ' Simon, H.A., The architecture of complexity (1962) Proceedings of the American Philosophical Society, 106 (6), pp. 467-482', ' Holling, C.S., Resilience and stability of ecological systems (1973) Annu Rev Ecol Syst, 4, pp. 1-23', \"Outward foreign direct investments and home country's economic growth\", ' Podobnik, B., Horvatic, D., Petersen, A.M., Njavro, M., Stanley, H.E., Common scaling behavior in finance and macroeconomics (2010) Eur. Phys. J. B., 76 (4), pp. 487-490', ' Granger, C.W.J., Investigating causal relations by econometric models and cross-spectral methods (1969) Econometrica, 37 (3), pp. 424-438', 'Emergent organization in a model market', ' Sinha, S., Chatterjee, A., Chakraborti, A., Chakrabarti, B.K., (2010) Econophysics: An Introduction, , Wiley-VCH Berlin', ' Bak, P., Sneppen, K., Punctuated equilibrium and criticality in a simple model of evolution (1993) Phys. Rev. Lett., 71, p. 4083', ' Boguñá, M., Pastor-Satorras, R., Díaz-Guilera, A., Arenas, A., Models of social networks based on social distance attachment (2004) Phys. Rev. E, 70, p. 056122', 'CoC: Secure supply chain management system based on public ledger', 'Economics and finance: q-statistical stylized features galore', 'Penrose, O., (1970) Foundations of Statistical Mechanics: A Deductive Treatment, p. 167. , Pergamon: Oxford, UK', ' Gell-Mann, M., Tsallis, C., (2004) Nonextensive Entropy-Interdisciplinary Applications, , Oxford University Press: New York, NY, USA', ' Tsallis, C., (2009) Introduction to Nonextensive Statistical Mechanics-Approaching a Complex World, , Springer: New York, NY, USA', ' Baldovin, F., Robledo, A., Universal renormalization-group dynamics at the onset of chaos in logistic maps and nonextensive statistical mechanics (2002) Phys. Rev. E, 66, p. R045104', ' Marques, L., Andrade, E., II, Deppman, A., Nonextensivity of hadronic systems (2013) Phys. Rev. D, 87, p. 114022', ' Marques, L., Cleymans, J., Deppman, A., Description of high-energy pp collisions using Tsallis thermodynamics: Transverse momentum and rapidity distributions (2015) Phys. Rev. D, 91, p. 054025', ' Tempesta, P., Group entropies, correlation laws, and zeta functions (2011) Phys. Rev. E, 84, p. 021121', ' Thurner, S., Tsallis, C., Nonextensive aspects of self-organized scale-free gas-like networks (2005) Europhys. Lett, 72, pp. 197-203', ' Borges, E.P., Empirical nonextensive laws for the county distribution of total personal income and gross domestic product (2004) Physica A, 334, pp. 255-266', ' Tsallis, C., Gell-Mann, M., Sato, Y., Asymptotically scale-invariant occupancy of phase space makes the entropy Sq extensive (2005) Proc. Natl. Acad. Sci. USA, 102, pp. 15377-15382', 'The economics of the climate', ' Gollier, C., Zeckhauser, R., Aggregation of heterogeneous time preferences (2005) Journal of Political Economy, 113 (4), pp. 878-896', ' Hanemann, M., What is the economic cost of climate change? (2010) Climate Change Science and Policy, pp. 185-193. , edited by Stephen H. Schneider, Armin Rosencranz, Michael D. Mastrandrea, and Kristin Kuntz-Duriseti, Washington, DC: Island Press', 'Prior Commitment and Uncertainty in Complex Economic Systems: Reinstating History in the Core of Economic Analysis', ' Arthur, W.B., Competing technologies, increasing returns, and lock-in by historical events (1989) Economic Journal, 99, pp. 116-131', ' Dopfer, K., Foster, J., Potts, J., Micro-meso-macro (2004) Journal of Evolutionary Economics, 14, pp. 263-280', ' Foster, J., Economics and the self-organisation approach: Alfred Marshall revisited? (1993) The Economic Journal, 103, pp. 975-991', ' Foster, J., From simplistic to complex adaptive systems in economics (2005) Cambridge Journal of Economics, 29, pp. 873-892', ' Foster, J., Wild, P., Econometric modelling in the presence of evolutionary change (1999) Cambridge Journal of Economics, 23, pp. 749-770', ' Georgescu-Roegen, N., (1971) The Entropy Law and the Economic Process, , Cambridge, Mass., Harvard University Press', ' Veblen, T., Why is economics not an evolutionary science? (1898) Quarterly Journal of Economics, 12, pp. 373-397', 'Complexity and the Economics of Climate Change: A Survey and a\\xa0Look\\xa0Forward', ' Buldyrev, S.V., Parshani, R., Paul, G., Stanley, H.E., Havlin, S., Catastrophic cascade of failures in interdependent networks (2010) Nature, 464 (7291), pp. 1025-1028. , 04', ' Helbing, D., Globally networked risks and how to respond (2013) Nature, 497 (7447), pp. 51-59. , 05', ' Lee, T., Yao, R., Coker, P., An analysis of UK policies for domestic energy reduction using an agent based tool (2014) Energy Policy, 66, pp. 267-279', 'Hayek and the use of physics in economics: Towards a progressive synthesis?', ' Chakraborti, A., Muni Toke, I., Patriarca, M., Abergel, F., Econophysics review: Empirical I. Facts (2011) Quantitative Finance, 11 (7), pp. 991-1012. , (a)', ' Chomsky, N., (1965) Aspects of the Theory of Syntax, , Cambridge: MIT Press', ' Donangelo, R., Sneppen, K., Self-organization of value and demand (2000) Physica A, 276 (1), pp. 572-580', ' Gallegati, M., Keen, S., Lux, T., Ormerod, P., Worrying trends in econophysics (2006) Physica A, 370 (1), pp. 1-6', ' Luttmer, E., Selection, growth, and the size distribution of firms (2007) Quarterly Journal of Economics, 122 (3), pp. 1103-1144', ' Schinckus, C., Economic uncertainty and econophysics (2009) Physica A, 388 (20), pp. 4414-4423', ' Shinohara, S., Gunji, Y., Emergence and collapse of money through reciprocity (2001) Applied Mathematics and Computation, 117 (1), pp. 131-150', ' Vriend, N.J., Was Hayek an ace? (2002) Southern Economic Journal, 68 (4), pp. 811-840', 'Allometric scaling in scientific fields', ' West, G.B., Brown, J.H., Enquist, B.J., The fourth dimension of life: Fractal geometry and allometric scaling of organisms (1999) Science, 284, pp. 1677-1679', 'Introducing flexibility to complex, resilient socio-ecological systems: A comparative analysis of economics, flexible manufacturing systems, evolutionary biology, and supply chain management', ' Holling, C.S., Resilience and stability of ecological systems (1973) Annu. Rev. Ecol. Syst., 4, pp. 1-23', ' Edward Elgar: Cheltenham, UK', ' Island Press: Washington, DC, USA', ' Ehrlich, P., Hanski, I., On theWings of Checkerspots: A Model System for Population Biology (2004), Oxford University Press: Oxford, UK', 'A behavioral economics approach to residential electricity consumption', ' Tversky, A., Kahneman, D., Judgment under uncertainty: Heuristics and biases (1974) Science, 185, pp. 1124-1131', ' MIT Press: Cambridge, MA, USA', ' Tesfatsion, L., Agent-based computational economics: A constructive approach to economic theory (2006) Handbook of Computational Economics, 2, pp. 831-880. , Tesfatsion, L., Judd, K., Eds.', ' Atkins, J.P., Burdon, D., Elliott, M., Chapter 5: identification of a practicable set of indicators for coastal and marine ecosystem services (2015) Coastal Zones Ecosystem Services: From Science to Values and Decision Making, Studies in Ecological Economics, 9. , R.K. Turner M. Schaafsma Springer Switzerland', \"Estimating the efficiency of complex marine systems in China's coastal regions using a network Data Envelope Analysis model\", ' Charnes, A., Cooper, W.W., Rhodes, E., Measuring the efficiency of decision making units (1978) Eur. J. Oper. Res., 2, pp. 429-444', ' Jiang, M.M., Zhou, J.B., Chen, B., Chen, G.Q., Emergy-based ecological account for the Chinese economy in 2004 (2008) Commun. Nonlinear Sci. Numer. Simul., 13, pp. 2337-2356', 'An Asynchronous Double Auction Market to Study the Formation of Financial Bubbles and Crashes', ' Fama, E.F., Efficient capital markets: a review of theory and empirical work (1970) J Finance, 25 (2), pp. 383-417', ' Lux, T., Marchesi, M., Scaling and criticality in a stochastic multi-agent model of a financial market (1999) Nature, 397 (6719), pp. 498-500', 'Complex systems: physics beyond physics', ' Simon, H.A., On a class of skew distribution functions (1955) Biometrika, 42, pp. 425-440', ' Buldyrev, S.V., Parshani, R., Paul, G., Stanley, H.E., Havlin, S., Catastrophic cascade of failures in interdependent networks (2010) Nature, 464, pp. 1025-1028', ' Parshani, R., Buldyrev, S.V., Havlin, S., (2010) Phys. Rev. Lett., 105, p. 048701', ' Batty, M., The size, scale, and shape of cities (2008) Science, 319, pp. 769-771', 'Method of systems potential (MSP) applications in economics: Emerging research and opportunities', ' Arrow, K.J., Debreu, G., Existence of an equilibrium for a competitive economy (1954) Econometrica, 22 (3), pp. 265-290', ' Leijonhufvud, A., Effective demand failures (1973) The Swedish Journal of Economics, 75 (1), pp. 27-48', 'The evolving cobweb of relations among partially rational investors', ' Farmer, J.D., Foley, D., The economy needs agent-based modelling (2009) Nature, 460 (7256), pp. 685-686. , PMID: 19661896', ' Bonabeau, E., Agent-based modeling: Methods and techniques for simulating human systems (2002) Proceedings of the National Academy of Sciences, 99, pp. 7280-7287', 'Systemic risks in the cloud computing model: Complex systems perspective', ' Marbukh, V., On systemic risk in the cloud computing model (2014) 26th International Teletraffic Congress (ITC), , Karlskrona, Sweden', ' Stolyar, A.L., Yudovina, E., Systems with large flexible server pools: Instability of natural load balancing (2013) Annals of Applied Probability, 23 (5), pp. 2099-2138', 'Dealing with quantitative risk management in banking as a complex systems problem', ' Kauffman, S.A., The Origins of Order (1993) Self-Organization and Selection in Evolution, , New York: Oxford University Press', ' Siggelkow, N., Change in the presence of fit: The rise, the fall, and the renaissance of Liz Claiborne (2001) Academy of Management Journal, 44, pp. 838-857', ' Coates, J.F., Future innovations in science and technology (2003) The International Handbook on Innovation, pp. 1073-1093. , in Shavinina, L.V. (Ed.) , Elsevier Science Ltd., Oxford, UK', 'Multilayer cellular automata on a graph applied to the exchanges of cash and goods', ' Braha, D., Bar-Yam, Y., The Statistical Mechanics of Complex Product Development: Empirical and Analytical Results (2005) Microeconomics', ' Chopard, B., Droz, M., (1998) Cellular Automata Modeling of Physical Systems, , Cambridge University Press', ' Hartmann, A.K., Weigt, M., (2005) Phase Transitions in Combinatorial Optimization Problems: Basics, Algorithms and Statistical Mechanics, , Wiley-VCH', 'From math to metaphors and back again: Social-ecological resilience from a multi-agent-environment perspective', ' Holling, C.S., Resilience and stability of ecological systems (1973) Annual Review of Ecology and Systematics, 4, pp. 1-23', ' Walker, B., Holling, C.S., Carpenter, S.R., Kinzig, A., Resilience, adaptability and transformability in social-ecological systems (2004) Ecology and Society, 9 (2), p. 5', ' Fujita, M., Mori, T., The role of ports in the making of major cities: Self-agglomeration and hub-effect (1996) Journal of Development Economics, 49 (1), pp. 93-120. , April', 'Complexity in economics: System dynamics and policy implications', ' Arthur, W.B., Complexity and the economy (1999) Science, 284, pp. 107-109', ' Dosi, G., Nelson, R.R., An introduction to evolutionary theories in economics (1994) Journal of Evolutionary Economics, 4, pp. 153-172', ' Grossman, S.J., Stiglitz, J.E., On the impossibility of informationally efficient markets (1980) Am Econ Rev, 70 (3), pp. 393-408', ' Wolfram, S., (2002) A New Kind of Science, , Champaign, IL: Wolfram Media, Inc', 'On the thermoeconomic and LCA methods for waste and fuel allocation in multiproduct systems', ' Lozano, M.A., Valero, A., Theory of the exergetic cost (1993) Energy, 18 (9), pp. 939-960', 'Towards systemic risk aware engineering of large-scale networks: Complex systems perspective', ' Gabaix, X., The Granular Origins of Aggregate Fluctuations (2011) Econometrica, 79, p. 733772', 'Anatomy of a portfolio optimizer under a limited budget constraint', ' Deb, K., Pratap, A., Agarwal, S., Meyarivan, T., A fast and elitist multiobjective genetic algorithm: NSGA-II (2002) IEEE Trans Evol Comput, 6 (2), pp. 182-197', 'Can there be a physics of financial markets? Methodological reflections on econophysics', ' Clauset, A., Shalizi, C.R., Newman, M.E.J., (2009) SIAM Rev., 51, p. 661', ' Sharpe, W.F., (1964) J. Finance, 19, p. 425', ' Samuelson, P.A., (1947) Foundations of Economic Analysis, , Harvard University Press, Cambridge MA', ' Voit, J., (2005) The Statistical Mechanics of Financial Markets, , Springer, Berlin', ' Cont, R., (2001) Quant. Finance, 1, p. 223', ' McCauley, J.L., (2004) Dynamics of Markets: Econophysics and Finance, , Cambridge University Press, Cambridge', ' Anderson, P.W., (1972) Science, 177, p. 393', 'Designing and Undertaking a Health Economics Study of Digital Health Interventions', ' Hawe, P., Shiell, A., Riley, T., Gold, L., Methods for exploring implementation variation and local context within a cluster randomised community intervention trial (2004) J Epidemiol Community Health, 58, pp. 788-793', ' Shiell, A., Hawe, P., Gold, L., Complex interventions or complex systems? Implications for health economic evaluation (2008) BMJ, 336, pp. 1281-1283', ' Christakis, N.A., Fowler, J.H., The spread of obesity in a large social network over 32 years (2007) N Engl J Med, 357, pp. 370-379', ' Christakis, N.A., Fowler, J.H., The collective dynamics of smoking in a large social network (2008) N Engl J Med, 358, pp. 2249-2258', 'Eight energy and material flow characteristics of urban ecosystems', ' Pincetl, S., Nature, urban development and sustainability—What new elements are needed for a more comprehensive understanding? (2012) Cities, 29, pp. S32-S37', 'Transformative Environmental Governance', ' Lenton, T.M., Environmental tipping points (2013) Annu. Rev. Environ. Resour., 38, pp. 1-29', ' Hardin, G., The tragedy of the commons (1968) Science, 162, pp. 1243-1250', ' Ostrom, E., A general framework for analyzing sustainability of social-ecological systems (2009) Science, 325, pp. 419-422', ' Weibull, J.W., (1995) Evolutionary Game Theory', 'Approach of complexity in nature: Entropic nonuniqueness', 'Complexity paths in neo-Schumpeterian evolutionary economics, structural change and development policies', ' Foster, J., From simplistic to complex systems in economics (2005) Cambridge Journal of Economics, 29, pp. 873-892', 'Albert, R., Barabási, A.-L., Statistical mechanics of complex networks (2002) Reviews of Modern Physics, 74, p. 47', ' Pica-Ciamarra, U., Baker, D., Morgan, N., Zezza, A., Azzarri, C., Ly, C., Nsiima, L., Sserugga, J., (2014) Investing in the Livestock Sector. Why Good Numbers Matter. A Sourcebook for Decision Makers on How to Improve Livestock Data, , World Bank, Washington, DC, & Food and Agriculture Organization of the United Nations, Rome', 'Not by technique alone. A methodological comparison of development analysis with Esther Duflo and Elinor Ostrom', ' Aligica, P., Institutional Analysis and Economic Development Policy: Notes on the Applied Agenda of the Bloomington School (2005) Journal of Economic Behavior and Organization, 57 (2), pp. 159-165', 'Power System Optimization: Large-Scale Complex Systems Approaches', ' Nash, J., Non-cooperative games (1951) Annals of Mathematics, 54 (2), pp. 286-295', ' Conforti, D., Menniti, D., Sorrentino, N., Verde, P., Testa, A., Optimal load-flow with n -1 steady-state security via high performance computing (1996) Proc. Mediterranean Electrotechnical Conf, (MELECON), Industrial Applications in Power Systems, Computer Science and Telecommunications, 2, pp. 873-879', ' Goldberg, D.E., (1989) Genetic Algorithms in Search, Optimization, and Machine Learning, , Addison-Wesley Longman, Boston, MA', ' Bouffard, F., Galiana, F.D., Stochastic security for operations planning with significant wind power generation (2008) IEEE Transactions on Power Systems, 23 (2), pp. 306-316', ' Georgescu-Roegen, N., (1971) The Entropy Law and the Economic Process, , Harvard University Press, Cambridge, Massachusetts', 'A systematic literature review of the key challenges for developing the structure of public health economic models', 'Task priority and self-organization mechanism in holarchy architecture', ' Shoham, Y., Agent-oriented programming (1993) Artificial Intelligence, 60 (1), pp. 51-92', ' Van Brussel, H., Wyns, J., Valckenaers, P., Bongaerts, L., Peeters, P., Reference architecture for holonic manufacturing systems: PROSA (1998) Computers in Industry, 37 (3), pp. 255-274', ' Leitão, P., Restivo, F., ADACOR: A holonic architecture for agile and adaptive manufacturing control (2006) Computers in Industry, 57 (2), pp. 121-130', 'Modelling complex systems of heterogeneous agents to better design sustainability transitions policy', ' Schumpeter, J.A., (1939) Business Cycles, , McGraw-Hill', ' Sterman, J.D., (2000) Business Dynamics: Systems Thinking and Modeling for a Complex World, , McGraw Hill', ' (2011) Towards a Green Economy: Pathways to Sustainable Development and Poverty Eradication', 'Urban scaling in Europe', 'Measuring regional sustainability with an integrated social-economic-natural approach: A case study of the Yellow River Delta region of China', ' Odum, H.T., Self-organization, transformity, and information (1988) Science, 242, pp. 1132-1139', 'Matching-centrality decomposition and the forecasting of new links in networks', ' Barabasi, A.L., Albert, R., Emergence of scaling in random networks (1999) Science, 286, pp. 509-512', 'Complex Matters: Things that matter', ' Eppstein, M.J., Grover, D.K., Marshall, J.S., Rizzo, D.M., An agent-based model to study market penetration of plug-in hybrid electric vehicles (2011) Energy Policy, 39 (6), pp. 3789-3802', 'Multiple criteria decision analysis and sustainable development', ' Barbiroli, G., Direct and indirect indicators of sustainable development (1993) Proceedings International Conference on Environmental Pollution, pp. 489-496. , Barcelona', ' Beinat, E., (1997) Value Functions for Environmental Management, , Kluwer, Dordrecht', ' Black, D., (1958) The Theory of Committees and Elections, , Cambridge University Press, Cambridge', ' Buchanan, J.M., Musgrave, R.A., (1999) Public Finance and Public Choice, , The MIT Press, Cambridge', ' Ehrlich, P., Raven, P., Butterflies and plants: A study in co-evolution (1964) Evolution, 18, pp. 586-608', ' Funtowicz, S.O., Munda, G., Paruccini, M., The aggregation of environmental data using multicriteria methods (1990) Environmetrics, 1 (4), pp. 353-368', ' Giampietro, M., Mayumi, K., Munda, G., Integrated assessment and energy analysis: Quality assurance in multi-criteria analyses of sustainability (2006) Energy, 31 (1), pp. 59-86', ' Janssen, R., (1992) Multiobjective Decision Support for Environmental Management, , Kluwer, Dordrecht', ' Kasemir, B., Gardner, M., Jäger, J., Jaeger, C., (2003) Public Participation in Sustainability Science, , Cambridge University Press, Cambridge', ' Kemeny, J., Mathematics without numbers (1959) Daedalus, 88, pp. 571-591', ' Laffont, J.J., (2000) Incentives and Political Economy, , Oxford University Press, Oxford', ' Luce, R.D., Semiorders and a theory of utility discrimination (1956) Econometrica, 24, pp. 178-191', ' Musgrave, A., Unreal assumptions in economic theory: The F-twist untwisted (1981) Kyklos, 34, pp. 377-387', ' Neurath, O., (1973) Empiricism and Sociology, , Reidel, Dordrecht', ' Norgaard, R.B., (1994) Development Betrayed, , Routledge, London', ' Roy, B., (1996) Multicriteria Methodology for Decision Analysis, , Kluwer, Dordrecht', ' Simon, H.A., (1983) Reason in Human Affairs, , Stanford University Press, Stanford', 'Analysis and implications of the giant component for an online interactive platform', ' Milgram, S., The small world problem (1967) Psychology Today, 2 (1), pp. 60-67', 'Hayek Enriched by complexity enriched by Hayek', ' Camerer, C., (2003) Behavioral Game Theory, , Princeton, NJ: Princeton University Press', ' Lux, T., Marchesi, M., Scaling and criticality in a stochastic multi-agent model of a financial market (1999) Nature, 397, pp. 498-500', ' Mantegna, R.N., Stanley, H.E., (2000) An Introduction to Econophysics: Correlations and Complexity in Finance, , New York, NY: Cambridge University Press', ' Rosser, J.B., On the complexities of complex economic dynamics (1999) Journal of Economic Perspectives, 13 (4), pp. 169-192', ' Schelling, T.C., Dynamic models of segregation (1971) Journal of Mathematical Sociology, 1, pp. 143-186', ' Simon, H.A., A behavioral model of rational choice (1955) Quarterly Journal of Economics, 69 (1), pp. 99-118', ' Simon, H.A., Rational choice and the structure of the environment (1956) Psychological Review, 63 (2), pp. 129-138', ' Simon, H.A., (1996) The Sciences of the Artificial, , Cambridge, MA: MIT Press', ' Tversky, A., Kahneman, D., Advances in prospect theory: Cumulative representation of uncertainty (1992) Journal of Risk and Uncertainty, 5, pp. 297-323', \"Considerations on equilibrium from a systemic point of view [Considerazioni sull'equilibrio da un punto di vista sistemico1]\", ' Lakoff, G., Johnson, M., (1980) Metaphors We Live By, , Chicago: University of Chicago Press', ' Huppes, G., Ishikawa, M., Eco-efficiency guiding micro-level actions towards sustainability: Ten basic steps for analysis (2009) Ecological Economics, 68 (6), pp. 1687-1700', ' Vespignani, A., Complex networks: The fragility of interdependency (2010) Nature, 464, pp. 984-985', 'Network science: a useful tool in economics and finance', ' Haldane, A.G., May, R.M., Systemic risk in banking ecosystems (2011) Nature, 469 (7330), pp. 351-355. , COI: 1:CAS:528:DC%2BC3MXnvVKruw%3D%3D, PID: 21248842', 'The domino effect in complex systems: An interdisciplinary view', 'Weaver, W., Science and complexity (1948) American Scientist, 36 (4), pp. 536-544', ' Gell-Mann, M., (1994) The Quark and the Jaguar: Adventures in the Simple and the Complex', ' Daly, H.E., Farley, J., (2003) Ecological Economics: Principles and Applications, , Washington, D.C. Island Press', 'On the topologic structure of economic complex networks: Empirical evidence from large scale payment network of Estonia', ' Watts, D.J., Strogatz, S.H., Collective dynamics of small-world networks (1998) Nature, 393, pp. 440-442', ' Barabási, A.L., Albert, R., Emergence of scaling in random networks (1999) Science, 286, pp. 509-512', 'The effects of twitter sentiment on stock price returns', ' Bollen, J., Mao, H., Zeng, X., Twitter mood predicts the stock market (2011) Journal of Computational Science, 2 (1), pp. 1-8', ' Scheffer, M., Carpenter, S., Foley, J.A., Folke, C., Walker, B., Catastrophic shifts in ecosystems (2001) Nature, 413, pp. 591-596', ' Walters, C.J., (1986) Adaptive Management of Renewable Resources, , Mc Graw Hill, New York, NY', 'Evolution of Public Supply Water Withdrawal in the USA: A Network Approach', 'The Resilience of Interdependent Industrial Symbiosis Networks: A Case of Yixing Economic and Technological Development Zone', ' Hardy, C., Graedel, T.E., Industrial ecosystems as food webs (2002) Journal of Industrial Ecology, 6 (1), pp. 29-38', 'Emerging from crisis with new approaches to science of society', 'Agriculture sector implications of a green economy transition in the Western Cape province of South Africa', ' Ahmad, S., Simonovic, S.P., System dynamics modeling of reservoir operations for flood management (2000) Journal of Computing in Civil Engineering, 14 (3), pp. 190-198', ' Geels, F.W., The multi-level perspective on sustainability transitions: Responses to seven criticisms (2011) Environmental Innovation and Societal Transitions, 1 (1), pp. 24-40', ' (2013) Green Is Smart: Western Cape Green Economy Strategy Framework 2013', 'Reconsidering industrial metabolism: From analogy to denoting actuality', \" O'Rourke, D., Connelly, L., Koshland, C.P., Industrial ecology: A critical review (1996) International Journal of Environment and Pollution, 6 (2-3), pp. 89-112\", ' Odum, E.P., The strategy of ecosystem development (1969) Science, 164 (3877), pp. 262-270. , www.sciencemag.org/content/164/3877/262.extract, Accessed 2 April 2014', 'Reprint of: Economic recession and a crisis of regulation in safety-critical industries', 'Badrinath, S.G., Bolster, P.J., The role of market forces in EPA enforcement activity (1996) J. Regul. Econ., 10, pp. 2165-2181', ' Beck, U., (1992) Risk Society, Towards a New Modernity, , Sage Publications, London, UK', ' Brezis, E.S., Weiss, A., Conscientious regulation and post-regulatory employment restrictions (1997) Eur. J. Polit. Econ., 13 (3), pp. 517-536', ' Chinander, K.R., Kleindorfer, P.R., Kunreuther, H.C., Compliance strategies and regulatory effectiveness of performance-based regulation of chemical accident risks (1998) Risk Anal., 18 (2), pp. 135-143', ' Dahle, I.B., Dybvig, G., Ersdal, G., Guldbrandsen, T., Hanson, B.A., Tharaldsen, J.E., Wiig, A.S., Major accidents and their consequences for risk regulation (2012) Advances in Safety, Reliability and Risk Management, , Taylor and Francis, London, C. Bérenguer, A. Grall, C. Guedes Soares (Eds.)', ' (2002) Changing Regulation: Controlling Risks in Society, , Pergamon, Oxford, UK, A.R. Hale, B. Kirwan, A. Hopkins (Eds.)', ' Johnson, C.W., Preparing for cyber-attacks on air traffic management infrastructures: cyber-safety scenario generation (2012) Proceedings of the 7th IET Conference on Systems Safety and Cyber-Security, , Edinburgh, Scotland, 15-18 October 2012, IET, Savoy Place, London', ' Karels, G.V., Market forces and aircraft safety an extension (1989) Econ. Inq., 27 (2), pp. 345-354', ' Kolstad, C.D., Ulen, T.S., Johnson, G.V., Ex post liability for harm vs. ex ante safety regulation: substitutes or complements? (1990) Am. Econ. Rev., 80 (4), pp. 888-901', ' Nichols, L.M., Ginsburg, P.B., Berenson, R.A., Christianson, J., Hurley, R.E., Are market forces strong enough to deliver efficient health care systems? Confidence is waning (2004) Health Affairs, 23 (2), pp. 8-21', ' Pierce, R.J., Encouraging safety: the limits of tort law and government regulation (1980) Vanderbilt Law Rev., (33), pp. 1281-1330', ' Prieger, J.E., Regulatory delay and the timing of product innovation (2007) Int. J. Ind. Organ., 25 (2), pp. 219-236', ' Savage, I., Does public education improve rail-highway crossing safety? (2006) Accid. Anal. Prev., 38 (2), pp. 310-316', ' Schmitz, P.W., On the joint use of liability and safety regulation (2000) Int. Rev. Law Econ., 20 (3), pp. 371-382', ' Sjoberg, L., Factors in risk perception (2000) Risk Anal., 20 (1), pp. 1-11', ' Spence, D.B., Federalism, regulatory lags and the political economy of energy production (2013) Univ. Pennsylvania Law Rev., 161, pp. 431-507', ' Sweeney, G., Adoption of cost-saving innovations by a regulated firm (1981) Am. Econ. Rev., 71 (3), pp. 437-447', ' Trebilcock, M., Winter, R.A., The economics of nuclear accident law (1997) Int. Rev. Law Econ., 17 (2), pp. 215-243', ' Common Sense, Common Safety. UK Government, London, UK.', ' Viscusi, W.K., Chesson, H., Hopes and fears: the conflicting effects of risk ambiguity (1999) Theor. Decis., 47 (2), pp. 157-184', 'The role of ruminant animals in sustainable livestock intensification programs', 'Infrastructure implications of a green economy transition in the Western Cape province of South Africa', ' Markard, J., Raven, R., Truffer, B., Sustainability transitions: An emerging field of research and its prospects (2012) Research Policy, 41 (6), pp. 955-967', 'Modelling the production of biofuel within the Western Cape Province, South Africa', 'Anderson, P.W., More is different (1972) Science, 177, pp. 393-396', 'System methodologies', ' Qian, X., Yu, J., Dai, R., A new scientific field–open complex giant systems and the methodology (In Chinese) (1990) Chin. J. Nat., 13 (1), pp. 3-10', ' Qian, X., Revisiting issues on open complex giant systems (In Chinese) (1991) Pattern Recogn. Artif. Intell, 4 (1), pp. 5-8', ' Qian, X., (2007) Building Systematology (In Chinese), , Shanghai Jiaotong University Press, Shanghai PRC', 'Computing paradigms', ' Jain, R., (1991) The Art of Computer Systems Performance Analysis, , Wiley and Sons', 'Dynamic self-organization in holonic multi-agent manufacturing systems: The ADACOR evolution', 'Diversity and complementarity of multi-agent models in the social sciences [Divers ité et corn plémentarité des rnodèles multi-agents en sdences sodales]', ' Gilbert, N., Conte, R., (1995) Artificial Societies: The Computer Simulation of Social Life, , London, Ucl Press', \" Watts, D.J., Strogatz, S.H., Collective dynamics of 'small-world' networks (1998) Nature, 393, pp. 440-442\", ' Axelrod, R., (1984) The Evolution of Cooperation, , Basic Books, New York, NY', 'The rise of China in the international trade network: A community core detection approach', 'Albert, R., Barabási, A.L., Statistical mechanics of complex networks (2002) Reviews of Modern Physics, 74, pp. 47-97', 'An agent-based model of institutional life-cycles', 'Young, H.P., (1998) Individual Strategy and Social Structure, , Princeton University Press: Princeton, NJ, USA', ' Maynard-Smith, J., (1982) Evolution and the Theory of Games, , Cambridge University Press: New York, NY, USA', 'Hierarchical socioeconomic fractality: The rich, the poor, and the middle-class', ' Redner, S., (1998) Eur. Phys. J. B, 4, p. 131', ' Zipf, G.K., (1949) Human Behavior and the Principle of Least Effort, , Addison-Wesley Cambridge', 'An ecological/evolutionary perspective on high-frequency trading', ' Georgescu-Roegen, N., (1971) The Entropy Law and the Economic Process, , Cambridge, MA: Harvard University Press', ' Sornette, D., (2003) Why Stock Markets Crash: Critical Events in Complex Financial Systems, , Princeton, NJ: Princeton University Press', 'Property and the Right to Water: Toward a Non-Liberal Commons', 'Oscillations in rational economies', ' Gabaix, X., Gopikrishnan, P., Plerou, V., Stanley, H.E., A theory of power-law distributions in financial market fluctuations (2003) Nature, 423 (6937), pp. 267-270. , DOI 10.1038/nature01624', ' Gopikrishnan, P., Plerou, V., Nunes, A.L.A., Meyer, M., Stanley, H.E., Scaling of the distribution of fluctuations of financial market indices (1999) Physical Review E - Statistical Physics, Plasmas, Fluids, and Related Interdisciplinary Topics, 60 (5 A), pp. 5305-5316', ' Osborne, M.J., (1994) A Course in Game Theory, , MIT Press', ' Vogtländer, J.G., Bijma, A., Brezet, H.C., Communicating the eco-efficiency of products and services by means of the eco-costs/value model (2002) Journal of Cleaner Production, 10 (1), pp. 57-67', 'How do life, economy and other complex systems escape the heat death?', ' Van Heijenoort, J., (1977) From Freege to Gödel: A Source Book in Mathematical Logic, 1879-1931, , Harvard University Press: Cambridge, MA, USA', ' May, R.M., Simple mathematical models with very complicated dynamics (1976) Nature, 261, pp. 459-467', ' Gabaix, X., The granular origins of aggregate fluctuations (2011) Econometrica, 79, pp. 733-772', 'Evaluation and design of innovation policies in the agro-food sector: An application of multilevel self-regulating agents', ' Nelson, R.R., Winter, S.G., (1982) An Evolutionary Theory of Economic Change, , Harvard University Press, Cambridge MA', ' Mitchell, G., Problems and fundamentals of sustainable development indicators (1996) Sustainable Development, 4, pp. 1-11', 'Ecological econophysics for degrowth', ' Costanza, R., Patten, B.C., Defining and predicting sustainability (1995) Ecol. Econ., 15, pp. 193-196', ' Peters, O., Hertlein, C., Christensen, K., A complexity view of rainfall (2002) Phys. Rev. Lett., 88, p. 018701', ' World Scientific: Singapore', ' Packard, N., (1988) Adaptation Toward the Edge of Chaos', ' Scheinkman, J.A., Woodford, M., Self-organized criticality and economic fluctuations (1994) Am. Econ. Rev., 84, pp. 417-421', 'The potential of object-oriented analysis and design for Agent-based Computational Economics', ' Browning, T.R., Applying the design structure matrix to system decomposition and integration problems: A review and new directions (2001) IEEE Transactions on Engineering Management, 48 (3), pp. 292-306. , doi:10.1109/17.946528', 'Coupled model of \"assessment-simulation-optimization\" for basin environmental economic decision-making', ' (2012), 28 (1), pp. 19-25. , Chinese source', ' (2008), Chinese source', ' (2009), Chinese source', 'What role for social-ecological systems research in governing global teleconnections?', ' McMichael, P., Agrofuels in the food regime (2010) J. Peasant Stud., 37 (4), pp. 609-629', 'An application of system dynamics model into strategic environmental assessment of urban planning: a case study of Linfen city', ' (2000), Chinese source', 'Complementarity of socio-economic and emergy evaluation of agricultural production systems: The case of Slovenian dairy sector', ' Funtowicz, S., Ravetz, J., Emergent complex systems (1994) Futures, 26, pp. 568-582', 'Economic recession and a crisis of regulation in safety-critical industries', 'Niche construction, innovation and complexity', ' Jones, C.G., Lawton, J.H., Shachak, M., Organisms as ecosystem engineers (1994) Oikos, 69, pp. 373-386', ' Jones, C.G., Lawton, J.H., Shachak, M., Positive and negative effects of organisms as physical ecosystem engineers (1997) Ecology, 78, pp. 1946-1957', 'Is the El Farol more efficient when cognitive rational agents have a larger memory size?', ' Simon, H.A., A behavioral model of rational choice (1955) The Quarterly Journal of Economics, 69 (1), pp. 99-118. , February', 'Information dynamic spectrum characterizes system instability toward critical transitions', 'Estimation of parameters in mean-reverting stochastic systems', ' Burrage, K., Burrage, P.M., Tian, T., Numerical methods for strong solutions of stochastic differential equations: An overview (2004) Proceedings of the Royal Society A: Mathematical, Physical and Engineering Sciences, 460 (2041), pp. 373-402. , DOI 10.1098/rspa.2003.1247', ' Hurn, A.S., Lindsay, K.A., Estimating the parameters of stochastic differential equations (1999) Mathematics and Computers in Simulation, 48 (4-6), pp. 373-384. , PII S0378475499000178', ' Gallant, A.R., Tauchen, G., The relative efficiency of method of moments estimators (1999) Journal of Econometrics, 92 (1), pp. 149-172. , PII S0304407698000888', ' Chan, K.C., Karolyi, G.A., Longstaff, F.A., Sanders, A.B., An empirical comparison of alternative models of the short-term interest rate (1992) Journal of Finance, 47, pp. 1209-1227', ' Tian, T., Burrage, K., Implicit Taylor methods for stiff stochastic differential equations (2001) Applied Numerical Mathematics, 38 (1-2), pp. 167-185. , DOI 10.1016/S0168-9274(01)00034-4, PII S0168927401000344', ' Tian, T., Xu, S., Gao, J., Burrage, K., Simulated maximum likelihood method for estimating kinetic rates in gene expression (2007) Bioinformatics, 23 (1), pp. 84-91. , DOI 10.1093/bioinformatics/btl552', 'Locus of control and obesity', 'Transition in the waiting-time distribution of price-change events in a global socioeconomic system', ' Challet, D., Zhang, Y.C., (1997) Physica A, 246, p. 407', 'Using the multiple capitals framework to connect indicators of regional cumulative impacts of mining and pastoralism in the Murray Darling Basin, Australia', ' Cairns, J., McCormick, P.V., Niederlehner, B.R., A proposed framework for developing indicators of ecosystem health (1993) Hydrobiologia, 263, pp. 1-44', ' Daly, H.E., Toward some operational principles of sustainable development (1990) Ecological Economics, 2, pp. 1-6', 'Cities and transport networks in shipping and logistics research', ' Banavar, J.R., Maritan, A., Rinaldo, A., Size and form in efficient transportation networks (1999) Nature, 399, pp. 130-132', ' Bar-Yam, Y., (2004) Making Things Work, , NECSI, Knowledge Press USA', ' Krugman, P., Increasing returns and economic geography (1991) Journal of Political Economy, 99, pp. 483-499', ' Wilson, A.G., A statistical theory of spatial distribution models (1967) Transportation Research, 1, pp. 253-269', 'Schumpeter, Marshall, and neo-Schumpeterian evolutionary economics: A critical stocktaking', ' Antonelli, C., The evolution of industrial organization of the production of knowledge (1999) Cambridge Journal of Economics, 23, pp. 243-260', ' Barney, J., Firm resources and sustained competitive advantage (1991) Journal of Management, 17, pp. 99-120', 'Modelling approaches for consequential life-cycle assessment (C-LCA) of bioenergy: Critical review and proposed framework for biogas production', ' Fargione, J., Hill, J., Tilman, D., Polasky, S., Hawthorne, P., Land clearing and the biofuel carbon debt (2008) Science, 319 (5867), pp. 1235-1238', 'Agent-based modeling of climate policy: An introduction to the ENGAGE multi-level model framework', ' Manski, C., (1995) Identification Problems in the Social Sciences, , Cambridge: Harvard University Press', 'Inferring causality in networks of WSS processes by pairwise estimation methods', ' Quinn, C., Coleman, T., Kiyavash, N., Hatsopoulos, N., Estimating the directed information to infer causal relationships in ensemble neural spike train recordings (2011) Journal of Computational Neuroscience', \"Economy as a Social System: Niklas Luhmann's Contribution and its Significance for Economics\", ' North, D.C., (2005) Understanding the Process of Economic Change, , Princeton: Princeton University Press', ' T. Cadell', ' Mitchell, M., (2009) Complexity: A Guided Tour, , Oxford: Oxford University Press', 'Subsistence economics, family size, and the emergence of social complexity in hunter-gatherer systems in eastern north america', ' Arthur, W.B., Competing technologies, increasing returns, and lock-in by historical events (1989) The Economic Journal, 99 (394), pp. 116-131', ' Miller, J.H., Page, S.E., (2007) Complex Adaptive Systems: An Introduction to Computational Models of Social Life, , Princeton University Press, Princeton', 'Emergence in stigmergic and complex adaptive systems: A formal discrete event systems perspective', ' Holland, J.H., Studying complex adaptive systems (2006) Journal of Systems Science and Complexity, 19 (1), pp. 1-8', ' Watts, D., Strogatz, S., Collective dynamics of small-world networks (1998) Nature, 393, pp. 440-442', 'The Earth as a living planet: Human-type diseases in the earthquake preparation process', ' Bar-Yam, Y., (1997) Dynamics of Complex Systems, , Addison-Wesley, Reading, Massachusetts', 'Complex copyright: Mapping the information ecosystem', ' Buchanan, M., (2002) Nexus: Small Worlds and the Groundbreaking Theory of Networks', ' Gleick, J., (1987) Chaos: Making a New Science', ' Lewin, R., (1992) Complexity: Life at the Edge of Chaos', 'Agent-based modeling and simulation with swarm', ' Holland, J.H., (1975) Adaptation in Natural and Artificial Systems, , University of Michigan Press, Ann Arbor', ' Luna, F., Stefansson, B., (2000) Economic Simulations in Swarm: Agent-Based Modelling and Object Oriented Programming, , Kluwer Academic Publishers, Norwell, MA', ' Wolfram, S., (2002) A New Kind of Science, , Wolfram Media, Champaign, IL', 'Indices and indicators in development: An unhealthy obsession with numbers?', ' Rennings, K., Wiggering, H., Steps towards indicators of sustainable development: Linking economic and ecological concepts (1997) Ecological Economics, 20, pp. 25-36', ' (1987) Our Common Future, , Oxford University Press, Oxford', 'Mathematical modeling in economics. Comment on \"Thermostatted kinetic equations as models for complex systems in physics and life sciences\" by Carlo Bianca', 'Domar, E., Capital expansion, economic growth and employment (1946) Econometrica, 14, pp. 137-147', ' Solow, R.M., A contribution to the theory of economic growth (1956) Quarterly Journal of Economics, 70, pp. 65-94', ' Rosser, J.B., On the complexities of complex economic dynamics (1999) Journal of Economic Perspectives, 13, pp. 169-192', ' West, G.B., Brown, J.H., Enquist, B.J., A general model for the origin of allometric scaling laws in biology (1997) Science, 276, pp. 122-126', 'Thermostatted kinetic equations as models for complex systems in physics and life sciences', 'Acephalous groups and their dynamics from a complex systems perspective', 'Weighting social preferences in participatory multi-criteria evaluations: A case study on sustainable natural resource management', \" Figueira, J., Roy, B., Determining the weights of criteria in the ELECTRE type methods with a revised Simos' procedure (2002) European Journal of Operational Research, 139, pp. 317-326\", ' Funtowicz, S.O., Ravetz, J., (1990) Uncertainty and Quality in Science for Policy, , Kluwer, Dordrecht', ' Howarth, R.B., Wilson, M.A., A theoretical approach to deliberative valuation: aggregation by mutual consent (2006) Land Economics, 82 (1), pp. 1-16', \" Martinez-Alier, J., Munda, G., O'Neill, J., Weak comparability of values as a foundation for ecological economics (1998) Ecological Economics, 26, pp. 277-286\", ' Munda, G., Nijkamp, P., Rietveld, P., Qualitative multi-criteria methods for fuzzy evaluation problems (1995) European Journal of Operational Research, 82, pp. 79-97', ' Webler, T., Kastenholz, H., Renn, O., Public participation in impact assessment: a social learning perspective (1995) Environmental Impact Assessment Review, 15, pp. 443-463', 'Individual and collective rationality in complex economic systems', ' Sonnenschein, H., Market excess demand functions (1972) Econometrica, 40, pp. 549-563', ' Debreu, G., Excess demand functions (1974) Journal of Mathematical Economics, 1, pp. 15-23', ' Weisbuch, G., Kirman, A., Herreiner, D., Market organisation and trading relationships (2000) Economic Journal, 110, pp. 411-436', ' Brock, W., Durlauf, S., Discrete choice with social interactions (2001) Review of Economic Studies, 68, pp. 235-260', ' Goyal, S., (2007) Connections: An Introduction to the Economics of Networks, , Princeton, NJ: Princeton University Press', 'Challenges in network science: Applications to infrastructures, climate, social systems and economics', ' Barabási, A.-L., Albert, R., (1999) Science, 286, p. 509', ' Pastor-Satorras, R., Vespignani, A., (2001) Phys. Rev. Lett., 86, p. 3200', ' Watts, D.J., Strogatz, S.H., (1998) Nature, 393, p. 440', ' Albert, R., Barabási, A.-L., (2002) Rev. Mod. Phys., 74, p. 47', 'Systems theory', ' Holland, J.H., (1995) Hidden Order: How Adaptation Builds Complexity, , Addison-Wesley, Reading, MA', 'Quantifying the behavior of stock correlations under market stress', 'Complexity and economic geography [Komplexita a ekonomická geografia]', ' Raine, A., Foster, J., Potts, J., The new entropy law and the economic process (2006) Ecological Complexity, 3, pp. 354-360', 'Calibration of stochastic differential equation models using implicit numerical methods and particle swarm optimization', ' Batty, M., Longley, P.A., (1994) Fractal Cities: A Geometry of Form and Function, , Academic Press, San Diego, CA', 'Allometry and growth: A unified view', 'The road to complexity: Why should economics follow physics [O camiño á complexidade: Por que a economía debería seguir á física]', ' Mandelbrot, B.B., The variation of certain speculative prices (1963) J. Business, 36, pp. 394-419', ' Smith, E., Foley, D., Classical thermodynamics and economic general equilibrium theory (2008) Journal of Economic Dynamics and Control, 32 (1), pp. 7-65', ' Solow, R., Technical change and the aggregate production function (1957) Review of Economics and Statistics, 39 (3), pp. 312-320', 'An approach to regional planning in India', ' Batty, M., The size, scale, and shape of cities (2008) Science, 319 (5864), pp. 769-771. , DOI 10.1126/science.1151419', ' Mokyr, J., (1990) The Lever of Riches: Technological Creativity and Economic Progress, , Oxford University Press, New York', ' Ostrom, E., (2005) Understanding Institutional Diversity, , Princeton University Press, Princeton, New Jersey', 'Review of eco-efficiency accounting method and its applications', ' Markose, S.M., Computability and evolutionary complexity: markets as complex adaptive systems (2005) Economic Journal, 115, pp. F159-F192', 'Systemic risks in society and economics', ' Nicolis, G., Prigogine, I., (1977) Self-Organization in Nonequilibrium Systems, , Wiley, New York', ' Helbing, D., Farkas, I., Vicsek, T., Simulating dynamical features of escape panic (2000) Nature, 407, pp. 487-490', ' Akerlof, G.A., Shiller, R.J., (2009) Animal Spirits. How Human Psychology Drives the Economy, and Why It Matters for Global Capitalism, , (Princeton University, Princeton, NJ', 'When physicists invade economics', 'Nonadditive entropy Sq and nonextensive statistical mechanics: Applications in geophysics and elsewhere', 'Economic emergence: An evolutionary economic perspective', 'Aghion, P., Howitt, P., (1998) Endogenous Growth Theory, , MIT Press, Cambridge, MA', ' Alchian, A.A., Uncertainty, evolution and economic theory (1950) Journal of Political Economy, 58, pp. 211-222', ' Ariely, D., (2008) Predictably Irrational: The Hidden Forces That Shape Our Decisions, , HarperCollins, New York', ' Arthur, W.B., (1994) Increasing Returns and Path Dependence in the Economy, , University of Michigan Press, Ann Arbor', ' Boulding, K.E., (1981) Evolutionary Economics, , Sage Publications, Beverley Hills', \" Christensen, C.M., (1997) The Innovator's Dilemma\", ' Foster, J., (1987) Evolutionary Macroeconomics, , Unwin Hyman, London, (Reproduced in the Routledge Revivals Series, 2011)', ' Foster, J., Economics and the self-organisation approach: Alfred Marshall revisited? (1993) The Economic Journal, 103 (419), pp. 975-991', ' Foster, J., Competitive selection, self-organization and Joseph A. Schumpeter (2000) Journal of Evolutionary Economics, 10 (3), pp. 311-328', ' Georgescu-Roegen, N., (1971) The Entropy Law and the Economic Process, , Harvard University Press, Boston', ' Metcalfe, J.S., (1998) Evolutionary Economics and Creative Destruction, , Routledge, London', ' Potts, J., (2000) The New Evolutionary Microeconomics: Complexity, Competence and Adaptive Behaviour, , Edward Elgar, Cheltenham', ' Sahlins, M., The original affluent society (1998) Limited Wants, Unlimited Means, pp. 5-42. , Island Press, Washington, DC, J. Gowdy (Ed.)', ' Shackle, G.L.S., (1972) Epistemics and Economics, , Cambridge University Press, Cambridge', ' Shane, S., Locke, E.A., Collins, C.J., Entrepreneurial motivation (2003) Human Resource Management Review, 13, pp. 257-279', ' Schneider, E., Sagan, D., (2005) Into The Cool: Energy Flow, Thermodynamics and Life, , Chicago University Press, Chicago', ' Witt, U., Novelty and the bounds of unknowledge in economics (2009) Journal of Economic Methodology, 16, pp. 361-375', 'The effect of scaling and connection on the sustainability of a socio-economic resource system', 'The anatomy of emergence, with a focus upon capital formation', ' Harper, D.A., Endres, A.M., Capital as a layer cake: a systems approach to capital and its multi-level structure (2010) Journal of Economic Behavior and Organization, 74, pp. 30-41', ' Hodgson, G.M., Knudsen, T., Generative replication and the evolution of complexity (2010) Journal of Economic Behavior and Organization, 75, pp. 12-24', \" O'Driscoll, G.P., Rizzo, M.J., (1985) The Economics of Time and Ignorance, , Basil Blackwell, Oxford\", 'Bounded Rationality and the Emergence of Simplicity Amidst Complexity', ' Gilboa, I., The complexity of computing best-response automata in repeated games (1988) Journal of Economic Theory, 45, pp. 342-352', ' Kahneman, D., Maps of bounded rationality: psychology for behavioral economics (2003) American Economic Review, 93 (5), pp. 1449-1475', ' Kirman, A., The economy as an evolving network (1997) Journal of Evolutionary Economics, 7, pp. 339-353', ' White, R., Engelen, G., Uljee, I., The use of constrained cellular automata for high-resolution modelling of urban land use dynamics (1997) Environment and Planning B, 24, pp. 323-343', 'On long lifespan systems and applications', ' Cutnell, J.D., Johnson, K.W., (1998) Physics', ' Eigen, M., Schuster, P., (1979) The Hypercycle: A Principle of Natural Self-Organization, , Springer, Berlin', ' Ellis, D.O., Fred, J.L., (1962) Systems Philosophy, , Prentice-Hall', ' Haken, H., (1977) Synergetics, , Springer-Verlag, NY', ' Klir, G.J., (1992) Facets of Systems Science, , Plenum, New York', 'Complexity, economics, and public policy', 'Emergence and complexity in Austrian economics', ' Dawkins, R., (1976) The Selfish Gene, , Oxford University Press, Oxford', ' Lavoie, D., Economic chaos or spontaneous order? Implications for political economy of the new view of science (1989) Cato Journal, 8, pp. 613-635', ' Price, G.R., Selection and covariance (1970) Nature, 227, pp. 520-521', 'Integrated resource flow modelling of the urban built environment', ' Batty, M., Cellular automata and urban form: A primer (1997) Journal of the American Planning Association, 63 (2), pp. 266-274', ' Putman, S.H., (1983) Integrated Urban Models, , London: Pion', 'The political economy of bureaucracy', ' Kaldor, N., The irrelevance of equilibrium economics (1972) The Economic Journal, 82', ' Ostrom, E., An agenda for the study of institutions (1986) Public Choice, 48', 'Urban geosimulation', ' Batty, M., Xie, Y., From cells to cities (1994) Environment and Planning B, 21, pp. s31-s48', ' Couclelis, H., Cellular worlds: A framework for modeling micro-macro dynamics (1985) Environment and Planning A, 17, pp. 585-596', ' Couclelis, H., From cellular automata to urban models: New principles for model development and implementation (1997) Environment and Planning B, 24, pp. 165-174', ' Sakoda, J.M., The checkerboard model of social interaction (1971) Journal of Mathematical Sociology, 1, pp. 119-132', 'Intelligence by design for the entropic grid', ' Foster, J., From simplistic to complex systems in economics (2005) Cambridge Journal of Economics, 29 (6), pp. 873-892', 'A high-risk high-reward approach to public-private collaborative research in predictive modeling & control of complex systems', ' Bar-Yam, Y., (2003) Dynamics of Complex Systems (Studies in Nonlinearity), , Westview Press', ' Von Bertalanffy, L., (1968) General System Theory: Foundations, Development, Applications, , New York: George Braziller', 'Fractal dynamics of complex systems', ' Cuniberti, G., Effects of regulation on a self-organized market (2001) Quantitative Finance, 1, pp. 332-335', ' Bonabeau, E., Dorigo, M., Theraulaz, G., (1999) Swarm Intelligence: From Natural to Artificial Systems, , Oxford University Press', 'Open-ended agent-based economic evolution', ' Tesfatsion, L., Agent-based computational economics: Growing economies from the bottom up (2002) Artificial Life, 8, pp. 55-82', 'Modelling in Urban and Regional Planning: Past, present, and yet to come', ' Baynes, T., Complexity in urban development and management (2009) Journal of Industrial Ecology, 13 (2), pp. 214-227', ' Albert, R., Barabasi, A.L., Statistical mechanics of complex networks (2002) Reviews of Modern Physics, 74, pp. 47-97', 'Asymmetric Lévy flight in financial ratios', ' Feller, W., (1971) An Introduction to Probability Theory and Its Applications, , Wiley, New York', \" Lévy, P., (1937) Théorie de l'Addition des Variables Aléatoires, , Gauthier-Villars, Paris\", \" Watts, D.J., Strogatz, S.H., Collective dynamics of 'small-world' networks (1998) Nature, 393 (6684), pp. 440-442. , DOI 10.1038/30918\", 'Energy, aesthetics and knowledge in complex economic systems', ' Costanza, R., Embodied energy and economic valuation (1980) Science, 210, pp. 1219-1224', ' Tainter, J.A., (1988) The Collapse of Complex Societies, , Cambridge University Press, Cambridge', 'Crossroads of tourism: A complex spatial systems analysis of tourism and urban sprawl in the Algarve', ' Taylor, P.J., (2005) Unruly Complexity: Ecology, Interpretation, Engagement, , University of Chicago Press, Chicago', 'Emergent complexity in agent-based computational economics', 'Behavioural complexity', ' Hayek, F., The use of knowledge in society (1945) American Economic Review, 35, pp. 519-530', ' Lux, T., Herd behaviour, bubbles and crashes (1995) The Economic Journal, 105, pp. 881-896', 'Impact of the topology of global macroeconomic network on the spreading of economic crises', ' Mantegna, R.N., Hierarchical structure in financial markets (1999) Eur Phys J B, 11, pp. 193-197', ' Albert, R., Jeong, H., Barabási, A.-L., Error and attack tolerance of complex networks (2000) Nature, 406, pp. 378-382', 'Statistically validated networks in bipartite complex systems', 'Human consciousness as a base for sustainability in socio-economic- ecological systems', ' Funtowicz, S.O., Ravetz, J.R., Science for the post-normal age (1993) Futures, 25 (7), pp. 739-755', 'A study on market simulation with consumers in complex network', 'Complexity theory after the financial crisis: The death of neoliberalism or the triumph of Hayek?', 'Can ecosystem services lead ecology on a transdisciplinary pathway?', ' Scheffer, M., Brock, W., Westley, F., Socioeconomic mechanisms preventing optimum use of ecosystem services: An interdisciplinary theoretical analysis (2000) Ecosystems, 3, pp. 451-471', 'Ecological economics', 'Moving beyond panaceas: A multi-tiered diagnostic approach for social-ecological analysis', 'Resilience of company management system', 'Using cellular automata on a graph to model the exchanges of cash and goods', 'Capacities, innovation and feedbacks in production networks in Argentina', ' Albornoz, F., Yoguel, G., Competitiveness and production network: The case of the Argentine automotive sector (2004) Industrial and Corporate Change, 13 (4), pp. 619-642', ' Antonelli, C., Percolation processes, technological externalities and the evolution of technological clubs (1997) Empirica, 24 (1-2), pp. 137-156', ' Arthur, B., Complexity and the economy (1999) Sciences, 284 (5411), pp. 107-109', ' Caloghirou, Y., Kastelli, I., Tsakanikas, A., Internal capabilities and external knowledge sources: Complements or substitutes for innovative performance? (2004) Technovation, 24 (1), pp. 29-39', ' Cohen, W., Levinthal, D., Absorptive capacity: A new perspective on learning and innovation (1989) Administrative Science Quarterly, 99 (397), pp. 569-596', ' David, P., Clio and the economics of qwerty (1985) American Economic Review: Papers and Proceedings, 75 (2), pp. 332-337', \" Dosi, G., Kaniovski, Y., On 'badly behaved' dynamics (1994) Journal of Evolutionary Economics, 4, pp. 93-123\", ' Dosi, G., Nelson, R., An introduction to evolutionary theories in economics (1994) Journal of Evolutionary Economics, 4 (3), pp. 153-172', ' Fagerberg, J., Schumpeter and the revival of evolutionary economics: An appraisal of the literature (2003) Journal of Evolutionary Economics, 13 (2), pp. 125-159', ' Grandori, A., Soda, G., Inter-firm networks: Antecedents, mechanisms and forms (1995) Organization Studies, 16 (2), pp. 183-214', ' Malerba, F., Orsenigo, L., Technological regimes and sectoral patterns of innovative activities (1997) Industrial and Corporate Change, 6 (1), pp. 83-118', ' Teece, D., Pisano, G., The dynamic capabilities of firms: An introduction (1994) Industrial and Corporate Change, 3 (3), pp. 537-556', 'Complex dynamics of innovation and economic development [La dinámica compleja de la innovacion y el desarrollo económico]', 'Industry and Commercial Context', ' Rouse, W.B., (2001) Essential Challenges of Strategic Management, , New York: Wiley', 'Dynamic properties of complex adaptive ecosystems: Implications for the sustainability of service provision', ' Hardin, G., The tragedy of the commons (1968) Science, 162, pp. 1243-1248', ' Kauffman, S.A., (1993) The Origins of Order: Self-Organization and Selection in Evolution, , New York: Oxford University Press', 'Applying methodological pluralism to wildlife and the economy', ' Norgaard, R.B., The case for methodological pluralism (1989) Ecological Economics, 1, pp. 37-57', ' Lindgren, K., Nordahl, M.G., Evolutionary dynamics of spatial games (1994) Physica D, 75, pp. 292-309', 'Critical infrastructure protection under imperfect attacker perception', 'Holmgren, Å.J., Thedéen, T., Risk analysis (2009) Risks in Technological Systems, , Grimwall G., Holmgren Å.J., Jacobsson P., and Thedéen T. (Eds), Springer-Verlag, London, United Kingdom', 'How to win friends and (possibly) influence mainstream economists', 'Economic complexity and the role of markets', ' Rosser Jr., J.B., On the complexities of complex economic dynamics (1999) Journal of Economic Perspectives, 13 (4), pp. 169-192', 'Study on information and communication technology (ICT) models of adoption and use in the kingdom of Saudi Arabian SMEs', ' (2005) EU Commission Report', ' Weil, P., Olson, M.H., Managing investment in information technology: Mini case examples and implications (1989) MIS Quarterly', ' Mahmood, M.A., Mann, G.J., Special issue: Impacts of information technology investment on organizational performance (2000) Journal of Information Systems, 17 (1), pp. 3-10', ' Kirby, D., Turner, M., IT and the small retail business (1993) International Journal of Retail and Distribution Management, 21 (7), pp. 20-27', ' Julien, P.A., Raymond, L., Factors of new technology adoption in the retail sector (1994) Entrepreneurship: Theory and Practice, 18 (5), pp. 79-90', ' Iacovou, C.L., Benbasat, I., Dexter, A.A., Electronic data interchange and small organisations: Adoption and impact of technology (1995) MIS Quarterly, 19 (4), pp. 465-485', ' Premkumar, G., Roberts, M., Adoption of new information technologies in rural small businesses (1999) The International Journal of Management Science (OMEGA), 27, pp. 467-484', ' Grover, V., Goslar, M.D., The initiation, adoption, and implementation of telecommunications technologies in U.S. Organisations (1993) Journal of Management Information Systems, 10 (1), p. 141', ' Checkland, P., Holwell, S., (1998) Information, Systems and Information Systems: Making Sense of the Field, pp. 19-32. , Wiley, New York', 'Agent-based modeling in ecological economics', ' Levin, S.A., The problem of pattern and scale in ecology (1992) Ecology, 73, pp. 1943-1967', 'A biophysically anchored production function', ' Common, M., Perrings, C., Towards an ecological economics of sustainability (1992) Ecological Economics, 6, pp. 7-34', 'The whole is more than the sum of its parts- or is it? A review of the empirical literature on complementarities in organizations', ' Levinthal, D.A., Adaptation on rugged landscapes (1997) Management Science, 43, pp. 934-950', ' Simon, H.A., The architecture of complexity (1962) Proceedings of the American Philosophical Society, 106, pp. 467-482', 'The Influence of thermodynamic ideas on ecological economics: An interdisciplinary critique', ' Bilgen, E., Exergetic and engineering analyses of gas turbine based cogeneration systems (2000) Energy, 25, pp. 1215-1229', 'The complexity approach to urban and regional systems and to the economy in general', ' Granovetter, M., The strength of weak ties (1973) American Journal of Sociology, 78, pp. 1360-1380', ' Kahneman, D., Tversky, A., Prospect theory: An analysis of decision under risk (1979) Econometrica, 47, pp. 263-291', ' Smith, V.L., (1991) Papers in Experimental Economics, , Cambridge: Cambridge University Press', 'Deliberative valuation without prices: A multiattribute prioritization for watershed ecosystem management', ' Kauffman, S.A., (1993) The Origins of Order: Self-organization and Selection in Evolution, , Oxford University Press, New York', 'System economics: Overcoming the pitfalls of forecasting models via a multidisciplinary approach', 'The topology of transportation networks: A comparison between different economies', 'New paradigms towards the modelling of complex systems in behavioral economics', ' Axelrod, R., (1997) The Complexity of Cooperation: Agent-based Models of Competition and Collaboration, , Princeton University Press, Princeton, N.J', ' Holling, C.S., Understanding the complexity of economic, ecological, and social systems (2001) Ecosystems, 4, pp. 390-405', \"Science, technology and innovation for economic growth: Linking policy research and practice in 'STIG Systems'\", ' Wallner, H.P., Towards sustainable development of industry: Networking, complexity and eco-clusters (1999) Journal of Cleaner Production, 7, pp. 49-58', 'The structure, function, and evolution of a regional industrial ecosystem', ' Holling, C.S., Simplifying the complex: The paradigms of ecological function and structure (1987) European Journal of Operational Research, 30, pp. 139-146', 'On the institutional foundations of law: The insufficiency of custom and private ordering', ' Sugden, R., (1986) The Economics of Rights, Co-operation and Welfare, , Oxford: Basil Blackwell', 'Evolutionary computation and artificial financial markets', ' Simon, H.A., (1982) Models of Bounded Rationality, , MIT Press, Cambridge', 'Artificial intelligence techniques for sizing photovoltaic systems: A review', 'Medsker, L.R., Microcomputer applications of hybrid intelligent systems (1996) J Network Comput Appl, 19, pp. 213-234', ' Rich, E., Knight, K., (1996) Artificial intelligence, , McGraw-Hill, New York', ' Kalogirou, S.A., Artificial intelligence for the modeling and control of combustion processes: a review (2003) Prog Energy Combust Sci, 29, pp. 515-566', ' Zadeh, L.A., Fuzzy sets (1965) Inform Control, 8, pp. 338-353', ' Holland, J.H., (1975) Adaptation in natural and artificial systems, , University of Michigan Press, Ann Arbor', ' Lakhmi, C.J., Martin, N.M., (1998) Fusion of neural networks, fuzzy systems and genetic algorithms: industrial applications, , CRC Press LLC', ' Kadaba, N., Nygard, K.E., Juell, P.J., Integration of adaptive machine learning and knowledge-cased systems for routing and scheduling applications (1991) Expert Syst Appl, 2, pp. 15-27', ' SchaVer, J.D., Combinations of genetic algorithms with neural networks or fuzzy systems (1994) Computational intelligence: imitating life, pp. 371-382. , Zurada J.M., Marks II R.J., and Robinson C.J. (Eds), IEEE Press, New York', 'The economics of gasification: A market-based approach', 'Design evolution of an open source project using an improved modularity metric', 'Baldwin, C.Y., Clark, K.B., (2000) Design Rules: The Power of Modularity, , MIT Press, Cambridge', ' Sanchez, R., Mahoney, J.T., Modularity, flexibility, and knowledge management in product and organization design (1996) Strategic Management Journal, 17, pp. 63-76', ' Tesfatsion, L., Agent-based computational economics: Growing economies from the bottom up (2002) Artificial Life, 8 (1), pp. 55-82', 'The coordination dynamics of economic decision making: A multilevel approach to social neuroeconomics', 'Social multi-criteria evaluation for a sustainable economy', ' Banville, C., Landry, M., Martel, J.M., Boulaire, C., A stakeholder approach to MCDA (1998) Systems Research and Behavioral Science, 15, pp. 15-32', ' Barbier, E.B., The concept of sustainable economic development (1987) Environmental Conservation, 14 (2), pp. 101-110', ' Barbier, E.B., Markandya, A., The conditions for achieving environmentally sustainable growth (1990) European Economic Review, 34, pp. 659-669', ' Bromley, D., Searching for sustainability: The poverty of spontaneous order (1998) Ecological Economics, 24, pp. 231-240', ' Chichilnisky, G., An axiomatic approach to sustainable development (1996) Social Choice and Welfare, 13 (2), pp. 219-248', ' Daly, H.E., Cobb, J.J., (1989) For the Common Good: Redirecting the Economy Toward Community, the Environment and a Sustainable Future, , Beacon Press, Boston', ' De Marchi, B., Ravetz, J., Participatory approaches to environmental policy (2001) Concerted Action EVE, Policy Research Brief, 10', ' De Marchi, B., Funtowicz, S.O., Lo Cascio, S., Munda, G., Combining participative and institutional approaches with multi-criteria evaluation. An empirical study for water issue in Troina, Sicily (2000) Ecological Economics, 34 (2), pp. 267-282', ' Dietz, F.J., Van Der Straaten, J., Rethinking environmental economics: Missing links between economic theory and environmental policy (1992) Journal of Economic Issues, 26 (1), pp. 27-51', ' Espelta, J.M., Retana, J., Habrouk, A., An economic and ecological multi-criteria evaluation of reforestation methods to recover burned Pinus Negra forests in NE Spain (2003) Forest Ecology and Management, 180, pp. 185-198', \" Faucheux, S., O'Connor, M., (1998) Valuation for Sustainable Development: Methods and Policy Indicators, , Edward Elgar, Cheltenham\", ' Giampietro, M., Using hierarchy theory to explore the concept of sustainable development (1994) Futures, 26 (6), pp. 616-625', ' Giampietro, M., Mayumi, K., Multiple-scale integrated assessment of societal metabolism: Introducing the approach (2000) Population and Environment, 22 (2), pp. 109-154', ' Giampietro, M., Mayumi, K., Multiple-scale integrated assessment of societal metabolism: Integrating biophysical and economic representations across scales (2000) Population and Environment, 22 (2), pp. 155-210', \" Gowdy, J.M., O'Hara, S., (1996) Economic Theory for Environmentalists, , Saint Lucie Press, St. Lucie County\", ' Guitouni, A., Martel, J.M., Tentative guidelines to help choosing an appropriate MCDA method (1998) European Journal of Operational Research, 109, pp. 501-521', ' Hayashi, K., Multicriteria analysis for agriculture resource management: A critical survey and future perspectives (2000) European Journal of Operational Research, 122, pp. 486-500', ' Hinloopen, E., Nijkamp, P., Qualitative multiple criteria choice analysis, the dominant regime method (1990) Quality and Quantity, 24, pp. 37-56', ' Horwarth, R., Norgaard, R.B., Intergenerational resource rights, efficiency and social optimality (1990) Land Economics, 66, pp. 1-11', ' Horwarth, R., Norgaard, R.B., Environmental valuation under sustainable development (1992) American Economic Review Papers and Proceedings, 80, pp. 473-477', ' Kleijnen, J.P.C., Ethical issues in modelling: Some reflections (2001) European Journal of Operational Research, 130, pp. 223-230', ' Kuhn, T.S., (1962) The Structure of Scientific Revolutions, , University of Chicago Press, Chicago', ' Moreno-Jiménez, J.M., Aguaron, J., Escobar, T., Turon, A., Multicriteria procedural rationality on SISDEMA (1999) European Journal of Operational Research, 119 (2), pp. 388-403', ' Munda, G., Multiple-criteria decision aid: Some epistemological considerations (1993) Journal of Multi-criteria Decision Analysis, 2, pp. 41-55', ' Munda, G., Cost-benefit analysis in integrated environmental assessment: Some methodological issues (1996) Ecological Economics, 19 (2), pp. 157-168', ' Munda, G., Environmental economics, ecological economics and the concept of sustainable development (1997) Environmental Values, 6 (2), pp. 213-233', ' Munda, G., Nijkamp, P., Rietveld, P., Qualitative multicriteria evaluation for environmental management (1994) Ecological Economics, 10, pp. 97-112', ' Nijkamp, P., Rietveld, P., Voogd, H., (1990) Multicriteria Evaluation in Physical Planning, , Amsterdam: North-Holland', 'Neural networks and the linguistics of speech', 'On long lifespan systems', 'Artificial intelligence techniques for photovoltaic applications: A review', 'Finding hope in the millennium ecosystem assessment', ' Hull, D.L., (1988) Science As a Process: An Evolutionary Account of the Social and Conceptual Development of Science, , University of Chicago Press, Chicago', 'Funtowicz, S., Ravetz, J., Emergent complex systems (1994) Futures, 26 (6), pp. 568-582', 'Fairness in multi-agent systems', ' Barabasi, A.-L., Albert, R., Emergence of scaling in random networks (1999) Science, 286, pp. 509-512', ' Dawkins, R., (1976) The Selfish Gene, , Oxford: Oxford University Press', 'In search of general evolutionary principles: Why Darwinism is too important to be left to the biologists', ' Commons, J.R., (1924) Legal Foundations of Capitalism, , Macmillan, New York', ' Commons, J.R., (1934) Institutional Economics - Its Place in Political Economy, , Macmillan, New York', ' Edelman, G.M., (1987) Neural Darwinism: The Theory of Neuronal Group Selection, , Basic Books, New York', ' Hirshleifer, J., Evolutionary models in economics and law: Cooperation versus conflict strategies (1982) Research in Law and Economics, 4, pp. 1-60', ' Lewontin, R.C., Adaptation (1978) Scientific American, 239, pp. 212-230', ' Penrose, E.T., Biological analogies in the theory of the firm (1952) American Economic Review, 42 (4), pp. 804-819', ' Price, G.R., The nature of selection (1995) Journal of Theoretical Biology, 175, pp. 389-396', ' Ritchie, D.G., Social evolution (1896) International Journal of Ethics, 6 (2), pp. 165-181', ' Samuelson, L., (1997) Evolutionary Games and Equilibrium Selection, , MIT Press, Cambridge, MA', ' Sober, E., Wilson, D.S., (1998) Unto Others: The Evolution and Psychology of Unselfish Behavior, , Harvard University Press, Cambridge, MA', ' Veblen, T.B., (1899) The Theory of the Leisure Class: An Economic Study in the Evolution of Institutions, , Macmillan, New York', ' Witt, U., Self-organisation and economics - What is new? (1997) Structural Change and Economic Dynamics, 8, pp. 489-507', ' Witt, U., Bioeconomics as economics from a Darwinian perspective (1999) Journal of Bioeconomics, 1 (1), pp. 19-34', 'An agent-based simulation model of a primitive agricultural society', ' Gilbert, N., Troitzsch, K.G., (1999) Simulation for the Social Scientist, , Open University Press, Buckingham', 'The size, scale, and shape of cities', \" Pareto, V., (1896) Cours d'Economie Politique, , Droz, Geneva, Switzerland\", ' Makse, H.A., Havlin, S., Stanley, H.E., (1995) Nature, 377, p. 608', 'An ecological perspective on interest groups and economic stagnation', ' Bak, P., Sneppen, K., Punctuated equilibrium and criticality in a simple model of evolution (1993) Physical Review Letters, 71, pp. 4083-4086', ' Rawls, J., (1971) A Theory of Justice, , Harvard University Press, Cambridge', 'Exergy cost analysis of a micro-trigeneration system based on the structural theory of thermoeconomics', 'Empirical evaluation of ICT adoption in Australian SMEs: Systemic approach', 'Money as social exergy', 'Modelling a supply chain as a network of markets', 'Modularität in der verteilten entwicklung komplexer Systeme: Chancen, Grenzen, Implikationen', ' Galbraith, J., (1973) Designing Complex Organizations, , Addison-Wesley, Reading', ' Newell, A., Simon, H.A., (1972) Human Problem Solving, , Prentice Hall, Englewood Cliffs', 'Possibilities and applications of system dynamics as a modeling and simulation concept in the energy supply industry', '(2003) World in Transition: Towards Sustainable Energy Systems, , WBGU, German Advisory Council on Global Change, Berlin, Springer', ' Forrester, J.W., The Beginning of System Dynamics (1989) International Meeting of the System Dynamics Society, , Stuttgart, Germany', ' Ford, A., System Dynamics and the Electric Power Industry (1997) System Dynamics Review, 13 (1)', ' Fischer, R., (2003) Business Planning with SAP SEM, pp. 71-81,226-235. , SAP Press, and pp', ' Meier, M., Sinzig, W., Mertens, P., (2002) SAP Strategic Enterprise Management / Business Analytics, pp. 58-61,87-104. , Springer, and pp', 'Evolutionary and adaptive learning in complex markets: A brief summary', 'Mind-dependence. The past in the grip of the present', 'Managing complex adaptive systems - A co-evolutionary perspective on natural resource management', 'Economics on the edge of chaos: Some pitfalls of linearizing complex systems', 'The wealth of species: Ecological communities, complex systems and the legacy of Frank Preston', ' West, B.J., Thoughts on modeling complexity (2006) Complexity, 11, pp. 33-43', 'Entropy and the Evaluation of Labour Market Interventions', ' Prigogine, I., Stengers, I., (1984) Order out of Chaos, , London: Heinemann', 'Impact of the monetary crisis on statistical properties of the Jakarta and Kuala Lumpur stock exchange indices', 'Canning, D., Amaral, L.A.N., Lee, Y., Meyer, M., Stanley, H.E., (1995) Econ. Lett., 60, p. 335', ' Liu, Y., Gopikrishnan, P., Cizeau, P., Meyer, M., Peng, C.-K., Stanley, H.E., (1999) Phys. Rev. E, 60, p. 1390', ' Gopikrishnan, P., Plerou, V., Gabaix, X., Stanley, H.E., (2000) Phys. Rev. E, 62, pp. R4493', ' Mantegna, R.N., Stanley, H.E., (1995) Nature (London), 376, p. 46', ' Mantegna, R.N., Stanley, H.E., (1999) An Introduction to Econophysics: Correlations and Complexity in Finance, , Cambridge University Press, Cambridge', ' Plerou, V., Gopikrishnan, P., Amaral, L.A.N., Meyer, M., Stanley, H.E., (1999) Phys. Rev. E, 60, p. 6519', ' Gopikrishnan, P., Plerou, V., Amaral, L.A.N., Meyer, M., Stanley, H.E., (1999) Phys. Rev. E, 60, p. 5305', ' Lillo, F., Mantegna, R.N., (2000) Eur. Phys. J. B, 15, p. 603', ' Johansen, A., Sornette, D., (1998) Eur. Phys. J. B, 1, p. 141', ' Wang, B.H., Hui, P.M., (2001) Eur. Phys. J. B, 20, p. 573', ' Mandelbrot, B.B., (1963) J. Business, 36, p. 394', ' Stanley, H.E., (2000) Physica A, 285', 'Chapter 31 Computational Laboratories for Spatial Agent-Based Models', 'Complexity, oikonomía and political economy', ' Georgescu-Roegen, N., (1971) The Entropy Law and the Economic Process, , Harvard University Press, Cambridge, MA', ' Stahel, A., Las Necesidades Humanas y la (re)producción de la pobreza por el desarrollo económico moderno (2002) Ecología Política, 23, pp. 141-151', 'Erratum: Republication: On the selection of adaptive algorithms in ABM: A computational-equivalence approach (Computational Economics (2006) vol. 28 10.1007/s10614-006-9039-1)', ' Arifovic, J., Genetic algorithms and inflationary economies (1995) Journal of Monetary Economics, 36 (1), pp. 219-243', ' Arifovic, J., Ledyard, J., Scaling up learning models in public good games (2004) Journal of Public Economic Theory, 6, pp. 205-238', ' Arifovic, J., Maschek, M., Expectations and currency crisis-an experimental approach (2003) 9th International Conference on Computing in Economics and Finance, pp. 11-13. , Paper presented at the University of Washington, Seattle', ' Camerer, C., Loewenstein, G., Prelec, D., Neuroeconomics: How neuroscience can inform economics (2005) Journal of Economic Literature, 43, pp. 9-64', ' Chen, S.-H., Liao, C.-C., Agent-based computational modeling of the stock price-volume relation (2004) Information Sciences, 170, pp. 75-100', ' Chen, S.-H., Tai, C.-C., Trading restrictions, price dynamics and allocative efficiency in double auction markets: Analysis based on agent-based modeling and simulations (2003) Advances in Complex Systems, 6 (3), pp. 283-302', ' Chen, S.-H., Yeh, C.-H., Genetic programming learning and the cobweb model (1996) Advances in Genetic Programming, 2, pp. 443-466. , In P. Angeline (Ed.) Chap. 22. MIT Press, Cambridge, MA', ' Chen, S.-H., Yeh, C.-H., Evolving traders and the business school with genetic programming: A new architecture of the agent-based artificial stock market (2001) Journal of Economic Dynamics and Control, 25, pp. 363-393', ' Chen, S.-H., Yeh, C.-H., On the emergent properties of artificial stock markets (2002) Journal of Economic Behavior and Organization, 49, pp. 129-217', ' Das, R., Hanson, J., Kephart, J., Tesauro, G., Agent-human interactions in the continuous double auction (2001) Proceedings of the International Joint Conference on Artificial Intelligence', ' Dawid, H., On the convergence of genetic learning in a double auction market (1999) Journal of Economic Dynamics and Control, 23, pp. 1545-1567', ' Feltovich, N., Reinforcement-based vs. belief-based learning models in experimental asymmetric-information games (2000) Econometrica, 68, pp. 605-641', ' Glimcher, P., Rustichini, A., Neuroeconomics: The consilience of brain and decision (2004) Science, 306, pp. 447-452', ' Gode, D.K., Sunder, S., Allocative efficiency of market with zero-intelligence trader: Market as a partial substitute for individual rationality (1993) Journal of Political Economy, 101 (1), pp. 119-137', ' Güth, W., Schmittberger, R., Schwarze, B., An experimental analysis of ultimatum bargaining (1982) Journal of Economic Behavior and Organization, 3 (4), pp. 367-388', ' He, M., Leung, H.-F., Jennings, N., A fuzzy logic-based bidding strategy for autonomous agents in continuous double auctions (2002) IEEE Transactions on Knowledge and Data Engineering', ' Hoffman, E., McCabe, K., Smith, V., On expectations and the monetary stakes in an incomplete information ultimatum game (1996) International Journal of Game Theory, 25 (3), pp. 289-301', ' Holland, J., Miller, J., Artificial adaptive agents in economic theory (1991) American Economic Review, 81 (2), pp. 365-370', ' Izumi, K., Ueda, K., Using an artificial market approach to analyze exchange rate scenarios (2002) Evolutionary Computation in Economics and Finance, pp. 135-157. , In S.-H. Chen (Ed.)', ' Kirman, A.P., Vriend, N., Evolving market structure: An ACE model of price dispersion and loyalty (2001) Journal of Economic Dynamics and Control, 25 (3-4), pp. 459-502', ' Kurumatani, K., Kawamura, H., Ohuchi, A., Market micro-structure analysis by multiagent simulation in X-economy - Comparison among technical indices (2005) Information Sciences, 170 (1), pp. 65-74', \" LeBaron, B., A builder's guide to agent-based financial markets (2001) Quantitative Finance, 1, pp. 254-261\", ' Lindström, T., A fuzzy design of the willingness to invest in Sweden (1998) Journal of Economic Behavior and Organization, 36 (1), pp. 1-17', ' Liu, J., Tang, Y.Y., Zhong, N., Wang, P.S.P., (2001) Agent Engineering, , World Scientific Publishing', ' Lucas Jr., R.E., Adaptive behavior and economic theory (1986) Journal of Business, 59, pp. 401-426', ' Ockenfels, A., Roth, A., The timing of bids in internet auctions: Market design, bidder behavior, and artificial agents (2002) Artificial Intelligence Magazine, pp. 79-87. , Fall', ' Ringhut, E., Kooths, S., Modeling expectations with GENEFER - An artificial intelligence approach (2003) Computational Economics, 21, pp. 173-294', ' Roth, A., Ockenfels, A., Last minute bidding and the rules of ending second price auctions: Evidence from eBay and amazon auctions on the internet (2002) American Economic Review, 92 (4), pp. 1093-1103', ' Rust, J., Miller, J., Palmer, R., Characterizing effective trading strategies: Insights from a computerized double auction market (1994) Journal of Economic Dynamics and Control, 18, pp. 61-96', ' Rustichini, A., Neuroeconomics: Present and future (2005) Games and Economic Behavior, 52, pp. 201-212', ' Smith, V.L., Suchanek, G.L., Williams, A., Bubbles, crashes, and endogenous expectations in experimental spot asset markets (1988) Econometrica, 56 (6), pp. 1119-1152', ' Tang, F.-F., A comparative study on learning in a normal form game experiment (2003) Journal of Economic Behavior and Organization, 50, pp. 385-390', ' Tay, N., Linn, S., Fuzzy inductive reasoning, expectation formation and the behavior of security prices (2001) Journal of Economic Dynamics and Control, 25, pp. 321-361', ' Wellman, M., Greenwald, A., Stone, P., Wurman, P., The 2001 trading agent experiment (2002) Proceedings of Fourteenth Innovative Applications of Artificial Intelligence Conference, pp. 935-941', ' Wooldridge, M., Jennings, N., Intelligent agents: Theory and practice (1995) Knowledge Engineering Review, 10, pp. 115-152', 'Indicators for complex innovation systems', ' Plerou, V., Amaral, L.A.N., Gopikrishnan, P., Meyer, M., Stanley, H.E., Similarities between the growth dynamics of university research and of competitive economic activities (1999) Nature, 400, pp. 433-437', 'Toward a systematic framework for research on dominant designs, technological innovations, and industrial change', 'On the selection of adaptive algorithms in ABM: A computational-equivalence approach', 'Arifovic, J., Genetic algorithm learning and the cobweb model (1994) Journal of Economic Dynamics and Control, 18 (1), pp. 3-28', ' Franke, R., Coevolution and stable adjustments in the cobweb model (1998) Journal of Evolutionary Economics, 8 (4), pp. 383-406', ' Midgley, D., Marks, R., Cooper, L., Breeding competitive strategies (1997) Management Science, 43 (3), pp. 257-275', ' Foster, J., (1987) Evolutionary Macroeconomics, , London: Unwin Hyman', 'Scaling theory of temporal correlations and size-dependent fluctuations in the traded value of stocks', 'Why is economics not a complex systems science?', ' The analytical foundations of evolutionary economics: From biological analogy to economic self-organization (1997) Structural Change and Economic Dynamics, 8, pp. 427-451', ' Witt, U., Self-organization and economics - What is new? (1997) Structural Change and Economic Dynamics, 8, pp. 489-507', 'About engineering complex systems: Multiscale analysis and evolutionary engineering', 'Assessment of sustainable development level of social, economic and ecological complex system in poverty-stricken districts of Hunan Province', 'Modeling of decentralized energy supply structures with \"System Dynamics\"', 'From simplistic to complex systems in economics', 'Role of multifractal sources in the analysis of stock market time series', ' Mantegna, R.N., Stanley, H.E., Scaling behavior of an economic index (1995) Nature, 376, pp. 46-49', ' Galluccio, S., Caldarelli, G., Marsili, M., Zhang, Y.-C., Scaling in currency exchange (1997) Physica A, 245, pp. 423-436', ' Schmitt, F., Schertzer, D., Lovejoy, S., Multifractal fluctuations in finance (2000) Int. J. Theoret. Appl. Finance, 3, pp. 361-364', ' Muzy, J.F., Delour, J., Bacry, E., Modelling fluctuations of financial time series: From cascade process to stochastic volatility model (2000) Euro. Phys. J. B, 17, pp. 537-548', ' Turiel, A., Parga, N., The multi-fractal structure of contrast changes in natural images: From sharp edges to textures (2000) Neural Comput., 12, pp. 763-793', ' Liu, Y., Gopikrishnan, P., Cizeau, P., Meyer, M., Peng, C.-K., Stanley, H.E., The statistical properties of the volatility of price fluctuations (1999) Phys. Rev. E, 60, pp. 1390-1400', ' Gopikrishnan, P., Plerou, V., Liu, Y., Amaral, L.A.N., Gabaix, X., Stanley, H.E., Scaling and correlation in financial time series (2000) Physica A, 287, pp. 362-373', \"Value from a complex dynamic system's perspective\", 'Complexity and empirical economics', 'Urban evolution', ' Batty, M., New ways of looking at cities (1995) Nature, 377, p. 574. , [Bat95]', 'Patterns of macroeconomic indicators preceding the unemployment rise in Western Europe and the USA', ' Spash, C., Hanley, N., Preferences, information, and biodiversity preservation (1995) Ecological Economics, 12, pp. 191-208', 'Active walks: The first twelve years (part I)', ' Baldassarri, A., Krishnamurthy, S., Loreto, V., Roux, S., Coarsening and slow dynamics in granular compaction (2001) Phys. Rev. Lett., 87, p. 224301', 'What economists teach and what economists do', ' Watts, D., (1999) Small Worlds: The Dynamics of Networks between Order and Randomness, , Princeton University Press, Princeton, NJ', 'Toward a new principle of agent engineering in multiagent systems: Computational equivalence', 'Statistical properties of the Indonesian Stock Exchange Index', 'Social multi-criteria evaluation: Methodological foundations and operational consequences', 'From engineering economics to extended exergy accounting: A possible path from monetary to resource-based costing', ' Gaggioli, R.A., Wepfer, W.J., Exergy economics (1980) Energy, 5 (8-9), pp. 823-837', 'Evaluation of coastal zone sustainability: An integrated approach applied in Shanghai Municipality and Chong Ming Island', 'Economics and complexity', 'Empirical nonextensive laws for the county distribution of total personal income and gross domestic product', ' Upadhyaya, A., Rieu, J.-P., Glazier, J.A., Sawada, Y., (2001) Physica A, 293, p. 549', ' Tsallis, C., (1988) J. Stat. Phys., 52, p. 479', ' Tsallis, C., Mendes, R.S., Plastino, A.R., (1998) Physica A, 261, p. 534', ' Tsallis, C., Levy, S.V.F., De Souza, A.M.C., Maynard, R., (1995) Phys. Rev. Lett., 75, p. 3589', 'Understanding complex human ecosystems: The case of Ecotourism on Bonaire', ' Levins, R., The strategy of model building in population biology (1966) American Scientist, 54, pp. 421-431', 'Bricks without straw: Darwinism in the social sciences', 'Axelrod, R., (1984) The Evolution of Cooperation, , New York: Basic Books', 'Economic small-world behavior in weighted networks', 'Thermodynamic analogies in economics and finance: Instability of markets', ' Dacorogna, M., (2001) An Introduction to High Frequency Finance, , New York: Academic Press', ' Hull, J., (1997) Options, Futures, and Other Derivatives, , Saddle River, NJ: Prentice-Hall', ' Baxter, M., Rennie, A., (1996) Financial Calculus, , Cambridge: Cambridge University Press', ' Bodie, Z., Merton, R.C., (1998) Finance, , Saddle River, NJ: Prentice-Hall', ' Föllmer, H., (1995) Mathematical Models in Finance, , Howison S., Kelly P.R., Wilmott P. London: Chapman & Hall', ' McCauley, J.L., (2000) Physica A, 285, p. 506', 'An empirical model of volatility of returns and option pricing', 'Renner, C., Peinke, J., Friedrich, R., (2001) Physica A, 298, p. 49', ' Wax, N., (1954) Selected Papers on Noise and Stochastic Processes, , Dover, New York', ' Feder, J., (1988) Fractals, , New York: Plenum Press', ' Mantegna, R., Stanley, H.E., (2000) An Introduction to Econophysics, , Cambridge: Cambridge University Press', ' Black, F., Scholes, M., (1973) J. Political Economy, 81, p. 637', ' Ching, E.S.C., (1996) Phys. Rev. E, 53, p. 5899', ' Stolovitsky, G., Ching, E.S.C., (1999) Phys. Lett. A, 255, p. 11', ' Gunaratne, G.H., McCauley, J.L., (2002) A Theory for Fluctuations in Stock Prices and Valuation of their Options, , submitted for publication', 'Scaling, correlations, and cascades in finance and turbulence', 'On CAPM and Black-Scholes differing risk-return strategies', 'Nonextensive statistical mechanics and economics', ' Beck, C., Lewis, G.S., Swinney, H.L., (2001) Phys. Rev. E, 63, p. 035303', ' Lyra, M.L., Tsallis, C., (1998) Phys. Rev. Lett., 80, p. 53', ' Mantegna, R.N., Stanley, H.E., (1995) Nature, 376, p. 46', 'Multifractal geometry in stock market time series', 'Empiricism in ecological economics: A perspective from complex systems theory', ' Rosen, R., On complex systems (1987) European Journal of Operational Research, 30, pp. 129-134', 'Darwinism in economics: From analogy to ontology', 'Tsallis statistics and gradually truncated Lévy flight - Distribution of an economical index', 'Environmental economics and ecological economics: Antagonistic approaches?', 'Knowledge and markets', 'Investing in sustainable development: the reproduction of manmade, human, natural and social capital', 'Scale invariance and universality: organizing principles in complex systems', ' Ivanov, P.ch., Amaral, L.A.N., Goldberger, A.L., Havlin, S., Rosenblum, M.G., Struzik, Z., Stanley, H.E., Multifractality in human heartbeat dynamics (1999) Nature, 399, pp. 461-465', 'Adaptive theorizing in a maladaptive world', 'Simulating artificial cities in a GIS environment: Urban growth under alternative regulation regimes', 'Growth of companies and water-level fluctuations of the river Danube', ' Amaral, L.A.N., Buldyrev, S.V., Havlin, S., Salinger, M.A., Stanley, H.E., (1998) Phys. Rev. Lett., 80, p. 1385', ' Lee, Y., Amaral, L.A.N., Canning, D., Meyer, M., Stanley, H.E., (1998) Phys. Rev. Lett., 81, p. 3275', 'Econophysics: Can physicists contribute to the science of economics?', ' Peng, C.-K., Buldyrev, S.V., Goldberger, A.L., Havlin, S., Sciortino, F., Simons, M., Stanley, H.E., (1992) Nature, 356, p. 168', ' Viswanathan, G.M., Afanasyev, V., Buldyrev, S.V., Murphy, E.J., Prince, P.A., Stanley, H.E., (1996) Nature, 381, p. 413', ' Mantegna, R.N., Stanley, H.E., (1996) Nature, 383, p. 587', ' Mantegna, R.N., Stanley, H.E., (1994) Phys. Rev. Lett., 73, p. 2946', ' Stanley, M.H.R., Amaral, L.A.N., Buldyrev, S.V., Havlin, S., Leschhorn, H., Maass, P., Salinger, M.A., Stanley, H.E., (1996) Nature, 379, p. 804', ' Hofbauer, J., Sigmund, K., (1988) The Theory of Evolution and Dynamical Systems, , Cambridge University Press, Cambridge', 'An approach to Baltic Sea sustainability', 'Scaling in the market of futures', 'Using dynamic modeling to scope environmental problems and build consensus', ' Bockstael, N., Costanza, R., Strand, I., Boynton, W., Bell, K., Wainger, L., Ecological economic modeling and valuation of ecosystems (1995) Ecological Economics, 14, pp. 143-159', ' Costanza, R., Maxwell, T., Resolution and predictability: An approach to the scaling problem (1993) Landscape Ecology, 9, pp. 47-57', ' Costanza, R., Sklar, F.H., White, M.L., Modeling coastal landscape dynamics (1990) BioScience, 40, pp. 91-107', ' Rawls, J., The idea of an overlapping consensus (1987) Oxford Journal of Legal Studies, 7, pp. 1-25', ' Walters, C.J., (1986) Adaptive Management of Renewable Resources, , McGraw-Hill, New York', 'Scale-invariant correlations in the biological and social sciences', 'World-systems theory: Toward a heuristic and pedagogic conceptual tool', ' Dyke, C., (1988) The Evolutionary Dynamics of Complex Systems, , New York: Oxford University Press', ' Ekins, P., (1992) Gaia Atlas of Green Economics, , New York: Anchor Books', ' Nicolis, J.S., (1986) Dynamics of Hierarchical Systems. An Evolutionary Approach, , Berlin: Springer-Verlag', ' Prigogine, I., Stengers, I., (1984) Order out of Chaos, , New York: Bantam Books', 'Redefining development as humane and sustainable', 'Ecological economics: Reintegrating the study of humans and nature', 'Evolutionary paradigm for global politics', \"Complexity, organization, and Stuart Kauffman's the origins of order\", 'Evolution, complex systems and technological change']\n"
          ],
          "name": "stdout"
        }
      ]
    },
    {
      "metadata": {
        "id": "eg62a_w76IPr",
        "colab_type": "code",
        "colab": {}
      },
      "cell_type": "code",
      "source": [
        "for n in G.nodes:\n",
        "  G.node[n]['label'] = type_dict[n]\n",
        "# G.node[n]['in-degree'] = G.in_degree(n)\n",
        "  G.node[n]['in_degree']=G.in_degree(n)"
      ],
      "execution_count": 0,
      "outputs": []
    },
    {
      "metadata": {
        "id": "ktyYvqRlVWVQ",
        "colab_type": "text"
      },
      "cell_type": "markdown",
      "source": [
        "Next we will run the [Girvan Newman](https://https://networkx.github.io/documentation/latest/reference/algorithms/generated/networkx.algorithms.community.centrality.girvan_newman.html) algorithm on the graph to identify community structure."
      ]
    },
    {
      "metadata": {
        "id": "MR3EQetn6KBJ",
        "colab_type": "code",
        "colab": {}
      },
      "cell_type": "code",
      "source": [
        "communities_generator = community.girvan_newman(G)\n",
        "communities = next(communities_generator)\n",
        "\n",
        "# sort the communities based on size \n",
        "groups = []\n",
        "for c in communities: \n",
        "    size = len(c)\n",
        "    groups.append([size, list(c)])\n",
        "groups.sort(reverse=True)\n",
        "\n",
        "# give each node a community id to which it belongs \n",
        "# groups with a lower 'group_id' will be a member of a larger group\n",
        "group_id = 1\n",
        "for group in groups:\n",
        "    members = group[1]\n",
        "    for n in members: \n",
        "        G.node[n]['community'] = group_id\n",
        "    group_id += 1"
      ],
      "execution_count": 0,
      "outputs": []
    },
    {
      "metadata": {
        "id": "79P0gd062o4r",
        "colab_type": "text"
      },
      "cell_type": "markdown",
      "source": [
        "## 5. Creating a Graphical Display"
      ]
    },
    {
      "metadata": {
        "id": "pXTWQmAi6gOw",
        "colab_type": "text"
      },
      "cell_type": "markdown",
      "source": [
        "See inline comments for any places for further customization. A brief discussion of specific functions and layouts are provided in the GitHub README."
      ]
    },
    {
      "metadata": {
        "id": "eMH2ijvUWPl5",
        "colab_type": "text"
      },
      "cell_type": "markdown",
      "source": [
        "**Functionality for the Following Display**\n",
        "\n",
        "Nodes are sized according to their in-degree, a measure of the number of sources that are referencing the node. Colors are assigned according to the NetworkX Girvan Newman community identification algorithm. Edges are bundled to create a clear flow of connection, as opposed to a cluttered, overlapping display. Hover over an edge to identify the end nodes of an edge. End nodes will be highlighted in green when hovering over an edge.\n",
        "\n"
      ]
    },
    {
      "metadata": {
        "id": "F5x-U9hT6StQ",
        "colab_type": "text"
      },
      "cell_type": "markdown",
      "source": [
        "The following line is necessary to render graphs in-line in Colaboratory. You may exclude if running locally."
      ]
    },
    {
      "metadata": {
        "id": "0-JEH7jo6RFh",
        "colab_type": "code",
        "colab": {
          "base_uri": "https://localhost:8080/",
          "height": 932
        },
        "outputId": "e00a3560-f683-480f-d82d-8c88e98cac24"
      },
      "cell_type": "code",
      "source": [
        "os.environ['HV_DOC_HTML'] = 'true'\n",
        "import holoviews.plotting.bokeh\n"
      ],
      "execution_count": 38,
      "outputs": [
        {
          "output_type": "error",
          "ename": "ImportError",
          "evalue": "ignored",
          "traceback": [
            "\u001b[0;31m---------------------------------------------------------------------------\u001b[0m",
            "\u001b[0;31mImportError\u001b[0m                               Traceback (most recent call last)",
            "\u001b[0;32m<ipython-input-38-0e643e00e29f>\u001b[0m in \u001b[0;36m<module>\u001b[0;34m()\u001b[0m\n\u001b[1;32m      1\u001b[0m \u001b[0mos\u001b[0m\u001b[0;34m.\u001b[0m\u001b[0menviron\u001b[0m\u001b[0;34m[\u001b[0m\u001b[0;34m'HV_DOC_HTML'\u001b[0m\u001b[0;34m]\u001b[0m \u001b[0;34m=\u001b[0m \u001b[0;34m'true'\u001b[0m\u001b[0;34m\u001b[0m\u001b[0;34m\u001b[0m\u001b[0m\n\u001b[0;32m----> 2\u001b[0;31m \u001b[0;32mimport\u001b[0m \u001b[0mholoviews\u001b[0m\u001b[0;34m.\u001b[0m\u001b[0mplotting\u001b[0m\u001b[0;34m.\u001b[0m\u001b[0mbokeh\u001b[0m\u001b[0;34m\u001b[0m\u001b[0;34m\u001b[0m\u001b[0m\n\u001b[0m",
            "\u001b[0;32m/usr/local/lib/python3.6/dist-packages/holoviews/plotting/bokeh/__init__.py\u001b[0m in \u001b[0;36m<module>\u001b[0;34m()\u001b[0m\n\u001b[1;32m     28\u001b[0m     \u001b[0mDFrame\u001b[0m \u001b[0;34m=\u001b[0m \u001b[0;32mNone\u001b[0m\u001b[0;34m\u001b[0m\u001b[0;34m\u001b[0m\u001b[0m\n\u001b[1;32m     29\u001b[0m \u001b[0;34m\u001b[0m\u001b[0m\n\u001b[0;32m---> 30\u001b[0;31m from .annotation import (TextPlot, LineAnnotationPlot, SplinePlot,\n\u001b[0m\u001b[1;32m     31\u001b[0m                          ArrowPlot, DivPlot, LabelsPlot)\n\u001b[1;32m     32\u001b[0m \u001b[0;32mfrom\u001b[0m \u001b[0;34m.\u001b[0m\u001b[0;34m.\u001b[0m\u001b[0mplot\u001b[0m \u001b[0;32mimport\u001b[0m \u001b[0mPlotSelector\u001b[0m\u001b[0;34m\u001b[0m\u001b[0;34m\u001b[0m\u001b[0m\n",
            "\u001b[0;32m/usr/local/lib/python3.6/dist-packages/holoviews/plotting/bokeh/annotation.py\u001b[0m in \u001b[0;36m<module>\u001b[0;34m()\u001b[0m\n\u001b[1;32m     21\u001b[0m \u001b[0;32mfrom\u001b[0m \u001b[0;34m...\u001b[0m\u001b[0melement\u001b[0m \u001b[0;32mimport\u001b[0m \u001b[0mHLine\u001b[0m\u001b[0;34m\u001b[0m\u001b[0;34m\u001b[0m\u001b[0m\n\u001b[1;32m     22\u001b[0m \u001b[0;32mfrom\u001b[0m \u001b[0;34m.\u001b[0m\u001b[0;34m.\u001b[0m\u001b[0mplot\u001b[0m \u001b[0;32mimport\u001b[0m \u001b[0mGenericElementPlot\u001b[0m\u001b[0;34m\u001b[0m\u001b[0;34m\u001b[0m\u001b[0m\n\u001b[0;32m---> 23\u001b[0;31m \u001b[0;32mfrom\u001b[0m \u001b[0;34m.\u001b[0m\u001b[0melement\u001b[0m \u001b[0;32mimport\u001b[0m \u001b[0mAnnotationPlot\u001b[0m\u001b[0;34m,\u001b[0m \u001b[0mElementPlot\u001b[0m\u001b[0;34m,\u001b[0m \u001b[0mCompositeElementPlot\u001b[0m\u001b[0;34m,\u001b[0m \u001b[0mColorbarPlot\u001b[0m\u001b[0;34m\u001b[0m\u001b[0;34m\u001b[0m\u001b[0m\n\u001b[0m\u001b[1;32m     24\u001b[0m \u001b[0;32mfrom\u001b[0m \u001b[0;34m.\u001b[0m\u001b[0mstyles\u001b[0m \u001b[0;32mimport\u001b[0m \u001b[0mtext_properties\u001b[0m\u001b[0;34m,\u001b[0m \u001b[0mline_properties\u001b[0m\u001b[0;34m\u001b[0m\u001b[0;34m\u001b[0m\u001b[0m\n\u001b[1;32m     25\u001b[0m \u001b[0;32mfrom\u001b[0m \u001b[0;34m.\u001b[0m\u001b[0mplot\u001b[0m \u001b[0;32mimport\u001b[0m \u001b[0mBokehPlot\u001b[0m\u001b[0;34m\u001b[0m\u001b[0;34m\u001b[0m\u001b[0m\n",
            "\u001b[0;32m/usr/local/lib/python3.6/dist-packages/holoviews/plotting/bokeh/element.py\u001b[0m in \u001b[0;36m<module>\u001b[0;34m()\u001b[0m\n\u001b[1;32m     32\u001b[0m \u001b[0;32mfrom\u001b[0m \u001b[0;34m.\u001b[0m\u001b[0;34m.\u001b[0m\u001b[0mplot\u001b[0m \u001b[0;32mimport\u001b[0m \u001b[0mGenericElementPlot\u001b[0m\u001b[0;34m,\u001b[0m \u001b[0mGenericOverlayPlot\u001b[0m\u001b[0;34m\u001b[0m\u001b[0;34m\u001b[0m\u001b[0m\n\u001b[1;32m     33\u001b[0m \u001b[0;32mfrom\u001b[0m \u001b[0;34m.\u001b[0m\u001b[0;34m.\u001b[0m\u001b[0mutil\u001b[0m \u001b[0;32mimport\u001b[0m \u001b[0mdynamic_update\u001b[0m\u001b[0;34m,\u001b[0m \u001b[0mprocess_cmap\u001b[0m\u001b[0;34m,\u001b[0m \u001b[0mcolor_intervals\u001b[0m\u001b[0;34m,\u001b[0m \u001b[0mdim_range_key\u001b[0m\u001b[0;34m\u001b[0m\u001b[0;34m\u001b[0m\u001b[0m\n\u001b[0;32m---> 34\u001b[0;31m \u001b[0;32mfrom\u001b[0m \u001b[0;34m.\u001b[0m\u001b[0mcallbacks\u001b[0m \u001b[0;32mimport\u001b[0m \u001b[0mPlotSizeCallback\u001b[0m\u001b[0;34m\u001b[0m\u001b[0;34m\u001b[0m\u001b[0m\n\u001b[0m\u001b[1;32m     35\u001b[0m \u001b[0;32mfrom\u001b[0m \u001b[0;34m.\u001b[0m\u001b[0mplot\u001b[0m \u001b[0;32mimport\u001b[0m \u001b[0mBokehPlot\u001b[0m\u001b[0;34m\u001b[0m\u001b[0;34m\u001b[0m\u001b[0m\n\u001b[1;32m     36\u001b[0m from .styles import (\n",
            "\u001b[0;32m/usr/local/lib/python3.6/dist-packages/holoviews/plotting/bokeh/callbacks.py\u001b[0m in \u001b[0;36m<module>\u001b[0;34m()\u001b[0m\n\u001b[1;32m     20\u001b[0m \u001b[0;32mfrom\u001b[0m \u001b[0;34m.\u001b[0m\u001b[0;34m.\u001b[0m\u001b[0mlinks\u001b[0m \u001b[0;32mimport\u001b[0m \u001b[0mLink\u001b[0m\u001b[0;34m,\u001b[0m \u001b[0mRangeToolLink\u001b[0m\u001b[0;34m,\u001b[0m \u001b[0mDataLink\u001b[0m\u001b[0;34m\u001b[0m\u001b[0;34m\u001b[0m\u001b[0m\n\u001b[1;32m     21\u001b[0m \u001b[0;32mfrom\u001b[0m \u001b[0;34m.\u001b[0m\u001b[0;34m.\u001b[0m\u001b[0mplot\u001b[0m \u001b[0;32mimport\u001b[0m \u001b[0mGenericElementPlot\u001b[0m\u001b[0;34m,\u001b[0m \u001b[0mGenericOverlayPlot\u001b[0m\u001b[0;34m\u001b[0m\u001b[0;34m\u001b[0m\u001b[0m\n\u001b[0;32m---> 22\u001b[0;31m \u001b[0;32mfrom\u001b[0m \u001b[0;34m.\u001b[0m\u001b[0mutil\u001b[0m \u001b[0;32mimport\u001b[0m \u001b[0mconvert_timestamp\u001b[0m\u001b[0;34m,\u001b[0m \u001b[0mbokeh_version\u001b[0m\u001b[0;34m\u001b[0m\u001b[0;34m\u001b[0m\u001b[0m\n\u001b[0m\u001b[1;32m     23\u001b[0m \u001b[0;34m\u001b[0m\u001b[0m\n\u001b[1;32m     24\u001b[0m \u001b[0;34m\u001b[0m\u001b[0m\n",
            "\u001b[0;32m/usr/local/lib/python3.6/dist-packages/holoviews/plotting/bokeh/util.py\u001b[0m in \u001b[0;36m<module>\u001b[0;34m()\u001b[0m\n\u001b[1;32m     18\u001b[0m \u001b[0;32mfrom\u001b[0m \u001b[0mbokeh\u001b[0m\u001b[0;34m.\u001b[0m\u001b[0mlayouts\u001b[0m \u001b[0;32mimport\u001b[0m \u001b[0mWidgetBox\u001b[0m\u001b[0;34m,\u001b[0m \u001b[0mRow\u001b[0m\u001b[0;34m,\u001b[0m \u001b[0mColumn\u001b[0m\u001b[0;34m\u001b[0m\u001b[0;34m\u001b[0m\u001b[0m\n\u001b[1;32m     19\u001b[0m \u001b[0;32mfrom\u001b[0m \u001b[0mbokeh\u001b[0m\u001b[0;34m.\u001b[0m\u001b[0mmodels\u001b[0m \u001b[0;32mimport\u001b[0m \u001b[0mtools\u001b[0m\u001b[0;34m\u001b[0m\u001b[0;34m\u001b[0m\u001b[0m\n\u001b[0;32m---> 20\u001b[0;31m \u001b[0;32mfrom\u001b[0m \u001b[0mbokeh\u001b[0m\u001b[0;34m.\u001b[0m\u001b[0mmodels\u001b[0m \u001b[0;32mimport\u001b[0m \u001b[0mModel\u001b[0m\u001b[0;34m,\u001b[0m \u001b[0mToolbarBox\u001b[0m\u001b[0;34m,\u001b[0m \u001b[0mFactorRange\u001b[0m\u001b[0;34m,\u001b[0m \u001b[0mRange1d\u001b[0m\u001b[0;34m,\u001b[0m \u001b[0mPlot\u001b[0m\u001b[0;34m,\u001b[0m \u001b[0mSpacer\u001b[0m\u001b[0;34m,\u001b[0m \u001b[0mCustomJS\u001b[0m\u001b[0;34m,\u001b[0m \u001b[0mGridBox\u001b[0m\u001b[0;34m\u001b[0m\u001b[0;34m\u001b[0m\u001b[0m\n\u001b[0m\u001b[1;32m     21\u001b[0m \u001b[0;32mfrom\u001b[0m \u001b[0mbokeh\u001b[0m\u001b[0;34m.\u001b[0m\u001b[0mmodels\u001b[0m\u001b[0;34m.\u001b[0m\u001b[0mwidgets\u001b[0m \u001b[0;32mimport\u001b[0m \u001b[0mDataTable\u001b[0m\u001b[0;34m,\u001b[0m \u001b[0mTabs\u001b[0m\u001b[0;34m,\u001b[0m \u001b[0mDiv\u001b[0m\u001b[0;34m\u001b[0m\u001b[0;34m\u001b[0m\u001b[0m\n\u001b[1;32m     22\u001b[0m \u001b[0;32mfrom\u001b[0m \u001b[0mbokeh\u001b[0m\u001b[0;34m.\u001b[0m\u001b[0mplotting\u001b[0m \u001b[0;32mimport\u001b[0m \u001b[0mFigure\u001b[0m\u001b[0;34m\u001b[0m\u001b[0;34m\u001b[0m\u001b[0m\n",
            "\u001b[0;31mImportError\u001b[0m: cannot import name 'GridBox'",
            "",
            "\u001b[0;31m---------------------------------------------------------------------------\u001b[0;32m\nNOTE: If your import is failing due to a missing package, you can\nmanually install dependencies using either !pip or !apt.\n\nTo view examples of installing some common dependencies, click the\n\"Open Examples\" button below.\n\u001b[0;31m---------------------------------------------------------------------------\u001b[0m\n"
          ]
        }
      ]
    },
    {
      "metadata": {
        "id": "0r_Llj_oACC7",
        "colab_type": "text"
      },
      "cell_type": "markdown",
      "source": [
        "This is the essential rendering functionality. Learn more about changing the axes, lengends and other customizations [here](https://https://holoviews.org/FAQ.html). "
      ]
    },
    {
      "metadata": {
        "id": "PB_klLTU60vk",
        "colab_type": "code",
        "colab": {
          "base_uri": "https://localhost:8080/",
          "height": 762
        },
        "outputId": "2e1940e8-a847-4fb9-d3b7-98d210785cf4"
      },
      "cell_type": "code",
      "source": [
        "'''The essential functionality'''\n",
        "\n",
        "hv.extension('bokeh')\n",
        "kwargs = dict(width=1000, height=1000, xaxis=None, yaxis=None)\n",
        "hv.opts.defaults(hv.opts.Nodes(**kwargs), hv.opts.Graph(**kwargs))\n",
        "\n",
        "# choose a NetworkX graphical layout \n",
        "pos = nx.spring_layout(G,k=0.15,iterations=20)  \n",
        "\n",
        "# collect graph from NetworkX \n",
        "my_graph = hv.Graph.from_networkx(G, pos)\n",
        "\n",
        "# bundle edges \n",
        "bundled = bundle_graph(my_graph)\n",
        "bundled.opts(padding=0.1) \n",
        "\n",
        "# add community and in-degree features\n",
        "bundled.opts(node_color=hv.dim('community'), node_size=((hv.dim('in-degree') + 1)*5), width=1000, \n",
        "                          cmap='Colorblind')\n",
        "bundled.opts(inspection_policy='edges')\n",
        "\n",
        "\n",
        "'''\n",
        "bib_ops = hv.opts.Graph(node_color=hv.dim('label'), cmap = 'Set1')\n",
        "# collect graph from NetworkX \n",
        "my_graph = hv.Graph.from_networkx(G, pos).opts(bib_ops)\n",
        "# bundle edges \n",
        "bundled = bundle_graph(my_graph)\n",
        "# \n",
        "(datashade(bundled, normalization='linear', width=800, height=800) * bundled.nodes).opts(\n",
        "    opts.Nodes(color=hv.dim('label'), size=10, width=1000, cmap=colors, legend_position='right'))\n",
        "\n",
        "# datashade(bundle_graph(my_graph), normalization='linear', width=900, height=900)\n",
        "#bundled.opts(padding=0.1)\n",
        "\n",
        "# green connection if something is referencing it\n",
        "# orange connection if it is referncing something \n",
        "# blue if title , dark blue if high degree, light blue if small degree \n",
        "# red if resource, dark red if high degree, light red if small degree\n",
        "'''"
      ],
      "execution_count": 39,
      "outputs": [
        {
          "output_type": "stream",
          "text": [
            "WARNING:param.notebook_extension: Holoviews bokeh extension could not be imported, it raised the following exception: ImportError('cannot import name 'GridBox'')\n"
          ],
          "name": "stderr"
        },
        {
          "output_type": "error",
          "ename": "ImportError",
          "evalue": "ignored",
          "traceback": [
            "\u001b[0;31m---------------------------------------------------------------------------\u001b[0m",
            "\u001b[0;31mImportError\u001b[0m                               Traceback (most recent call last)",
            "\u001b[0;32m<ipython-input-39-a6b60da79da1>\u001b[0m in \u001b[0;36m<module>\u001b[0;34m()\u001b[0m\n\u001b[1;32m      1\u001b[0m \u001b[0;34m'''The essential functionality'''\u001b[0m\u001b[0;34m\u001b[0m\u001b[0;34m\u001b[0m\u001b[0m\n\u001b[1;32m      2\u001b[0m \u001b[0;34m\u001b[0m\u001b[0m\n\u001b[0;32m----> 3\u001b[0;31m \u001b[0mhv\u001b[0m\u001b[0;34m.\u001b[0m\u001b[0mextension\u001b[0m\u001b[0;34m(\u001b[0m\u001b[0;34m'bokeh'\u001b[0m\u001b[0;34m)\u001b[0m\u001b[0;34m\u001b[0m\u001b[0;34m\u001b[0m\u001b[0m\n\u001b[0m\u001b[1;32m      4\u001b[0m \u001b[0mkwargs\u001b[0m \u001b[0;34m=\u001b[0m \u001b[0mdict\u001b[0m\u001b[0;34m(\u001b[0m\u001b[0mwidth\u001b[0m\u001b[0;34m=\u001b[0m\u001b[0;36m1000\u001b[0m\u001b[0;34m,\u001b[0m \u001b[0mheight\u001b[0m\u001b[0;34m=\u001b[0m\u001b[0;36m1000\u001b[0m\u001b[0;34m,\u001b[0m \u001b[0mxaxis\u001b[0m\u001b[0;34m=\u001b[0m\u001b[0;32mNone\u001b[0m\u001b[0;34m,\u001b[0m \u001b[0myaxis\u001b[0m\u001b[0;34m=\u001b[0m\u001b[0;32mNone\u001b[0m\u001b[0;34m)\u001b[0m\u001b[0;34m\u001b[0m\u001b[0;34m\u001b[0m\u001b[0m\n\u001b[1;32m      5\u001b[0m \u001b[0mhv\u001b[0m\u001b[0;34m.\u001b[0m\u001b[0mopts\u001b[0m\u001b[0;34m.\u001b[0m\u001b[0mdefaults\u001b[0m\u001b[0;34m(\u001b[0m\u001b[0mhv\u001b[0m\u001b[0;34m.\u001b[0m\u001b[0mopts\u001b[0m\u001b[0;34m.\u001b[0m\u001b[0mNodes\u001b[0m\u001b[0;34m(\u001b[0m\u001b[0;34m**\u001b[0m\u001b[0mkwargs\u001b[0m\u001b[0;34m)\u001b[0m\u001b[0;34m,\u001b[0m \u001b[0mhv\u001b[0m\u001b[0;34m.\u001b[0m\u001b[0mopts\u001b[0m\u001b[0;34m.\u001b[0m\u001b[0mGraph\u001b[0m\u001b[0;34m(\u001b[0m\u001b[0;34m**\u001b[0m\u001b[0mkwargs\u001b[0m\u001b[0;34m)\u001b[0m\u001b[0;34m)\u001b[0m\u001b[0;34m\u001b[0m\u001b[0;34m\u001b[0m\u001b[0m\n",
            "\u001b[0;32m/usr/local/lib/python3.6/dist-packages/param/parameterized.py\u001b[0m in \u001b[0;36m__new__\u001b[0;34m(class_, *args, **params)\u001b[0m\n\u001b[1;32m   2725\u001b[0m         \u001b[0minst\u001b[0m \u001b[0;34m=\u001b[0m \u001b[0mclass_\u001b[0m\u001b[0;34m.\u001b[0m\u001b[0minstance\u001b[0m\u001b[0;34m(\u001b[0m\u001b[0;34m)\u001b[0m\u001b[0;34m\u001b[0m\u001b[0;34m\u001b[0m\u001b[0m\n\u001b[1;32m   2726\u001b[0m         \u001b[0minst\u001b[0m\u001b[0;34m.\u001b[0m\u001b[0mparam\u001b[0m\u001b[0;34m.\u001b[0m\u001b[0m_set_name\u001b[0m\u001b[0;34m(\u001b[0m\u001b[0mclass_\u001b[0m\u001b[0;34m.\u001b[0m\u001b[0m__name__\u001b[0m\u001b[0;34m)\u001b[0m\u001b[0;34m\u001b[0m\u001b[0;34m\u001b[0m\u001b[0m\n\u001b[0;32m-> 2727\u001b[0;31m         \u001b[0;32mreturn\u001b[0m \u001b[0minst\u001b[0m\u001b[0;34m.\u001b[0m\u001b[0m__call__\u001b[0m\u001b[0;34m(\u001b[0m\u001b[0;34m*\u001b[0m\u001b[0margs\u001b[0m\u001b[0;34m,\u001b[0m\u001b[0;34m**\u001b[0m\u001b[0mparams\u001b[0m\u001b[0;34m)\u001b[0m\u001b[0;34m\u001b[0m\u001b[0;34m\u001b[0m\u001b[0m\n\u001b[0m\u001b[1;32m   2728\u001b[0m \u001b[0;34m\u001b[0m\u001b[0m\n\u001b[1;32m   2729\u001b[0m     \u001b[0;32mdef\u001b[0m \u001b[0m__call__\u001b[0m\u001b[0;34m(\u001b[0m\u001b[0mself\u001b[0m\u001b[0;34m,\u001b[0m\u001b[0;34m*\u001b[0m\u001b[0margs\u001b[0m\u001b[0;34m,\u001b[0m\u001b[0;34m**\u001b[0m\u001b[0mkw\u001b[0m\u001b[0;34m)\u001b[0m\u001b[0;34m:\u001b[0m\u001b[0;34m\u001b[0m\u001b[0;34m\u001b[0m\u001b[0m\n",
            "\u001b[0;32m/usr/local/lib/python3.6/dist-packages/holoviews/ipython/__init__.py\u001b[0m in \u001b[0;36m__call__\u001b[0;34m(self, *args, **params)\u001b[0m\n\u001b[1;32m    113\u001b[0m \u001b[0;34m\u001b[0m\u001b[0m\n\u001b[1;32m    114\u001b[0m     \u001b[0;32mdef\u001b[0m \u001b[0m__call__\u001b[0m\u001b[0;34m(\u001b[0m\u001b[0mself\u001b[0m\u001b[0;34m,\u001b[0m \u001b[0;34m*\u001b[0m\u001b[0margs\u001b[0m\u001b[0;34m,\u001b[0m \u001b[0;34m**\u001b[0m\u001b[0mparams\u001b[0m\u001b[0;34m)\u001b[0m\u001b[0;34m:\u001b[0m\u001b[0;34m\u001b[0m\u001b[0;34m\u001b[0m\u001b[0m\n\u001b[0;32m--> 115\u001b[0;31m         \u001b[0msuper\u001b[0m\u001b[0;34m(\u001b[0m\u001b[0mnotebook_extension\u001b[0m\u001b[0;34m,\u001b[0m \u001b[0mself\u001b[0m\u001b[0;34m)\u001b[0m\u001b[0;34m.\u001b[0m\u001b[0m__call__\u001b[0m\u001b[0;34m(\u001b[0m\u001b[0;34m*\u001b[0m\u001b[0margs\u001b[0m\u001b[0;34m,\u001b[0m \u001b[0;34m**\u001b[0m\u001b[0mparams\u001b[0m\u001b[0;34m)\u001b[0m\u001b[0;34m\u001b[0m\u001b[0;34m\u001b[0m\u001b[0m\n\u001b[0m\u001b[1;32m    116\u001b[0m         \u001b[0;31m# Abort if IPython not found\u001b[0m\u001b[0;34m\u001b[0m\u001b[0;34m\u001b[0m\u001b[0;34m\u001b[0m\u001b[0m\n\u001b[1;32m    117\u001b[0m         \u001b[0;32mtry\u001b[0m\u001b[0;34m:\u001b[0m\u001b[0;34m\u001b[0m\u001b[0;34m\u001b[0m\u001b[0m\n",
            "\u001b[0;32m/usr/local/lib/python3.6/dist-packages/holoviews/util/__init__.py\u001b[0m in \u001b[0;36m__call__\u001b[0;34m(self, *args, **params)\u001b[0m\n\u001b[1;32m    698\u001b[0m \u001b[0;34m\u001b[0m\u001b[0m\n\u001b[1;32m    699\u001b[0m         \u001b[0;32mif\u001b[0m \u001b[0mselected_backend\u001b[0m \u001b[0;32mis\u001b[0m \u001b[0;32mNone\u001b[0m\u001b[0;34m:\u001b[0m\u001b[0;34m\u001b[0m\u001b[0;34m\u001b[0m\u001b[0m\n\u001b[0;32m--> 700\u001b[0;31m             \u001b[0;32mraise\u001b[0m \u001b[0mImportError\u001b[0m\u001b[0;34m(\u001b[0m\u001b[0;34m'None of the backends could be imported'\u001b[0m\u001b[0;34m)\u001b[0m\u001b[0;34m\u001b[0m\u001b[0;34m\u001b[0m\u001b[0m\n\u001b[0m\u001b[1;32m    701\u001b[0m         \u001b[0mStore\u001b[0m\u001b[0;34m.\u001b[0m\u001b[0mset_current_backend\u001b[0m\u001b[0;34m(\u001b[0m\u001b[0mselected_backend\u001b[0m\u001b[0;34m)\u001b[0m\u001b[0;34m\u001b[0m\u001b[0;34m\u001b[0m\u001b[0m\n\u001b[1;32m    702\u001b[0m \u001b[0;34m\u001b[0m\u001b[0m\n",
            "\u001b[0;31mImportError\u001b[0m: None of the backends could be imported",
            "",
            "\u001b[0;31m---------------------------------------------------------------------------\u001b[0;32m\nNOTE: If your import is failing due to a missing package, you can\nmanually install dependencies using either !pip or !apt.\n\nTo view examples of installing some common dependencies, click the\n\"Open Examples\" button below.\n\u001b[0;31m---------------------------------------------------------------------------\u001b[0m\n"
          ]
        }
      ]
    },
    {
      "metadata": {
        "id": "84zsDxM--2ym",
        "colab_type": "text"
      },
      "cell_type": "markdown",
      "source": [
        "## 6. Saving and Next Steps"
      ]
    },
    {
      "metadata": {
        "id": "nEKjB2M89u8Z",
        "colab_type": "text"
      },
      "cell_type": "markdown",
      "source": [
        "You can export your figure in *HTML* or *SVG* format using the following code:"
      ]
    },
    {
      "metadata": {
        "id": "pNXhqcjy-y0R",
        "colab_type": "code",
        "colab": {}
      },
      "cell_type": "code",
      "source": [
        "# Using bokeh\n",
        "hv.save(obj, 'plot.html', backend='bokeh')\n",
        "\n",
        "# Using matplotlib\n",
        "hv.save(obj, 'plot.svg', backend='matplotlib')"
      ],
      "execution_count": 0,
      "outputs": []
    },
    {
      "metadata": {
        "id": "o4QE1Bs8_Guo",
        "colab_type": "text"
      },
      "cell_type": "markdown",
      "source": [
        "Furthermore, you can generate a graph from [live data](https://https://holoviews.org/user_guide/Live_Data.html) or [deploy Bokeh](http://holoviews.org/user_guide/Deploying_Bokeh_Apps.html) directly in apps."
      ]
    },
    {
      "metadata": {
        "id": "0KHfW_h1_Gf7",
        "colab_type": "code",
        "colab": {}
      },
      "cell_type": "code",
      "source": [
        ""
      ],
      "execution_count": 0,
      "outputs": []
    }
  ]
}