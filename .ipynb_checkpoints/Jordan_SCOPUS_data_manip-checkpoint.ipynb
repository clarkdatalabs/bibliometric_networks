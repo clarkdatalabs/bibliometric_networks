{
 "cells": [
  {
   "cell_type": "markdown",
   "metadata": {},
   "source": [
    "# Bibliographic Networks: A Python Tutorial\n",
    "\n",
    "Networks can provide significant measures to identify data driven patterns and dependencies. Though, given a data file it can be difficult to discern how one may approach creating such a network. In this tutorial, we will use a bibliographic data file downloaded from a query search in <a href = https://www.scopus.com/search/form.uri>Scopus</a> to walk through the process of cleaning the data file, writing a python script to parse the data into nodes and edges, computing graphical measures using <a href = https://networkx.github.io/documentation/stable/index.html>NetworkX</a>, and creating an interactive network display using <a hred = http://holoviews.org/>HoloViews</a>. "
   ]
  },
  {
   "cell_type": "markdown",
   "metadata": {},
   "source": [
    "### Notes on Data Manipulation in Excel\n",
    "\n",
    "As you are editing and cleaning your data set, be sure to always save in Excel as <i>CSV UTF-8 (Comma delimited) (.csv)</i>. This will ensure that the data file is readable by the python reader and contains original special characters. \n",
    "\n",
    "This rest of this section is specific to SCOPUS downloaded files, as some downloadable queries are unfortunately imperfect. Firstly, some rows are skewed from inaccurate reading and parsing. Simply scroll through the file and delete any rows where the data is clearly mismatched (i.e. an author name in the 'Title' column, a numerical value in a non-numerical column, etc.). \n",
    "\n",
    "Additionally, across several different queries, we discovered duplicates in entry 'Title,' with other columns containing conflicting data. To fix this issue for the purposes of producing a network, we want to remove duplicates. \n",
    "\n",
    "In Excel with your csv file open, select Date -> Table Tools -> Remove Duplicates. Indicate that the csv file has headers, as all SCOPUS files will, and only select the 'Title' column by which duplicates will be identified. \n",
    "\n",
    "After executing this command, it is important to save the file as a csv. Otherwise, Excel may default to a txt, or other format, and some data features may be lost. By continuously saving the file as a csv, we ensure that it will continue to be compatible with the python code for this tutorial.\n",
    "\n",
    "Generally, for the case of creating a connected network, we want the rows in our bibliographic data file to have an identifiable title and list of references. "
   ]
  },
  {
   "cell_type": "markdown",
   "metadata": {},
   "source": [
    "### Import Necessary Libraries and Packages \n",
    "The following code will download the necessary libraries and packages for this tutorial. To successfully import, one must be sure that these libraries and installed locally on the computer. \n",
    "\n",
    "Using pip, the following libraries can be installed in the terminal window of your computer. \n",
    "- pip install networkx\n",
    "- pip install numpy\n",
    "- pip install pandas \n",
    "- pip install holoviews \n",
    "- pip install bokeh \n",
    "- pip install scikit-image\n",
    "- pip install xarray\n",
    "- pip install datashader\n",
    "\n",
    "To customize this tutorial, decalare your own csv file. "
   ]
  },
  {
   "cell_type": "code",
   "execution_count": 1,
   "metadata": {
    "collapsed": true
   },
   "outputs": [],
   "source": [
    "import csv\n",
    "import networkx as nx\n",
    "import numpy as np\n",
    "import pandas as pd"
   ]
  },
  {
   "cell_type": "code",
   "execution_count": 2,
   "metadata": {
    "collapsed": true
   },
   "outputs": [],
   "source": [
    "import holoviews as hv"
   ]
  },
  {
   "cell_type": "code",
   "execution_count": 3,
   "metadata": {
    "collapsed": true
   },
   "outputs": [],
   "source": [
    "from holoviews import opts "
   ]
  },
  {
   "cell_type": "code",
   "execution_count": 4,
   "metadata": {},
   "outputs": [
    {
     "name": "stdout",
     "output_type": "stream",
     "text": [
      "Collecting package metadata: done\n",
      "Solving environment: done\n",
      "\n",
      "# All requested packages already installed.\n",
      "\n"
     ]
    }
   ],
   "source": [
    "!conda install datashader"
   ]
  },
  {
   "cell_type": "code",
   "execution_count": 10,
   "metadata": {},
   "outputs": [
    {
     "name": "stdout",
     "output_type": "stream",
     "text": [
      "Collecting package metadata: done\n",
      "Solving environment: done\n",
      "\n",
      "# All requested packages already installed.\n",
      "\n"
     ]
    }
   ],
   "source": [
    "!conda install -c bokeh datashader"
   ]
  },
  {
   "cell_type": "code",
   "execution_count": 13,
   "metadata": {
    "scrolled": true
   },
   "outputs": [
    {
     "name": "stdout",
     "output_type": "stream",
     "text": [
      "Requirement already satisfied: datashader in /Users/Jordan_Earnest/miniconda3/lib/python3.7/site-packages (0.6.9)\n",
      "Requirement already satisfied: dask[complete]>=0.18.0 in /Users/Jordan_Earnest/miniconda3/lib/python3.7/site-packages (from datashader) (1.1.4)\n",
      "Requirement already satisfied: toolz>=0.7.4 in /Users/Jordan_Earnest/miniconda3/lib/python3.7/site-packages (from datashader) (0.9.0)\n",
      "Requirement already satisfied: datashape>=0.5.1 in /Users/Jordan_Earnest/miniconda3/lib/python3.7/site-packages (from datashader) (0.5.4)\n",
      "Requirement already satisfied: numba>=0.37.0 in /Users/Jordan_Earnest/miniconda3/lib/python3.7/site-packages (from datashader) (0.42.0)\n",
      "Requirement already satisfied: numpy>=1.7 in /Users/Jordan_Earnest/miniconda3/lib/python3.7/site-packages (from datashader) (1.16.2)\n",
      "Requirement already satisfied: pandas>=0.20.3 in /Users/Jordan_Earnest/miniconda3/lib/python3.7/site-packages (from datashader) (0.24.2)\n",
      "Requirement already satisfied: pillow>=3.1.1 in /Users/Jordan_Earnest/miniconda3/lib/python3.7/site-packages (from datashader) (5.4.1)\n",
      "Requirement already satisfied: xarray>=0.9.6 in /Users/Jordan_Earnest/miniconda3/lib/python3.7/site-packages (from datashader) (0.11.3)\n",
      "Requirement already satisfied: colorcet>=0.9.0 in /Users/Jordan_Earnest/miniconda3/lib/python3.7/site-packages (from datashader) (1.0.0)\n",
      "Requirement already satisfied: param>=1.6.0 in /Users/Jordan_Earnest/miniconda3/lib/python3.7/site-packages (from datashader) (1.8.2)\n",
      "Requirement already satisfied: pyct[cmd] in /Users/Jordan_Earnest/miniconda3/lib/python3.7/site-packages (from datashader) (0.4.6)\n",
      "Requirement already satisfied: scikit-image in /Users/Jordan_Earnest/miniconda3/lib/python3.7/site-packages (from datashader) (0.14.2)\n",
      "Requirement already satisfied: bokeh in /Users/Jordan_Earnest/miniconda3/lib/python3.7/site-packages (from datashader) (1.0.4)\n",
      "Requirement already satisfied: scipy in /Users/Jordan_Earnest/miniconda3/lib/python3.7/site-packages (from datashader) (1.2.1)\n",
      "Requirement already satisfied: testpath<0.4 in /Users/Jordan_Earnest/miniconda3/lib/python3.7/site-packages (from datashader) (0.3.1)\n",
      "Requirement already satisfied: distributed>=1.22; extra == \"complete\" in /Users/Jordan_Earnest/miniconda3/lib/python3.7/site-packages (from dask[complete]>=0.18.0->datashader) (1.26.0)\n",
      "Requirement already satisfied: cloudpickle>=0.2.1; extra == \"complete\" in /Users/Jordan_Earnest/miniconda3/lib/python3.7/site-packages (from dask[complete]>=0.18.0->datashader) (0.8.0)\n",
      "Requirement already satisfied: partd>=0.3.8; extra == \"complete\" in /Users/Jordan_Earnest/miniconda3/lib/python3.7/site-packages (from dask[complete]>=0.18.0->datashader) (0.3.9)\n",
      "Requirement already satisfied: multipledispatch>=0.4.7 in /Users/Jordan_Earnest/miniconda3/lib/python3.7/site-packages (from datashape>=0.5.1->datashader) (0.6.0)\n",
      "Requirement already satisfied: python-dateutil in /Users/Jordan_Earnest/miniconda3/lib/python3.7/site-packages (from datashape>=0.5.1->datashader) (2.8.0)\n",
      "Requirement already satisfied: llvmlite>=0.27.0dev0 in /Users/Jordan_Earnest/miniconda3/lib/python3.7/site-packages (from numba>=0.37.0->datashader) (0.27.0)\n",
      "Requirement already satisfied: pytz>=2011k in /Users/Jordan_Earnest/miniconda3/lib/python3.7/site-packages (from pandas>=0.20.3->datashader) (2018.9)\n",
      "Requirement already satisfied: requests; extra == \"cmd\" in /Users/Jordan_Earnest/miniconda3/lib/python3.7/site-packages (from pyct[cmd]->datashader) (2.21.0)\n",
      "Requirement already satisfied: pyyaml; extra == \"cmd\" in /Users/Jordan_Earnest/miniconda3/lib/python3.7/site-packages (from pyct[cmd]->datashader) (3.13)\n",
      "Requirement already satisfied: networkx>=1.8 in /Users/Jordan_Earnest/miniconda3/lib/python3.7/site-packages (from scikit-image->datashader) (2.2)\n",
      "Requirement already satisfied: PyWavelets>=0.4.0 in /Users/Jordan_Earnest/miniconda3/lib/python3.7/site-packages (from scikit-image->datashader) (1.0.2)\n",
      "Requirement already satisfied: matplotlib>=2.0.0 in /Users/Jordan_Earnest/miniconda3/lib/python3.7/site-packages (from scikit-image->datashader) (3.0.3)\n",
      "Requirement already satisfied: six>=1.10.0 in /Users/Jordan_Earnest/miniconda3/lib/python3.7/site-packages (from scikit-image->datashader) (1.12.0)\n",
      "Requirement already satisfied: tornado>=4.3 in /Users/Jordan_Earnest/miniconda3/lib/python3.7/site-packages (from bokeh->datashader) (6.0.1)\n",
      "Requirement already satisfied: Jinja2>=2.7 in /Users/Jordan_Earnest/miniconda3/lib/python3.7/site-packages (from bokeh->datashader) (2.10)\n",
      "Requirement already satisfied: packaging>=16.8 in /Users/Jordan_Earnest/miniconda3/lib/python3.7/site-packages (from bokeh->datashader) (19.0)\n",
      "Requirement already satisfied: click>=6.6 in /Users/Jordan_Earnest/miniconda3/lib/python3.7/site-packages (from distributed>=1.22; extra == \"complete\"->dask[complete]>=0.18.0->datashader) (7.0)\n",
      "Requirement already satisfied: msgpack in /Users/Jordan_Earnest/miniconda3/lib/python3.7/site-packages (from distributed>=1.22; extra == \"complete\"->dask[complete]>=0.18.0->datashader) (0.6.1)\n",
      "Requirement already satisfied: psutil>=5.0 in /Users/Jordan_Earnest/miniconda3/lib/python3.7/site-packages (from distributed>=1.22; extra == \"complete\"->dask[complete]>=0.18.0->datashader) (5.6.1)\n",
      "Requirement already satisfied: sortedcontainers!=2.0.0,!=2.0.1 in /Users/Jordan_Earnest/miniconda3/lib/python3.7/site-packages (from distributed>=1.22; extra == \"complete\"->dask[complete]>=0.18.0->datashader) (2.1.0)\n",
      "Requirement already satisfied: tblib in /Users/Jordan_Earnest/miniconda3/lib/python3.7/site-packages (from distributed>=1.22; extra == \"complete\"->dask[complete]>=0.18.0->datashader) (1.3.2)\n",
      "Requirement already satisfied: zict>=0.1.3 in /Users/Jordan_Earnest/miniconda3/lib/python3.7/site-packages (from distributed>=1.22; extra == \"complete\"->dask[complete]>=0.18.0->datashader) (0.1.4)\n",
      "Requirement already satisfied: locket in /Users/Jordan_Earnest/miniconda3/lib/python3.7/site-packages (from partd>=0.3.8; extra == \"complete\"->dask[complete]>=0.18.0->datashader) (0.2.0)\n",
      "Requirement already satisfied: urllib3<1.25,>=1.21.1 in /Users/Jordan_Earnest/miniconda3/lib/python3.7/site-packages (from requests; extra == \"cmd\"->pyct[cmd]->datashader) (1.24.1)\n",
      "Requirement already satisfied: certifi>=2017.4.17 in /Users/Jordan_Earnest/miniconda3/lib/python3.7/site-packages (from requests; extra == \"cmd\"->pyct[cmd]->datashader) (2019.3.9)\n",
      "Requirement already satisfied: idna<2.9,>=2.5 in /Users/Jordan_Earnest/miniconda3/lib/python3.7/site-packages (from requests; extra == \"cmd\"->pyct[cmd]->datashader) (2.8)\n",
      "Requirement already satisfied: chardet<3.1.0,>=3.0.2 in /Users/Jordan_Earnest/miniconda3/lib/python3.7/site-packages (from requests; extra == \"cmd\"->pyct[cmd]->datashader) (3.0.4)\n",
      "Requirement already satisfied: decorator>=4.3.0 in /Users/Jordan_Earnest/miniconda3/lib/python3.7/site-packages (from networkx>=1.8->scikit-image->datashader) (4.3.2)\n",
      "Requirement already satisfied: cycler>=0.10 in /Users/Jordan_Earnest/miniconda3/lib/python3.7/site-packages (from matplotlib>=2.0.0->scikit-image->datashader) (0.10.0)\n",
      "Requirement already satisfied: kiwisolver>=1.0.1 in /Users/Jordan_Earnest/miniconda3/lib/python3.7/site-packages (from matplotlib>=2.0.0->scikit-image->datashader) (1.0.1)\n",
      "Requirement already satisfied: pyparsing!=2.0.4,!=2.1.2,!=2.1.6,>=2.0.1 in /Users/Jordan_Earnest/miniconda3/lib/python3.7/site-packages (from matplotlib>=2.0.0->scikit-image->datashader) (2.3.1)\n",
      "Requirement already satisfied: MarkupSafe>=0.23 in /Users/Jordan_Earnest/miniconda3/lib/python3.7/site-packages (from Jinja2>=2.7->bokeh->datashader) (1.1.1)\n",
      "Requirement already satisfied: heapdict in /Users/Jordan_Earnest/miniconda3/lib/python3.7/site-packages (from zict>=0.1.3->distributed>=1.22; extra == \"complete\"->dask[complete]>=0.18.0->datashader) (1.0.0)\n",
      "Requirement already satisfied: setuptools in /Users/Jordan_Earnest/miniconda3/lib/python3.7/site-packages (from kiwisolver>=1.0.1->matplotlib>=2.0.0->scikit-image->datashader) (40.6.3)\n"
     ]
    }
   ],
   "source": [
    "!pip install datashader"
   ]
  },
  {
   "cell_type": "code",
   "execution_count": 5,
   "metadata": {},
   "outputs": [
    {
     "name": "stdout",
     "output_type": "stream",
     "text": [
      "Collecting package metadata: done\n",
      "Solving environment: done\n",
      "\n",
      "## Package Plan ##\n",
      "\n",
      "  environment location: /Users/Jordan_Earnest/miniconda3\n",
      "\n",
      "  removed specs:\n",
      "    - datashader\n",
      "\n",
      "\n",
      "The following packages will be REMOVED:\n",
      "\n",
      "  datashader-0.6.9-py_0\n",
      "\n",
      "\n",
      "Preparing transaction: done\n",
      "Verifying transaction: done\n",
      "Executing transaction: done\n"
     ]
    }
   ],
   "source": [
    "!conda remove datashader -y"
   ]
  },
  {
   "cell_type": "code",
   "execution_count": 7,
   "metadata": {},
   "outputs": [
    {
     "name": "stdout",
     "output_type": "stream",
     "text": [
      "Collecting package metadata: done\n",
      "Solving environment: done\n",
      "\n",
      "## Package Plan ##\n",
      "\n",
      "  environment location: /Users/Jordan_Earnest/miniconda3\n",
      "\n",
      "  added / updated specs:\n",
      "    - datashader\n",
      "\n",
      "\n",
      "The following NEW packages will be INSTALLED:\n",
      "\n",
      "  datashader         pkgs/main/noarch::datashader-0.6.9-py_0\n",
      "\n",
      "\n",
      "Preparing transaction: done\n",
      "Verifying transaction: done\n",
      "Executing transaction: done\n"
     ]
    }
   ],
   "source": [
    "!conda install -c bokeh/label/dev datashader -y"
   ]
  },
  {
   "cell_type": "code",
   "execution_count": 1,
   "metadata": {},
   "outputs": [
    {
     "name": "stdout",
     "output_type": "stream",
     "text": [
      "Collecting package metadata: done\n",
      "Solving environment: done\n",
      "\n",
      "## Package Plan ##\n",
      "\n",
      "  environment location: /Users/Jordan_Earnest/miniconda3\n",
      "\n",
      "  added / updated specs:\n",
      "    - holoviews\n",
      "\n",
      "\n",
      "The following packages will be downloaded:\n",
      "\n",
      "    package                    |            build\n",
      "    ---------------------------|-----------------\n",
      "    appnope-0.1.0              |           py37_0           8 KB\n",
      "    attrs-19.1.0               |             py_0          35 KB\n",
      "    backcall-0.1.0             |           py37_0          20 KB\n",
      "    bleach-3.1.0               |           py37_0         221 KB\n",
      "    bokeh-0.13.0               |           py37_0         5.0 MB\n",
      "    dbus-1.13.6                |       h90a0687_0         560 KB\n",
      "    defusedxml-0.5.0           |           py37_1          29 KB\n",
      "    entrypoints-0.3            |           py37_0          12 KB\n",
      "    expat-2.2.6                |       h0a44026_0         129 KB\n",
      "    gettext-0.19.8.1           |       h15daf44_3         3.4 MB\n",
      "    glib-2.56.2                |       hd9629dc_0         4.7 MB\n",
      "    holoviews-1.11.0a1         |             py_0         3.1 MB  ioam/c/dev\n",
      "    icu-58.2                   |       h4b95b61_1        22.3 MB\n",
      "    ipykernel-5.1.0            |   py37h39e3cac_0         156 KB\n",
      "    ipython-7.3.0              |   py37h39e3cac_0         1.1 MB\n",
      "    ipython_genutils-0.2.0     |           py37_0          39 KB\n",
      "    ipywidgets-7.4.2           |           py37_0         151 KB\n",
      "    jedi-0.13.3                |           py37_0         236 KB\n",
      "    jsonschema-3.0.1           |           py37_0          88 KB\n",
      "    jupyter-1.0.0              |           py37_7           6 KB\n",
      "    jupyter_client-5.2.4       |           py37_0         127 KB\n",
      "    jupyter_console-6.0.0      |           py37_0          35 KB\n",
      "    jupyter_core-4.4.0         |           py37_0          63 KB\n",
      "    libiconv-1.15              |       hdd342a3_7         1.3 MB\n",
      "    libsodium-1.0.16           |       h3efe00b_0         324 KB\n",
      "    mistune-0.8.4              |   py37h1de35cc_0          54 KB\n",
      "    nbconvert-5.4.1            |             py_2         340 KB\n",
      "    nbformat-4.4.0             |           py37_0         141 KB\n",
      "    notebook-5.7.6             |           py37_0         7.3 MB\n",
      "    pandoc-2.2.3.2             |                0        13.8 MB\n",
      "    pandocfilters-1.4.2        |           py37_1          13 KB\n",
      "    parso-0.3.4                |           py37_0         120 KB\n",
      "    pcre-8.43                  |       h0a44026_0         227 KB\n",
      "    pexpect-4.6.0              |           py37_0          77 KB\n",
      "    pickleshare-0.7.5          |           py37_0          12 KB\n",
      "    prometheus_client-0.6.0    |           py37_0          69 KB\n",
      "    prompt_toolkit-2.0.9       |           py37_0         488 KB\n",
      "    ptyprocess-0.6.0           |           py37_0          23 KB\n",
      "    pygments-2.3.1             |           py37_0         1.3 MB\n",
      "    pyqt-5.9.2                 |   py37h655552a_2         4.4 MB\n",
      "    pyrsistent-0.14.11         |   py37h1de35cc_0          88 KB\n",
      "    pyviz_comms-0.7.0          |           py37_0          17 KB\n",
      "    pyzmq-18.0.0               |   py37h0a44026_0         457 KB\n",
      "    qt-5.9.7                   |       h468cd18_1        76.8 MB\n",
      "    qtconsole-4.4.3            |           py37_0         158 KB\n",
      "    send2trash-1.5.0           |           py37_0          16 KB\n",
      "    sip-4.19.8                 |   py37h0a44026_0         252 KB\n",
      "    terminado-0.8.1            |           py37_1          21 KB\n",
      "    testpath-0.4.2             |           py37_0          91 KB\n",
      "    traitlets-4.3.2            |           py37_0         133 KB\n",
      "    wcwidth-0.1.7              |           py37_0          23 KB\n",
      "    webencodings-0.5.1         |           py37_1          19 KB\n",
      "    widgetsnbextension-3.4.2   |           py37_0         1.7 MB\n",
      "    zeromq-4.3.1               |       h0a44026_3         565 KB\n",
      "    ------------------------------------------------------------\n",
      "                                           Total:       151.7 MB\n",
      "\n",
      "The following NEW packages will be INSTALLED:\n",
      "\n",
      "  appnope            pkgs/main/osx-64::appnope-0.1.0-py37_0\n",
      "  attrs              pkgs/main/noarch::attrs-19.1.0-py_0\n",
      "  backcall           pkgs/main/osx-64::backcall-0.1.0-py37_0\n",
      "  bleach             pkgs/main/osx-64::bleach-3.1.0-py37_0\n",
      "  dbus               pkgs/main/osx-64::dbus-1.13.6-h90a0687_0\n",
      "  defusedxml         pkgs/main/osx-64::defusedxml-0.5.0-py37_1\n",
      "  entrypoints        pkgs/main/osx-64::entrypoints-0.3-py37_0\n",
      "  expat              pkgs/main/osx-64::expat-2.2.6-h0a44026_0\n",
      "  gettext            pkgs/main/osx-64::gettext-0.19.8.1-h15daf44_3\n",
      "  glib               pkgs/main/osx-64::glib-2.56.2-hd9629dc_0\n",
      "  holoviews          ioam/c/dev/noarch::holoviews-1.11.0a1-py_0\n",
      "  icu                pkgs/main/osx-64::icu-58.2-h4b95b61_1\n",
      "  ipykernel          pkgs/main/osx-64::ipykernel-5.1.0-py37h39e3cac_0\n",
      "  ipython            pkgs/main/osx-64::ipython-7.3.0-py37h39e3cac_0\n",
      "  ipython_genutils   pkgs/main/osx-64::ipython_genutils-0.2.0-py37_0\n",
      "  ipywidgets         pkgs/main/osx-64::ipywidgets-7.4.2-py37_0\n",
      "  jedi               pkgs/main/osx-64::jedi-0.13.3-py37_0\n",
      "  jsonschema         pkgs/main/osx-64::jsonschema-3.0.1-py37_0\n",
      "  jupyter            pkgs/main/osx-64::jupyter-1.0.0-py37_7\n",
      "  jupyter_client     pkgs/main/osx-64::jupyter_client-5.2.4-py37_0\n",
      "  jupyter_console    pkgs/main/osx-64::jupyter_console-6.0.0-py37_0\n",
      "  jupyter_core       pkgs/main/osx-64::jupyter_core-4.4.0-py37_0\n",
      "  libiconv           pkgs/main/osx-64::libiconv-1.15-hdd342a3_7\n",
      "  libsodium          pkgs/main/osx-64::libsodium-1.0.16-h3efe00b_0\n",
      "  mistune            pkgs/main/osx-64::mistune-0.8.4-py37h1de35cc_0\n",
      "  nbconvert          pkgs/main/noarch::nbconvert-5.4.1-py_2\n",
      "  nbformat           pkgs/main/osx-64::nbformat-4.4.0-py37_0\n",
      "  notebook           pkgs/main/osx-64::notebook-5.7.6-py37_0\n",
      "  pandoc             pkgs/main/osx-64::pandoc-2.2.3.2-0\n",
      "  pandocfilters      pkgs/main/osx-64::pandocfilters-1.4.2-py37_1\n",
      "  parso              pkgs/main/osx-64::parso-0.3.4-py37_0\n",
      "  pcre               pkgs/main/osx-64::pcre-8.43-h0a44026_0\n",
      "  pexpect            pkgs/main/osx-64::pexpect-4.6.0-py37_0\n",
      "  pickleshare        pkgs/main/osx-64::pickleshare-0.7.5-py37_0\n",
      "  prometheus_client  pkgs/main/osx-64::prometheus_client-0.6.0-py37_0\n",
      "  prompt_toolkit     pkgs/main/osx-64::prompt_toolkit-2.0.9-py37_0\n",
      "  ptyprocess         pkgs/main/osx-64::ptyprocess-0.6.0-py37_0\n",
      "  pygments           pkgs/main/osx-64::pygments-2.3.1-py37_0\n",
      "  pyqt               pkgs/main/osx-64::pyqt-5.9.2-py37h655552a_2\n",
      "  pyrsistent         pkgs/main/osx-64::pyrsistent-0.14.11-py37h1de35cc_0\n",
      "  pyviz_comms        pkgs/main/osx-64::pyviz_comms-0.7.0-py37_0\n",
      "  pyzmq              pkgs/main/osx-64::pyzmq-18.0.0-py37h0a44026_0\n",
      "  qt                 pkgs/main/osx-64::qt-5.9.7-h468cd18_1\n",
      "  qtconsole          pkgs/main/osx-64::qtconsole-4.4.3-py37_0\n",
      "  send2trash         pkgs/main/osx-64::send2trash-1.5.0-py37_0\n",
      "  sip                pkgs/main/osx-64::sip-4.19.8-py37h0a44026_0\n",
      "  terminado          pkgs/main/osx-64::terminado-0.8.1-py37_1\n",
      "  testpath           pkgs/main/osx-64::testpath-0.4.2-py37_0\n",
      "  traitlets          pkgs/main/osx-64::traitlets-4.3.2-py37_0\n",
      "  wcwidth            pkgs/main/osx-64::wcwidth-0.1.7-py37_0\n",
      "  webencodings       pkgs/main/osx-64::webencodings-0.5.1-py37_1\n",
      "  widgetsnbextension pkgs/main/osx-64::widgetsnbextension-3.4.2-py37_0\n",
      "  zeromq             pkgs/main/osx-64::zeromq-4.3.1-h0a44026_3\n",
      "\n",
      "The following packages will be DOWNGRADED:\n",
      "\n",
      "  bokeh                                        1.0.4-py37_0 --> 0.13.0-py37_0\n",
      "\n",
      "\n",
      "\n",
      "Downloading and Extracting Packages\n",
      "sip-4.19.8           | 252 KB    | ##################################### | 100% \n",
      "qtconsole-4.4.3      | 158 KB    | ##################################### | 100% \n",
      "backcall-0.1.0       | 20 KB     | ##################################### | 100% \n",
      "glib-2.56.2          | 4.7 MB    | ##################################### | 100% \n",
      "ipykernel-5.1.0      | 156 KB    | ##################################### | 100% \n",
      "jsonschema-3.0.1     | 88 KB     | ##################################### | 100% \n",
      "libiconv-1.15        | 1.3 MB    | ##################################### | 100% \n",
      "traitlets-4.3.2      | 133 KB    | ##################################### | 100% \n"
     ]
    },
    {
     "name": "stdout",
     "output_type": "stream",
     "text": [
      "bokeh-0.13.0         | 5.0 MB    | ##################################### | 100% \n",
      "pexpect-4.6.0        | 77 KB     | ##################################### | 100% \n",
      "pyzmq-18.0.0         | 457 KB    | ##################################### | 100% \n",
      "testpath-0.4.2       | 91 KB     | ##################################### | 100% \n",
      "pyrsistent-0.14.11   | 88 KB     | ##################################### | 100% \n",
      "dbus-1.13.6          | 560 KB    | ##################################### | 100% \n",
      "mistune-0.8.4        | 54 KB     | ##################################### | 100% \n",
      "jupyter_core-4.4.0   | 63 KB     | ##################################### | 100% \n",
      "expat-2.2.6          | 129 KB    | ##################################### | 100% \n",
      "defusedxml-0.5.0     | 29 KB     | ##################################### | 100% \n",
      "pandoc-2.2.3.2       | 13.8 MB   | ##################################### | 100% \n",
      "prompt_toolkit-2.0.9 | 488 KB    | ##################################### | 100% \n",
      "attrs-19.1.0         | 35 KB     | ##################################### | 100% \n",
      "jedi-0.13.3          | 236 KB    | ##################################### | 100% \n",
      "widgetsnbextension-3 | 1.7 MB    | ##################################### | 100% \n",
      "pandocfilters-1.4.2  | 13 KB     | ##################################### | 100% \n",
      "pygments-2.3.1       | 1.3 MB    | ##################################### | 100% \n",
      "nbconvert-5.4.1      | 340 KB    | ##################################### | 100% \n",
      "prometheus_client-0. | 69 KB     | ##################################### | 100% \n",
      "pyviz_comms-0.7.0    | 17 KB     | ##################################### | 100% \n",
      "jupyter_client-5.2.4 | 127 KB    | ##################################### | 100% \n",
      "ipywidgets-7.4.2     | 151 KB    | ##################################### | 100% \n",
      "entrypoints-0.3      | 12 KB     | ##################################### | 100% \n",
      "ipython_genutils-0.2 | 39 KB     | ##################################### | 100% \n",
      "appnope-0.1.0        | 8 KB      | ##################################### | 100% \n",
      "ipython-7.3.0        | 1.1 MB    | ##################################### | 100% \n",
      "jupyter_console-6.0. | 35 KB     | ##################################### | 100% \n",
      "pcre-8.43            | 227 KB    | ##################################### | 100% \n",
      "zeromq-4.3.1         | 565 KB    | ##################################### | 100% \n",
      "icu-58.2             | 22.3 MB   | ##################################### | 100% \n",
      "libsodium-1.0.16     | 324 KB    | ##################################### | 100% \n",
      "ptyprocess-0.6.0     | 23 KB     | ##################################### | 100% \n",
      "terminado-0.8.1      | 21 KB     | ##################################### | 100% \n",
      "notebook-5.7.6       | 7.3 MB    | ##################################### | 100% \n",
      "pyqt-5.9.2           | 4.4 MB    | ##################################### | 100% \n",
      "webencodings-0.5.1   | 19 KB     | ##################################### | 100% \n",
      "qt-5.9.7             | 76.8 MB   | ##################################### | 100% \n",
      "wcwidth-0.1.7        | 23 KB     | ##################################### | 100% \n",
      "send2trash-1.5.0     | 16 KB     | ##################################### | 100% \n",
      "pickleshare-0.7.5    | 12 KB     | ##################################### | 100% \n",
      "nbformat-4.4.0       | 141 KB    | ##################################### | 100% \n",
      "gettext-0.19.8.1     | 3.4 MB    | ##################################### | 100% \n",
      "bleach-3.1.0         | 221 KB    | ##################################### | 100% \n",
      "jupyter-1.0.0        | 6 KB      | ##################################### | 100% \n",
      "holoviews-1.11.0a1   | 3.1 MB    | ##################################### | 100% \n",
      "parso-0.3.4          | 120 KB    | ##################################### | 100% \n",
      "Preparing transaction: done\n",
      "Verifying transaction: done\n",
      "Executing transaction: done\n"
     ]
    }
   ],
   "source": [
    "!conda install -c ioam/c/dev holoviews -y"
   ]
  },
  {
   "cell_type": "code",
   "execution_count": 2,
   "metadata": {
    "scrolled": false
   },
   "outputs": [
    {
     "ename": "ModuleNotFoundError",
     "evalue": "No module named 'datashader'",
     "output_type": "error",
     "traceback": [
      "\u001b[0;31m---------------------------------------------------------------------------\u001b[0m",
      "\u001b[0;31mModuleNotFoundError\u001b[0m                       Traceback (most recent call last)",
      "\u001b[0;32m<ipython-input-2-a13298c3e9f9>\u001b[0m in \u001b[0;36m<module>\u001b[0;34m()\u001b[0m\n\u001b[0;32m----> 1\u001b[0;31m \u001b[0;32mfrom\u001b[0m \u001b[0mholoviews\u001b[0m\u001b[0;34m.\u001b[0m\u001b[0moperation\u001b[0m\u001b[0;34m.\u001b[0m\u001b[0mdatashader\u001b[0m \u001b[0;32mimport\u001b[0m \u001b[0mdatashader\u001b[0m\u001b[0;34m,\u001b[0m \u001b[0mbundle_graph\u001b[0m\u001b[0;34m\u001b[0m\u001b[0;34m\u001b[0m\u001b[0m\n\u001b[0m\u001b[1;32m      2\u001b[0m \u001b[0;34m\u001b[0m\u001b[0m\n\u001b[1;32m      3\u001b[0m \u001b[0mfile_name\u001b[0m \u001b[0;34m=\u001b[0m \u001b[0;34m'scopus.csv'\u001b[0m \u001b[0;31m# TODO: insert filename\u001b[0m\u001b[0;34m\u001b[0m\u001b[0;34m\u001b[0m\u001b[0m\n",
      "\u001b[0;32m/Users/Jordan_Earnest/anaconda3/lib/python3.6/site-packages/holoviews/operation/datashader.py\u001b[0m in \u001b[0;36m<module>\u001b[0;34m()\u001b[0m\n\u001b[1;32m      8\u001b[0m \u001b[0;32mimport\u001b[0m \u001b[0mpandas\u001b[0m \u001b[0;32mas\u001b[0m \u001b[0mpd\u001b[0m\u001b[0;34m\u001b[0m\u001b[0;34m\u001b[0m\u001b[0m\n\u001b[1;32m      9\u001b[0m \u001b[0;32mimport\u001b[0m \u001b[0mxarray\u001b[0m \u001b[0;32mas\u001b[0m \u001b[0mxr\u001b[0m\u001b[0;34m\u001b[0m\u001b[0;34m\u001b[0m\u001b[0m\n\u001b[0;32m---> 10\u001b[0;31m \u001b[0;32mimport\u001b[0m \u001b[0mdatashader\u001b[0m \u001b[0;32mas\u001b[0m \u001b[0mds\u001b[0m\u001b[0;34m\u001b[0m\u001b[0;34m\u001b[0m\u001b[0m\n\u001b[0m\u001b[1;32m     11\u001b[0m \u001b[0;32mimport\u001b[0m \u001b[0mdatashader\u001b[0m\u001b[0;34m.\u001b[0m\u001b[0mreductions\u001b[0m \u001b[0;32mas\u001b[0m \u001b[0mrd\u001b[0m\u001b[0;34m\u001b[0m\u001b[0;34m\u001b[0m\u001b[0m\n\u001b[1;32m     12\u001b[0m \u001b[0;32mimport\u001b[0m \u001b[0mdatashader\u001b[0m\u001b[0;34m.\u001b[0m\u001b[0mtransfer_functions\u001b[0m \u001b[0;32mas\u001b[0m \u001b[0mtf\u001b[0m\u001b[0;34m\u001b[0m\u001b[0;34m\u001b[0m\u001b[0m\n",
      "\u001b[0;31mModuleNotFoundError\u001b[0m: No module named 'datashader'"
     ]
    }
   ],
   "source": [
    "from holoviews.operation.datashader import datashader, bundle_graph\n",
    "\n",
    "file_name = 'scopus.csv' # TODO: insert filename"
   ]
  },
  {
   "cell_type": "markdown",
   "metadata": {},
   "source": [
    "### Scopus and bibliometric specific: fixing the data file \n",
    "\n",
    "The downloaded Scopus file identifies a title for a source in each row. The column 'References' indicates a semicolon delimited list of references in MLA/APA format. To make this information useful, we must parse title names from each reference in the list. To understand the function below, look at the formating of the 'References' column in your Scopus file. "
   ]
  },
  {
   "cell_type": "code",
   "execution_count": null,
   "metadata": {
    "collapsed": true
   },
   "outputs": [],
   "source": [
    "node_list = []\n",
    "edge_list = []\n",
    "\n",
    "def comp_add(node_list, node2, title): \n",
    "    for node1 in node_list: \n",
    "        if node2 in node1[0] or node1[0] in node2: \n",
    "            node2 = node1[0]\n",
    "            # FIX double index name \n",
    "            break \n",
    "    # if 'title' == true, then append node with title notation \n",
    "    if title == True: \n",
    "        node_list.append([node2,'t'])\n",
    "    # if 'title' == false, then append node with reference notation \n",
    "    else: \n",
    "        node_list.append([node2,'r'])\n",
    "    \n",
    "#def remove_whitespace(ref): \n",
    "    #if ref[0] == \" \": \n",
    "        #ref = ref[1:]\n",
    "\n",
    "with open(file_name) as csv_file:\n",
    "    reader = csv.DictReader(csv_file)\n",
    "    for row in reader:\n",
    "        # add node with unique identifier\n",
    "        sink_node = row['Title']\n",
    "        comp_add(node_list,sink_node, True)\n",
    "        # add an edge for each source and its references\n",
    "        refs = row['References'].split(';')\n",
    "        if refs != '': \n",
    "            for ref in refs:\n",
    "                if 'https://' not in ref and 'http://' not in ref and ref != \" \" and ref != \"\": \n",
    "                # only include journal-type references, and clean data for any formatting inconsistencies \n",
    "                    #remove_whitespace(ref)\n",
    "                    comp_add(node_list, ref, False)\n",
    "                    edge = [ref, sink_node] # 'ref' references 'sink_node'\n",
    "                    edge_list.append(edge)\n"
   ]
  },
  {
   "cell_type": "markdown",
   "metadata": {},
   "source": [
    "### Graph Manipulation \n",
    "Once you have created an <i>edge_list</i> variable, edges can be added to an NetworkX graph. Using NetworkX for this graph manipulation is intuitive and clean, requiring minimal lines of code."
   ]
  },
  {
   "cell_type": "code",
   "execution_count": null,
   "metadata": {
    "collapsed": true,
    "scrolled": true
   },
   "outputs": [],
   "source": [
    "G = nx.Graph() \n",
    "color_map = []\n",
    "\n",
    "for node in node_list: \n",
    "    if node[1] == 't': \n",
    "        color_map.append('red')\n",
    "    else: \n",
    "        color_map.append('blue')\n",
    "    G.add_node(node[0])\n",
    "    \n",
    "G.add_edges_from(edge_list)"
   ]
  },
  {
   "cell_type": "markdown",
   "metadata": {},
   "source": [
    "For a large graph, depending on the information in the graph, one may want to prune the graph to only contain nodes with a degree greater than 1. For this bibliometric data, we are primarily concerning with the connections between nodes, therefore a node with only one connection is of much less importance. Furthermore, by removing these less significant nodes, we can decrease the graph size significantly, creating a more easily understood graphical layout. Be careful to run this code only as many times as you wish to reduce the graph, else significant information may be lost, depending on the degree of interest in the information quantity.  "
   ]
  },
  {
   "cell_type": "code",
   "execution_count": null,
   "metadata": {
    "collapsed": true
   },
   "outputs": [],
   "source": [
    "nodes_to_remove = []\n",
    "for n in G.nodes(): \n",
    "    if G.degree(n) == 1: \n",
    "        nodes_to_remove.append(n)\n",
    "G.remove_nodes_from(nodes_to_remove)"
   ]
  },
  {
   "cell_type": "code",
   "execution_count": null,
   "metadata": {
    "collapsed": true,
    "scrolled": false
   },
   "outputs": [],
   "source": [
    "hv.extension('bokeh')\n",
    "\n",
    "# dimensions for graph window \n",
    "kwargs = dict(width=1000, height=1000, xaxis=None, yaxis=None)\n",
    "opts.defaults(opts.Nodes(**kwargs), opts.Graph(**kwargs))\n",
    "\n",
    "pos = nx.spring_layout(G,k=0.15,iterations=20)\n",
    "my_graph = hv.Graph.from_networkx(G, pos)\n",
    "bundled = bundle_graph(my_graph)\n",
    "(datashade(bundled, normalization='linear', width=900, height=900) * bundled.nodes).opts(\n",
    "    opts.Nodes(color='circle', size=10, width=1000, legend_position='right'))\n",
    "datashade(bundle_graph(my_graph), normalization='linear', width=900, height=900)\n",
    "bundled.opts(padding=0.1)"
   ]
  },
  {
   "cell_type": "code",
   "execution_count": null,
   "metadata": {
    "collapsed": true
   },
   "outputs": [],
   "source": []
  }
 ],
 "metadata": {
  "kernelspec": {
   "display_name": "Python 3",
   "language": "python",
   "name": "python3"
  },
  "language_info": {
   "codemirror_mode": {
    "name": "ipython",
    "version": 3
   },
   "file_extension": ".py",
   "mimetype": "text/x-python",
   "name": "python",
   "nbconvert_exporter": "python",
   "pygments_lexer": "ipython3",
   "version": "3.6.8"
  }
 },
 "nbformat": 4,
 "nbformat_minor": 2
}
