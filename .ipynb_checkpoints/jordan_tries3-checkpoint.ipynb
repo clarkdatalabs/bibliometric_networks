{
 "cells": [
  {
   "cell_type": "code",
   "execution_count": 1,
   "metadata": {},
   "outputs": [],
   "source": [
    "import csv\n",
    "import networkx as nx\n",
    "import numpy as np\n",
    "import pandas as pd"
   ]
  },
  {
   "cell_type": "code",
   "execution_count": 2,
   "metadata": {},
   "outputs": [],
   "source": [
    "import holoviews"
   ]
  },
  {
   "cell_type": "code",
   "execution_count": 3,
   "metadata": {},
   "outputs": [],
   "source": [
    "from holoviews import opts "
   ]
  },
  {
   "cell_type": "code",
   "execution_count": 5,
   "metadata": {},
   "outputs": [],
   "source": [
    "from holoviews import operation"
   ]
  },
  {
   "cell_type": "code",
   "execution_count": 7,
   "metadata": {},
   "outputs": [
    {
     "ename": "ModuleNotFoundError",
     "evalue": "No module named 'datashader'",
     "output_type": "error",
     "traceback": [
      "\u001b[0;31m---------------------------------------------------------------------------\u001b[0m",
      "\u001b[0;31mModuleNotFoundError\u001b[0m                       Traceback (most recent call last)",
      "\u001b[0;32m<ipython-input-7-c3676eb04ef3>\u001b[0m in \u001b[0;36m<module>\u001b[0;34m\u001b[0m\n\u001b[0;32m----> 1\u001b[0;31m \u001b[0;32mfrom\u001b[0m \u001b[0mholoviews\u001b[0m\u001b[0;34m.\u001b[0m\u001b[0moperation\u001b[0m\u001b[0;34m.\u001b[0m\u001b[0mdatashader\u001b[0m \u001b[0;32mimport\u001b[0m \u001b[0mdatashader\u001b[0m\u001b[0;34m\u001b[0m\u001b[0;34m\u001b[0m\u001b[0m\n\u001b[0m",
      "\u001b[0;32m~/anaconda3/lib/python3.6/site-packages/holoviews/operation/datashader.py\u001b[0m in \u001b[0;36m<module>\u001b[0;34m\u001b[0m\n\u001b[1;32m      8\u001b[0m \u001b[0;32mimport\u001b[0m \u001b[0mpandas\u001b[0m \u001b[0;32mas\u001b[0m \u001b[0mpd\u001b[0m\u001b[0;34m\u001b[0m\u001b[0;34m\u001b[0m\u001b[0m\n\u001b[1;32m      9\u001b[0m \u001b[0;32mimport\u001b[0m \u001b[0mxarray\u001b[0m \u001b[0;32mas\u001b[0m \u001b[0mxr\u001b[0m\u001b[0;34m\u001b[0m\u001b[0;34m\u001b[0m\u001b[0m\n\u001b[0;32m---> 10\u001b[0;31m \u001b[0;32mimport\u001b[0m \u001b[0mdatashader\u001b[0m \u001b[0;32mas\u001b[0m \u001b[0mds\u001b[0m\u001b[0;34m\u001b[0m\u001b[0;34m\u001b[0m\u001b[0m\n\u001b[0m\u001b[1;32m     11\u001b[0m \u001b[0;32mimport\u001b[0m \u001b[0mdatashader\u001b[0m\u001b[0;34m.\u001b[0m\u001b[0mreductions\u001b[0m \u001b[0;32mas\u001b[0m \u001b[0mrd\u001b[0m\u001b[0;34m\u001b[0m\u001b[0;34m\u001b[0m\u001b[0m\n\u001b[1;32m     12\u001b[0m \u001b[0;32mimport\u001b[0m \u001b[0mdatashader\u001b[0m\u001b[0;34m.\u001b[0m\u001b[0mtransfer_functions\u001b[0m \u001b[0;32mas\u001b[0m \u001b[0mtf\u001b[0m\u001b[0;34m\u001b[0m\u001b[0;34m\u001b[0m\u001b[0m\n",
      "\u001b[0;31mModuleNotFoundError\u001b[0m: No module named 'datashader'"
     ]
    }
   ],
   "source": [
    "from holoviews.operation.datashader import datashader"
   ]
  },
  {
   "cell_type": "code",
   "execution_count": 4,
   "metadata": {
    "scrolled": true
   },
   "outputs": [
    {
     "ename": "ModuleNotFoundError",
     "evalue": "No module named 'datashader'",
     "output_type": "error",
     "traceback": [
      "\u001b[0;31m---------------------------------------------------------------------------\u001b[0m",
      "\u001b[0;31mModuleNotFoundError\u001b[0m                       Traceback (most recent call last)",
      "\u001b[0;32m<ipython-input-4-26badf4c12ff>\u001b[0m in \u001b[0;36m<module>\u001b[0;34m\u001b[0m\n\u001b[0;32m----> 1\u001b[0;31m \u001b[0;32mfrom\u001b[0m \u001b[0mholoviews\u001b[0m\u001b[0;34m.\u001b[0m\u001b[0moperation\u001b[0m\u001b[0;34m.\u001b[0m\u001b[0mdatashader\u001b[0m \u001b[0;32mimport\u001b[0m \u001b[0mdatashader\u001b[0m\u001b[0;34m,\u001b[0m \u001b[0mbundle_graph\u001b[0m\u001b[0;34m\u001b[0m\u001b[0;34m\u001b[0m\u001b[0m\n\u001b[0m",
      "\u001b[0;32m~/anaconda3/lib/python3.6/site-packages/holoviews/operation/datashader.py\u001b[0m in \u001b[0;36m<module>\u001b[0;34m\u001b[0m\n\u001b[1;32m      8\u001b[0m \u001b[0;32mimport\u001b[0m \u001b[0mpandas\u001b[0m \u001b[0;32mas\u001b[0m \u001b[0mpd\u001b[0m\u001b[0;34m\u001b[0m\u001b[0;34m\u001b[0m\u001b[0m\n\u001b[1;32m      9\u001b[0m \u001b[0;32mimport\u001b[0m \u001b[0mxarray\u001b[0m \u001b[0;32mas\u001b[0m \u001b[0mxr\u001b[0m\u001b[0;34m\u001b[0m\u001b[0;34m\u001b[0m\u001b[0m\n\u001b[0;32m---> 10\u001b[0;31m \u001b[0;32mimport\u001b[0m \u001b[0mdatashader\u001b[0m \u001b[0;32mas\u001b[0m \u001b[0mds\u001b[0m\u001b[0;34m\u001b[0m\u001b[0;34m\u001b[0m\u001b[0m\n\u001b[0m\u001b[1;32m     11\u001b[0m \u001b[0;32mimport\u001b[0m \u001b[0mdatashader\u001b[0m\u001b[0;34m.\u001b[0m\u001b[0mreductions\u001b[0m \u001b[0;32mas\u001b[0m \u001b[0mrd\u001b[0m\u001b[0;34m\u001b[0m\u001b[0;34m\u001b[0m\u001b[0m\n\u001b[1;32m     12\u001b[0m \u001b[0;32mimport\u001b[0m \u001b[0mdatashader\u001b[0m\u001b[0;34m.\u001b[0m\u001b[0mtransfer_functions\u001b[0m \u001b[0;32mas\u001b[0m \u001b[0mtf\u001b[0m\u001b[0;34m\u001b[0m\u001b[0;34m\u001b[0m\u001b[0m\n",
      "\u001b[0;31mModuleNotFoundError\u001b[0m: No module named 'datashader'"
     ]
    }
   ],
   "source": [
    "from holoviews.operation.datashader import datashader, bundle_graph"
   ]
  },
  {
   "cell_type": "code",
   "execution_count": 8,
   "metadata": {},
   "outputs": [
    {
     "name": "stdout",
     "output_type": "stream",
     "text": [
      "Collecting package metadata: done\n",
      "Solving environment: done\n",
      "\n",
      "## Package Plan ##\n",
      "\n",
      "  environment location: /Users/Jordan_Earnest/miniconda3/envs/py37withholoviews\n",
      "\n",
      "  added / updated specs:\n",
      "    - holoviews\n",
      "    - python=3.7\n",
      "\n",
      "\n",
      "The following packages will be downloaded:\n",
      "\n",
      "    package                    |            build\n",
      "    ---------------------------|-----------------\n",
      "    libedit-3.1.20181209       |       hb402a30_0         159 KB\n",
      "    pip-19.0.3                 |           py37_0         1.8 MB\n",
      "    python-3.7.2               |       haf84260_0        21.6 MB\n",
      "    setuptools-40.8.0          |           py37_0         643 KB\n",
      "    wheel-0.33.1               |           py37_0          39 KB\n",
      "    ------------------------------------------------------------\n",
      "                                           Total:        24.2 MB\n",
      "\n",
      "The following NEW packages will be INSTALLED:\n",
      "\n",
      "  appnope            pkgs/main/osx-64::appnope-0.1.0-py37_0\n",
      "  attrs              pkgs/main/noarch::attrs-19.1.0-py_0\n",
      "  backcall           pkgs/main/osx-64::backcall-0.1.0-py37_0\n",
      "  blas               pkgs/main/osx-64::blas-1.0-mkl\n",
      "  bleach             pkgs/main/osx-64::bleach-3.1.0-py37_0\n",
      "  bokeh              pkgs/main/osx-64::bokeh-1.0.4-py37_0\n",
      "  ca-certificates    pkgs/main/osx-64::ca-certificates-2019.1.23-0\n",
      "  certifi            pkgs/main/osx-64::certifi-2019.3.9-py37_0\n",
      "  cycler             pkgs/main/osx-64::cycler-0.10.0-py37_0\n",
      "  dbus               pkgs/main/osx-64::dbus-1.13.6-h90a0687_0\n",
      "  decorator          pkgs/main/osx-64::decorator-4.3.2-py37_0\n",
      "  defusedxml         pkgs/main/osx-64::defusedxml-0.5.0-py37_1\n",
      "  entrypoints        pkgs/main/osx-64::entrypoints-0.3-py37_0\n",
      "  expat              pkgs/main/osx-64::expat-2.2.6-h0a44026_0\n",
      "  freetype           pkgs/main/osx-64::freetype-2.9.1-hb4e5f40_0\n",
      "  gettext            pkgs/main/osx-64::gettext-0.19.8.1-h15daf44_3\n",
      "  glib               pkgs/main/osx-64::glib-2.56.2-hd9629dc_0\n",
      "  holoviews          pkgs/main/noarch::holoviews-1.11.3-py_0\n",
      "  icu                pkgs/main/osx-64::icu-58.2-h4b95b61_1\n",
      "  intel-openmp       pkgs/main/osx-64::intel-openmp-2019.1-144\n",
      "  ipykernel          pkgs/main/osx-64::ipykernel-5.1.0-py37h39e3cac_0\n",
      "  ipython            pkgs/main/osx-64::ipython-7.1.1-py37h39e3cac_0\n",
      "  ipython_genutils   pkgs/main/osx-64::ipython_genutils-0.2.0-py37_0\n",
      "  ipywidgets         pkgs/main/osx-64::ipywidgets-7.4.2-py37_0\n",
      "  jedi               pkgs/main/osx-64::jedi-0.13.3-py37_0\n",
      "  jinja2             pkgs/main/osx-64::jinja2-2.10-py37_0\n",
      "  jpeg               pkgs/main/osx-64::jpeg-9b-he5867d9_2\n",
      "  jsonschema         pkgs/main/osx-64::jsonschema-3.0.1-py37_0\n",
      "  jupyter            pkgs/main/osx-64::jupyter-1.0.0-py37_7\n",
      "  jupyter_client     pkgs/main/osx-64::jupyter_client-5.2.4-py37_0\n",
      "  jupyter_console    pkgs/main/osx-64::jupyter_console-6.0.0-py37_0\n",
      "  jupyter_core       pkgs/main/osx-64::jupyter_core-4.4.0-py37_0\n",
      "  kiwisolver         pkgs/main/osx-64::kiwisolver-1.0.1-py37h0a44026_0\n",
      "  libcxx             pkgs/main/osx-64::libcxx-4.0.1-hcfea43d_1\n",
      "  libcxxabi          pkgs/main/osx-64::libcxxabi-4.0.1-hcfea43d_1\n",
      "  libedit            pkgs/main/osx-64::libedit-3.1.20181209-hb402a30_0\n",
      "  libffi             pkgs/main/osx-64::libffi-3.2.1-h475c297_4\n",
      "  libgfortran        pkgs/main/osx-64::libgfortran-3.0.1-h93005f0_2\n",
      "  libiconv           pkgs/main/osx-64::libiconv-1.15-hdd342a3_7\n",
      "  libpng             pkgs/main/osx-64::libpng-1.6.36-ha441bb4_0\n",
      "  libsodium          pkgs/main/osx-64::libsodium-1.0.16-h3efe00b_0\n",
      "  libtiff            pkgs/main/osx-64::libtiff-4.0.10-hcb84e12_2\n",
      "  markupsafe         pkgs/main/osx-64::markupsafe-1.1.1-py37h1de35cc_0\n",
      "  matplotlib         pkgs/main/osx-64::matplotlib-3.0.3-py37h54f8f79_0\n",
      "  mistune            pkgs/main/osx-64::mistune-0.8.4-py37h1de35cc_0\n",
      "  mkl                pkgs/main/osx-64::mkl-2019.1-144\n",
      "  mkl_fft            pkgs/main/osx-64::mkl_fft-1.0.10-py37h5e564d8_0\n",
      "  mkl_random         pkgs/main/osx-64::mkl_random-1.0.2-py37h27c97d8_0\n",
      "  nbconvert          pkgs/main/noarch::nbconvert-5.4.1-py_2\n",
      "  nbformat           pkgs/main/osx-64::nbformat-4.4.0-py37_0\n",
      "  ncurses            pkgs/main/osx-64::ncurses-6.1-h0a44026_1\n",
      "  notebook           pkgs/main/osx-64::notebook-5.7.6-py37_0\n",
      "  numpy              pkgs/main/osx-64::numpy-1.16.2-py37hacdab7b_0\n",
      "  numpy-base         pkgs/main/osx-64::numpy-base-1.16.2-py37h6575580_0\n",
      "  olefile            pkgs/main/osx-64::olefile-0.46-py37_0\n",
      "  openssl            pkgs/main/osx-64::openssl-1.1.1b-h1de35cc_1\n",
      "  packaging          pkgs/main/osx-64::packaging-19.0-py37_0\n",
      "  pandoc             pkgs/main/osx-64::pandoc-2.2.3.2-0\n",
      "  pandocfilters      pkgs/main/osx-64::pandocfilters-1.4.2-py37_1\n",
      "  param              pkgs/main/noarch::param-1.8.2-py_0\n",
      "  parso              pkgs/main/osx-64::parso-0.3.4-py37_0\n",
      "  pcre               pkgs/main/osx-64::pcre-8.43-h0a44026_0\n",
      "  pexpect            pkgs/main/osx-64::pexpect-4.6.0-py37_0\n",
      "  pickleshare        pkgs/main/osx-64::pickleshare-0.7.5-py37_0\n",
      "  pillow             pkgs/main/osx-64::pillow-5.4.1-py37hb68e598_0\n",
      "  pip                pkgs/main/osx-64::pip-19.0.3-py37_0\n",
      "  prometheus_client  pkgs/main/osx-64::prometheus_client-0.6.0-py37_0\n",
      "  prompt_toolkit     pkgs/main/osx-64::prompt_toolkit-2.0.9-py37_0\n",
      "  ptyprocess         pkgs/main/osx-64::ptyprocess-0.6.0-py37_0\n",
      "  pygments           pkgs/main/osx-64::pygments-2.3.1-py37_0\n",
      "  pyparsing          pkgs/main/osx-64::pyparsing-2.3.1-py37_0\n",
      "  pyqt               pkgs/main/osx-64::pyqt-5.9.2-py37h655552a_2\n",
      "  pyrsistent         pkgs/main/osx-64::pyrsistent-0.14.11-py37h1de35cc_0\n",
      "  python             pkgs/main/osx-64::python-3.7.2-haf84260_0\n",
      "  python-dateutil    pkgs/main/osx-64::python-dateutil-2.8.0-py37_0\n",
      "  pytz               pkgs/main/osx-64::pytz-2018.9-py37_0\n",
      "  pyviz_comms        pkgs/main/osx-64::pyviz_comms-0.7.0-py37_0\n",
      "  pyyaml             pkgs/main/osx-64::pyyaml-3.13-py37h1de35cc_0\n",
      "  pyzmq              pkgs/main/osx-64::pyzmq-18.0.0-py37h0a44026_0\n",
      "  qt                 pkgs/main/osx-64::qt-5.9.7-h468cd18_1\n",
      "  qtconsole          pkgs/main/osx-64::qtconsole-4.4.3-py37_0\n",
      "  readline           pkgs/main/osx-64::readline-7.0-h1de35cc_5\n",
      "  send2trash         pkgs/main/osx-64::send2trash-1.5.0-py37_0\n",
      "  setuptools         pkgs/main/osx-64::setuptools-40.8.0-py37_0\n",
      "  sip                pkgs/main/osx-64::sip-4.19.8-py37h0a44026_0\n",
      "  six                pkgs/main/osx-64::six-1.12.0-py37_0\n",
      "  sqlite             pkgs/main/osx-64::sqlite-3.27.2-ha441bb4_0\n",
      "  terminado          pkgs/main/osx-64::terminado-0.8.1-py37_1\n",
      "  testpath           pkgs/main/osx-64::testpath-0.4.2-py37_0\n",
      "  tk                 pkgs/main/osx-64::tk-8.6.8-ha441bb4_0\n",
      "  tornado            pkgs/main/osx-64::tornado-6.0.1-py37h1de35cc_0\n",
      "  traitlets          pkgs/main/osx-64::traitlets-4.3.2-py37_0\n",
      "  wcwidth            pkgs/main/osx-64::wcwidth-0.1.7-py37_0\n",
      "  webencodings       pkgs/main/osx-64::webencodings-0.5.1-py37_1\n",
      "  wheel              pkgs/main/osx-64::wheel-0.33.1-py37_0\n",
      "  widgetsnbextension pkgs/main/osx-64::widgetsnbextension-3.4.2-py37_0\n",
      "  xz                 pkgs/main/osx-64::xz-5.2.4-h1de35cc_4\n",
      "  yaml               pkgs/main/osx-64::yaml-0.1.7-hc338f04_2\n",
      "  zeromq             pkgs/main/osx-64::zeromq-4.3.1-h0a44026_3\n",
      "  zlib               pkgs/main/osx-64::zlib-1.2.11-h1de35cc_3\n",
      "  zstd               pkgs/main/osx-64::zstd-1.3.7-h5bba6e5_0\n",
      "\n",
      "\n",
      "\n",
      "Downloading and Extracting Packages\n",
      "pip-19.0.3           | 1.8 MB    | ##################################### | 100% \n",
      "wheel-0.33.1         | 39 KB     | ##################################### | 100% \n",
      "setuptools-40.8.0    | 643 KB    | ##################################### | 100% \n",
      "libedit-3.1.20181209 | 159 KB    | ##################################### | 100% \n",
      "python-3.7.2         | 21.6 MB   | ##################################### | 100% \n",
      "Preparing transaction: done\n",
      "Verifying transaction: done\n",
      "Executing transaction: done\n",
      "#\n",
      "# To activate this environment, use\n",
      "#\n",
      "#     $ conda activate py37withholoviews\n",
      "#\n",
      "# To deactivate an active environment, use\n",
      "#\n",
      "#     $ conda deactivate\n",
      "\n"
     ]
    }
   ],
   "source": [
    "!conda create --name py37withholoviews python=3.7 holoviews -y\n"
   ]
  },
  {
   "cell_type": "code",
   "execution_count": 9,
   "metadata": {},
   "outputs": [],
   "source": [
    "!source activate py37withholoviews\n"
   ]
  },
  {
   "cell_type": "code",
   "execution_count": null,
   "metadata": {},
   "outputs": [
    {
     "name": "stdout",
     "output_type": "stream",
     "text": [
      "Collecting package metadata: done\n",
      "Solving environment: \\ "
     ]
    }
   ],
   "source": [
    "!conda install networkx\n",
    "!conda install numpy"
   ]
  },
  {
   "cell_type": "code",
   "execution_count": null,
   "metadata": {},
   "outputs": [],
   "source": [
    "!conda install pandas"
   ]
  },
  {
   "cell_type": "code",
   "execution_count": null,
   "metadata": {},
   "outputs": [],
   "source": [
    "!conda install holoviews -y"
   ]
  },
  {
   "cell_type": "code",
   "execution_count": null,
   "metadata": {},
   "outputs": [],
   "source": []
  }
 ],
 "metadata": {
  "kernelspec": {
   "display_name": "Python 3",
   "language": "python",
   "name": "python3"
  },
  "language_info": {
   "codemirror_mode": {
    "name": "ipython",
    "version": 3
   },
   "file_extension": ".py",
   "mimetype": "text/x-python",
   "name": "python",
   "nbconvert_exporter": "python",
   "pygments_lexer": "ipython3",
   "version": "3.6.8"
  }
 },
 "nbformat": 4,
 "nbformat_minor": 2
}
